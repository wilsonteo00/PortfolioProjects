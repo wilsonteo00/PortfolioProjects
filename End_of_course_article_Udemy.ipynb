{
  "nbformat": 4,
  "nbformat_minor": 0,
  "metadata": {
    "colab": {
      "name": "End of course article - Udemy.ipynb",
      "provenance": [],
      "include_colab_link": true
    },
    "kernelspec": {
      "display_name": "Python 3",
      "language": "python",
      "name": "python3"
    },
    "language_info": {
      "codemirror_mode": {
        "name": "ipython",
        "version": 3
      },
      "file_extension": ".py",
      "mimetype": "text/x-python",
      "name": "python",
      "nbconvert_exporter": "python",
      "pygments_lexer": "ipython3",
      "version": "3.7.10"
    },
    "widgets": {
      "application/vnd.jupyter.widget-state+json": {
        "3f3256c7a0e345098f5466911adefd34": {
          "model_module": "@jupyter-widgets/controls",
          "model_name": "IntProgressModel",
          "state": {
            "_view_name": "ProgressView",
            "style": "IPY_MODEL_269077d4ac8f48f48d94c2e7ae527a23",
            "_dom_classes": [],
            "description": "Processing: ",
            "_model_name": "IntProgressModel",
            "bar_style": "",
            "max": 3,
            "_view_module": "@jupyter-widgets/controls",
            "_model_module_version": "1.5.0",
            "value": 3,
            "_view_count": null,
            "_view_module_version": "1.5.0",
            "orientation": "horizontal",
            "min": 0,
            "description_tooltip": null,
            "_model_module": "@jupyter-widgets/controls",
            "layout": "IPY_MODEL_c949c60a1b734888a4b7f91bf3ff5678"
          }
        },
        "269077d4ac8f48f48d94c2e7ae527a23": {
          "model_module": "@jupyter-widgets/controls",
          "model_name": "ProgressStyleModel",
          "state": {
            "_view_name": "StyleView",
            "_model_name": "ProgressStyleModel",
            "description_width": "",
            "_view_module": "@jupyter-widgets/base",
            "_model_module_version": "1.5.0",
            "_view_count": null,
            "_view_module_version": "1.2.0",
            "bar_color": null,
            "_model_module": "@jupyter-widgets/controls"
          }
        },
        "c949c60a1b734888a4b7f91bf3ff5678": {
          "model_module": "@jupyter-widgets/base",
          "model_name": "LayoutModel",
          "state": {
            "_view_name": "LayoutView",
            "grid_template_rows": null,
            "right": null,
            "justify_content": null,
            "_view_module": "@jupyter-widgets/base",
            "overflow": null,
            "_model_module_version": "1.2.0",
            "_view_count": null,
            "flex_flow": null,
            "width": null,
            "min_width": null,
            "border": null,
            "align_items": null,
            "bottom": null,
            "_model_module": "@jupyter-widgets/base",
            "top": null,
            "grid_column": null,
            "overflow_y": null,
            "overflow_x": null,
            "grid_auto_flow": null,
            "grid_area": null,
            "grid_template_columns": null,
            "flex": null,
            "_model_name": "LayoutModel",
            "justify_items": null,
            "grid_row": null,
            "max_height": null,
            "align_content": null,
            "visibility": null,
            "align_self": null,
            "height": null,
            "min_height": null,
            "padding": null,
            "grid_auto_rows": null,
            "grid_gap": null,
            "max_width": null,
            "order": null,
            "_view_module_version": "1.2.0",
            "grid_template_areas": null,
            "object_position": null,
            "object_fit": null,
            "grid_auto_columns": null,
            "margin": null,
            "display": null,
            "left": null
          }
        },
        "d68efb9c701c41d3ad5e7e3eb6e96034": {
          "model_module": "@jupyter-widgets/controls",
          "model_name": "IntProgressModel",
          "state": {
            "_view_name": "ProgressView",
            "style": "IPY_MODEL_12c7ca571a4d457fa9f5bef3b1e3ce14",
            "_dom_classes": [],
            "description": "Processing: ",
            "_model_name": "IntProgressModel",
            "bar_style": "",
            "max": 89,
            "_view_module": "@jupyter-widgets/controls",
            "_model_module_version": "1.5.0",
            "value": 89,
            "_view_count": null,
            "_view_module_version": "1.5.0",
            "orientation": "horizontal",
            "min": 0,
            "description_tooltip": null,
            "_model_module": "@jupyter-widgets/controls",
            "layout": "IPY_MODEL_3170be0cab6f4339970e9ead91fbeeb7"
          }
        },
        "12c7ca571a4d457fa9f5bef3b1e3ce14": {
          "model_module": "@jupyter-widgets/controls",
          "model_name": "ProgressStyleModel",
          "state": {
            "_view_name": "StyleView",
            "_model_name": "ProgressStyleModel",
            "description_width": "",
            "_view_module": "@jupyter-widgets/base",
            "_model_module_version": "1.5.0",
            "_view_count": null,
            "_view_module_version": "1.2.0",
            "bar_color": null,
            "_model_module": "@jupyter-widgets/controls"
          }
        },
        "3170be0cab6f4339970e9ead91fbeeb7": {
          "model_module": "@jupyter-widgets/base",
          "model_name": "LayoutModel",
          "state": {
            "_view_name": "LayoutView",
            "grid_template_rows": null,
            "right": null,
            "justify_content": null,
            "_view_module": "@jupyter-widgets/base",
            "overflow": null,
            "_model_module_version": "1.2.0",
            "_view_count": null,
            "flex_flow": null,
            "width": null,
            "min_width": null,
            "border": null,
            "align_items": null,
            "bottom": null,
            "_model_module": "@jupyter-widgets/base",
            "top": null,
            "grid_column": null,
            "overflow_y": null,
            "overflow_x": null,
            "grid_auto_flow": null,
            "grid_area": null,
            "grid_template_columns": null,
            "flex": null,
            "_model_name": "LayoutModel",
            "justify_items": null,
            "grid_row": null,
            "max_height": null,
            "align_content": null,
            "visibility": null,
            "align_self": null,
            "height": null,
            "min_height": null,
            "padding": null,
            "grid_auto_rows": null,
            "grid_gap": null,
            "max_width": null,
            "order": null,
            "_view_module_version": "1.2.0",
            "grid_template_areas": null,
            "object_position": null,
            "object_fit": null,
            "grid_auto_columns": null,
            "margin": null,
            "display": null,
            "left": null
          }
        },
        "d629f038a2074fe39645a7c4030e67a7": {
          "model_module": "@jupyter-widgets/controls",
          "model_name": "IntProgressModel",
          "state": {
            "_view_name": "ProgressView",
            "style": "IPY_MODEL_173023a9b95045ccb559f07b8e20a0cd",
            "_dom_classes": [],
            "description": "Processing: ",
            "_model_name": "IntProgressModel",
            "bar_style": "",
            "max": 4,
            "_view_module": "@jupyter-widgets/controls",
            "_model_module_version": "1.5.0",
            "value": 4,
            "_view_count": null,
            "_view_module_version": "1.5.0",
            "orientation": "horizontal",
            "min": 0,
            "description_tooltip": null,
            "_model_module": "@jupyter-widgets/controls",
            "layout": "IPY_MODEL_f491b14776cc437a8538011547ac6204"
          }
        },
        "173023a9b95045ccb559f07b8e20a0cd": {
          "model_module": "@jupyter-widgets/controls",
          "model_name": "ProgressStyleModel",
          "state": {
            "_view_name": "StyleView",
            "_model_name": "ProgressStyleModel",
            "description_width": "",
            "_view_module": "@jupyter-widgets/base",
            "_model_module_version": "1.5.0",
            "_view_count": null,
            "_view_module_version": "1.2.0",
            "bar_color": null,
            "_model_module": "@jupyter-widgets/controls"
          }
        },
        "f491b14776cc437a8538011547ac6204": {
          "model_module": "@jupyter-widgets/base",
          "model_name": "LayoutModel",
          "state": {
            "_view_name": "LayoutView",
            "grid_template_rows": null,
            "right": null,
            "justify_content": null,
            "_view_module": "@jupyter-widgets/base",
            "overflow": null,
            "_model_module_version": "1.2.0",
            "_view_count": null,
            "flex_flow": null,
            "width": null,
            "min_width": null,
            "border": null,
            "align_items": null,
            "bottom": null,
            "_model_module": "@jupyter-widgets/base",
            "top": null,
            "grid_column": null,
            "overflow_y": null,
            "overflow_x": null,
            "grid_auto_flow": null,
            "grid_area": null,
            "grid_template_columns": null,
            "flex": null,
            "_model_name": "LayoutModel",
            "justify_items": null,
            "grid_row": null,
            "max_height": null,
            "align_content": null,
            "visibility": null,
            "align_self": null,
            "height": null,
            "min_height": null,
            "padding": null,
            "grid_auto_rows": null,
            "grid_gap": null,
            "max_width": null,
            "order": null,
            "_view_module_version": "1.2.0",
            "grid_template_areas": null,
            "object_position": null,
            "object_fit": null,
            "grid_auto_columns": null,
            "margin": null,
            "display": null,
            "left": null
          }
        },
        "7f4ca785b49e4c978b9235958d7aa951": {
          "model_module": "@jupyter-widgets/controls",
          "model_name": "IntProgressModel",
          "state": {
            "_view_name": "ProgressView",
            "style": "IPY_MODEL_d90f9c8cb35f4309b5535c66b6e3ab5a",
            "_dom_classes": [],
            "description": "Processing: ",
            "_model_name": "IntProgressModel",
            "bar_style": "",
            "max": 7,
            "_view_module": "@jupyter-widgets/controls",
            "_model_module_version": "1.5.0",
            "value": 7,
            "_view_count": null,
            "_view_module_version": "1.5.0",
            "orientation": "horizontal",
            "min": 0,
            "description_tooltip": null,
            "_model_module": "@jupyter-widgets/controls",
            "layout": "IPY_MODEL_a56991ac52144e59bb23f12fe3a4e422"
          }
        },
        "d90f9c8cb35f4309b5535c66b6e3ab5a": {
          "model_module": "@jupyter-widgets/controls",
          "model_name": "ProgressStyleModel",
          "state": {
            "_view_name": "StyleView",
            "_model_name": "ProgressStyleModel",
            "description_width": "",
            "_view_module": "@jupyter-widgets/base",
            "_model_module_version": "1.5.0",
            "_view_count": null,
            "_view_module_version": "1.2.0",
            "bar_color": null,
            "_model_module": "@jupyter-widgets/controls"
          }
        },
        "a56991ac52144e59bb23f12fe3a4e422": {
          "model_module": "@jupyter-widgets/base",
          "model_name": "LayoutModel",
          "state": {
            "_view_name": "LayoutView",
            "grid_template_rows": null,
            "right": null,
            "justify_content": null,
            "_view_module": "@jupyter-widgets/base",
            "overflow": null,
            "_model_module_version": "1.2.0",
            "_view_count": null,
            "flex_flow": null,
            "width": null,
            "min_width": null,
            "border": null,
            "align_items": null,
            "bottom": null,
            "_model_module": "@jupyter-widgets/base",
            "top": null,
            "grid_column": null,
            "overflow_y": null,
            "overflow_x": null,
            "grid_auto_flow": null,
            "grid_area": null,
            "grid_template_columns": null,
            "flex": null,
            "_model_name": "LayoutModel",
            "justify_items": null,
            "grid_row": null,
            "max_height": null,
            "align_content": null,
            "visibility": null,
            "align_self": null,
            "height": null,
            "min_height": null,
            "padding": null,
            "grid_auto_rows": null,
            "grid_gap": null,
            "max_width": null,
            "order": null,
            "_view_module_version": "1.2.0",
            "grid_template_areas": null,
            "object_position": null,
            "object_fit": null,
            "grid_auto_columns": null,
            "margin": null,
            "display": null,
            "left": null
          }
        }
      }
    }
  },
  "cells": [
    {
      "cell_type": "markdown",
      "metadata": {
        "id": "view-in-github",
        "colab_type": "text"
      },
      "source": [
        "<a href=\"https://colab.research.google.com/github/wilsonteo00/PortfolioProjects/blob/main/End_of_course_article_Udemy.ipynb\" target=\"_parent\"><img src=\"https://colab.research.google.com/assets/colab-badge.svg\" alt=\"Open In Colab\"/></a>"
      ]
    },
    {
      "cell_type": "markdown",
      "metadata": {
        "id": "0_T16QRvmvxT"
      },
      "source": [
        "**This is an Exploratory Data Analysis on the Udemy dataset<br />\n",
        "Name of dataset: IT & Software Courses Udemy - 22k+ courses<br />\n",
        "Source of dataset: https://www.kaggle.com/jilkothari/it-software-courses-udemy-22k-courses<br />\n",
        "<br />\n",
        "This project will be focusing on answering the following questions:**\n",
        "1. What makes a course popular in Udemy?\n",
        "2. Are there any trend in the Udemy over the years?\n",
        "3. Interesting insights as a learner\n",
        "4. Interesting insights as a udemy content creator\n",
        "5. Are we able to predict the number of subscribers effectively?\n"
      ]
    },
    {
      "cell_type": "markdown",
      "metadata": {
        "id": "9_y7Azzj0j6L"
      },
      "source": [
        "**Summary**"
      ]
    },
    {
      "cell_type": "markdown",
      "metadata": {
        "id": "nksBBGcpmvxW"
      },
      "source": [
        "Setting up the environment\n",
        "1. Importing the relevant packages\n",
        "2. Importing data from the file into data frame"
      ]
    },
    {
      "cell_type": "markdown",
      "metadata": {
        "id": "wouAHFrT4A6a"
      },
      "source": [
        "**Installing the necessary packages which is not avaliable in google colab**"
      ]
    },
    {
      "cell_type": "code",
      "metadata": {
        "cellView": "form",
        "id": "01HBTGe9J2fK"
      },
      "source": [
        "#@title\n",
        "# Install pandas profiling\n",
        "!pip3 install -I pandas_profiling --quiet\n",
        "\n",
        "# pycaret is a low code machine learning package\n",
        "# shap is a package used by pycaret to explain the outputs of a model\n",
        "!pip3 install pycaret --user --quiet\n",
        "!pip3 install shap --user --quiet\n",
        "\n",
        "import warnings\n",
        "warnings.filterwarnings('ignore')"
      ],
      "execution_count": null,
      "outputs": []
    },
    {
      "cell_type": "markdown",
      "metadata": {
        "id": "Ii2B7i8h4L9d"
      },
      "source": [
        "**Importing the relevant packages**\n",
        "1. For basic data cleaning operation - Numpy and Pandas\n",
        "2. For visualisation - Matplotlib, plotly express and seaborn\n",
        "3. For machine learning - Pycaret regression module"
      ]
    },
    {
      "cell_type": "code",
      "metadata": {
        "id": "9hkvhM3KmvxY",
        "cellView": "form"
      },
      "source": [
        "#@title\n",
        "# Import the relevant packages\n",
        "\n",
        "# for basic data cleaning operation\n",
        "import numpy as np\n",
        "import pandas as pd\n",
        "\n",
        "# for visualisation\n",
        "import matplotlib\n",
        "import matplotlib.pyplot as plt\n",
        "plt.style.use('ggplot')\n",
        "from matplotlib.pyplot import figure\n",
        "import plotly.express as px\n",
        "import seaborn as sns\n",
        "\n",
        "%matplotlib inline\n",
        "# Adjusts the configuration of the plots\n",
        "matplotlib.rcParams['figure.figsize'] = (20,16)\n",
        "\n",
        "# for machine learning\n",
        "from pycaret.regression import *\n",
        "# documentation: https://pycaret.readthedocs.io/en/latest/api/regression.html"
      ],
      "execution_count": 1,
      "outputs": []
    },
    {
      "cell_type": "code",
      "metadata": {
        "colab": {
          "base_uri": "https://localhost:8080/"
        },
        "id": "nDZolmvNn8RV",
        "cellView": "form",
        "outputId": "e08769ae-e375-4d69-9735-670e387958c5"
      },
      "source": [
        "#@title\n",
        "from google.colab import drive\n",
        "drive.mount('/content/drive')"
      ],
      "execution_count": 3,
      "outputs": [
        {
          "output_type": "stream",
          "text": [
            "Mounted at /content/drive\n"
          ],
          "name": "stdout"
        }
      ]
    },
    {
      "cell_type": "code",
      "metadata": {
        "id": "Xy8X4c2HmvxZ",
        "cellView": "form"
      },
      "source": [
        "#@title\n",
        "# Importing data from file\n",
        "\n",
        "df = pd.read_csv('/content/drive/MyDrive/Udemy end of course article/Udemy_data.csv')"
      ],
      "execution_count": 4,
      "outputs": []
    },
    {
      "cell_type": "markdown",
      "metadata": {
        "id": "6mqWvyVzmvxZ"
      },
      "source": [
        "Getting an initial feel of the data\n",
        "1. Look at the first 5 rows of data\n",
        "2. Getting indepth information for the data (Data types, number of rows, number of non-null)\n",
        "3. Identify how much data are missing for each column\n",
        "4. Look at the number of unique values for each column\n",
        "5. Looking at the column names"
      ]
    },
    {
      "cell_type": "markdown",
      "metadata": {
        "id": "8eO72v9f27vq"
      },
      "source": [
        "**Taking the first look into our dataset**"
      ]
    },
    {
      "cell_type": "code",
      "metadata": {
        "colab": {
          "base_uri": "https://localhost:8080/",
          "height": 513
        },
        "id": "FImMuqhnmvxa",
        "cellView": "form",
        "outputId": "babf3f85-c1a1-4f24-cc32-c80ecac439bd"
      },
      "source": [
        "#@title\n",
        "# Initial look at the data\n",
        "\n",
        "df.head()"
      ],
      "execution_count": 5,
      "outputs": [
        {
          "output_type": "execute_result",
          "data": {
            "text/html": [
              "<div>\n",
              "<style scoped>\n",
              "    .dataframe tbody tr th:only-of-type {\n",
              "        vertical-align: middle;\n",
              "    }\n",
              "\n",
              "    .dataframe tbody tr th {\n",
              "        vertical-align: top;\n",
              "    }\n",
              "\n",
              "    .dataframe thead th {\n",
              "        text-align: right;\n",
              "    }\n",
              "</style>\n",
              "<table border=\"1\" class=\"dataframe\">\n",
              "  <thead>\n",
              "    <tr style=\"text-align: right;\">\n",
              "      <th></th>\n",
              "      <th>id</th>\n",
              "      <th>title</th>\n",
              "      <th>url</th>\n",
              "      <th>is_paid</th>\n",
              "      <th>num_subscribers</th>\n",
              "      <th>avg_rating</th>\n",
              "      <th>avg_rating_recent</th>\n",
              "      <th>rating</th>\n",
              "      <th>num_reviews</th>\n",
              "      <th>is_wishlisted</th>\n",
              "      <th>num_published_lectures</th>\n",
              "      <th>num_published_practice_tests</th>\n",
              "      <th>created</th>\n",
              "      <th>published_time</th>\n",
              "      <th>discount_price__amount</th>\n",
              "      <th>discount_price__currency</th>\n",
              "      <th>discount_price__price_string</th>\n",
              "      <th>price_detail__amount</th>\n",
              "      <th>price_detail__currency</th>\n",
              "      <th>price_detail__price_string</th>\n",
              "    </tr>\n",
              "  </thead>\n",
              "  <tbody>\n",
              "    <tr>\n",
              "      <th>0</th>\n",
              "      <td>762616</td>\n",
              "      <td>The Complete SQL Bootcamp 2020: Go from Zero t...</td>\n",
              "      <td>/course/the-complete-sql-bootcamp/</td>\n",
              "      <td>True</td>\n",
              "      <td>295509</td>\n",
              "      <td>4.66019</td>\n",
              "      <td>4.67874</td>\n",
              "      <td>4.67874</td>\n",
              "      <td>78006</td>\n",
              "      <td>False</td>\n",
              "      <td>84</td>\n",
              "      <td>0</td>\n",
              "      <td>2016-02-14T22:57:48Z</td>\n",
              "      <td>2016-04-06T05:16:11Z</td>\n",
              "      <td>455.0</td>\n",
              "      <td>INR</td>\n",
              "      <td>₹455</td>\n",
              "      <td>8640.0</td>\n",
              "      <td>INR</td>\n",
              "      <td>₹8,640</td>\n",
              "    </tr>\n",
              "    <tr>\n",
              "      <th>1</th>\n",
              "      <td>937678</td>\n",
              "      <td>Tableau 2020 A-Z: Hands-On Tableau Training fo...</td>\n",
              "      <td>/course/tableau10/</td>\n",
              "      <td>True</td>\n",
              "      <td>209070</td>\n",
              "      <td>4.58956</td>\n",
              "      <td>4.60015</td>\n",
              "      <td>4.60015</td>\n",
              "      <td>54581</td>\n",
              "      <td>False</td>\n",
              "      <td>78</td>\n",
              "      <td>0</td>\n",
              "      <td>2016-08-22T12:10:18Z</td>\n",
              "      <td>2016-08-23T16:59:49Z</td>\n",
              "      <td>455.0</td>\n",
              "      <td>INR</td>\n",
              "      <td>₹455</td>\n",
              "      <td>8640.0</td>\n",
              "      <td>INR</td>\n",
              "      <td>₹8,640</td>\n",
              "    </tr>\n",
              "    <tr>\n",
              "      <th>2</th>\n",
              "      <td>1361790</td>\n",
              "      <td>PMP Exam Prep Seminar -  PMBOK Guide 6</td>\n",
              "      <td>/course/pmp-pmbok6-35-pdus/</td>\n",
              "      <td>True</td>\n",
              "      <td>155282</td>\n",
              "      <td>4.59491</td>\n",
              "      <td>4.59326</td>\n",
              "      <td>4.59326</td>\n",
              "      <td>52653</td>\n",
              "      <td>False</td>\n",
              "      <td>292</td>\n",
              "      <td>2</td>\n",
              "      <td>2017-09-26T16:32:48Z</td>\n",
              "      <td>2017-11-14T23:58:14Z</td>\n",
              "      <td>455.0</td>\n",
              "      <td>INR</td>\n",
              "      <td>₹455</td>\n",
              "      <td>8640.0</td>\n",
              "      <td>INR</td>\n",
              "      <td>₹8,640</td>\n",
              "    </tr>\n",
              "    <tr>\n",
              "      <th>3</th>\n",
              "      <td>648826</td>\n",
              "      <td>The Complete Financial Analyst Course 2020</td>\n",
              "      <td>/course/the-complete-financial-analyst-course/</td>\n",
              "      <td>True</td>\n",
              "      <td>245860</td>\n",
              "      <td>4.54407</td>\n",
              "      <td>4.53772</td>\n",
              "      <td>4.53772</td>\n",
              "      <td>46447</td>\n",
              "      <td>False</td>\n",
              "      <td>338</td>\n",
              "      <td>0</td>\n",
              "      <td>2015-10-23T13:34:35Z</td>\n",
              "      <td>2016-01-21T01:38:48Z</td>\n",
              "      <td>455.0</td>\n",
              "      <td>INR</td>\n",
              "      <td>₹455</td>\n",
              "      <td>8640.0</td>\n",
              "      <td>INR</td>\n",
              "      <td>₹8,640</td>\n",
              "    </tr>\n",
              "    <tr>\n",
              "      <th>4</th>\n",
              "      <td>637930</td>\n",
              "      <td>An Entire MBA in 1 Course:Award Winning Busine...</td>\n",
              "      <td>/course/an-entire-mba-in-1-courseaward-winning...</td>\n",
              "      <td>True</td>\n",
              "      <td>374836</td>\n",
              "      <td>4.47080</td>\n",
              "      <td>4.47173</td>\n",
              "      <td>4.47173</td>\n",
              "      <td>41630</td>\n",
              "      <td>False</td>\n",
              "      <td>83</td>\n",
              "      <td>0</td>\n",
              "      <td>2015-10-12T06:39:46Z</td>\n",
              "      <td>2016-01-11T21:39:33Z</td>\n",
              "      <td>455.0</td>\n",
              "      <td>INR</td>\n",
              "      <td>₹455</td>\n",
              "      <td>8640.0</td>\n",
              "      <td>INR</td>\n",
              "      <td>₹8,640</td>\n",
              "    </tr>\n",
              "  </tbody>\n",
              "</table>\n",
              "</div>"
            ],
            "text/plain": [
              "        id                                              title  \\\n",
              "0   762616  The Complete SQL Bootcamp 2020: Go from Zero t...   \n",
              "1   937678  Tableau 2020 A-Z: Hands-On Tableau Training fo...   \n",
              "2  1361790             PMP Exam Prep Seminar -  PMBOK Guide 6   \n",
              "3   648826         The Complete Financial Analyst Course 2020   \n",
              "4   637930  An Entire MBA in 1 Course:Award Winning Busine...   \n",
              "\n",
              "                                                 url  is_paid  \\\n",
              "0                 /course/the-complete-sql-bootcamp/     True   \n",
              "1                                 /course/tableau10/     True   \n",
              "2                        /course/pmp-pmbok6-35-pdus/     True   \n",
              "3     /course/the-complete-financial-analyst-course/     True   \n",
              "4  /course/an-entire-mba-in-1-courseaward-winning...     True   \n",
              "\n",
              "   num_subscribers  avg_rating  avg_rating_recent   rating  num_reviews  \\\n",
              "0           295509     4.66019            4.67874  4.67874        78006   \n",
              "1           209070     4.58956            4.60015  4.60015        54581   \n",
              "2           155282     4.59491            4.59326  4.59326        52653   \n",
              "3           245860     4.54407            4.53772  4.53772        46447   \n",
              "4           374836     4.47080            4.47173  4.47173        41630   \n",
              "\n",
              "   is_wishlisted  num_published_lectures  num_published_practice_tests  \\\n",
              "0          False                      84                             0   \n",
              "1          False                      78                             0   \n",
              "2          False                     292                             2   \n",
              "3          False                     338                             0   \n",
              "4          False                      83                             0   \n",
              "\n",
              "                created        published_time  discount_price__amount  \\\n",
              "0  2016-02-14T22:57:48Z  2016-04-06T05:16:11Z                   455.0   \n",
              "1  2016-08-22T12:10:18Z  2016-08-23T16:59:49Z                   455.0   \n",
              "2  2017-09-26T16:32:48Z  2017-11-14T23:58:14Z                   455.0   \n",
              "3  2015-10-23T13:34:35Z  2016-01-21T01:38:48Z                   455.0   \n",
              "4  2015-10-12T06:39:46Z  2016-01-11T21:39:33Z                   455.0   \n",
              "\n",
              "  discount_price__currency discount_price__price_string  price_detail__amount  \\\n",
              "0                      INR                         ₹455                8640.0   \n",
              "1                      INR                         ₹455                8640.0   \n",
              "2                      INR                         ₹455                8640.0   \n",
              "3                      INR                         ₹455                8640.0   \n",
              "4                      INR                         ₹455                8640.0   \n",
              "\n",
              "  price_detail__currency price_detail__price_string  \n",
              "0                    INR                     ₹8,640  \n",
              "1                    INR                     ₹8,640  \n",
              "2                    INR                     ₹8,640  \n",
              "3                    INR                     ₹8,640  \n",
              "4                    INR                     ₹8,640  "
            ]
          },
          "metadata": {
            "tags": []
          },
          "execution_count": 5
        }
      ]
    },
    {
      "cell_type": "markdown",
      "metadata": {
        "id": "F0Mc8Ba53GMP"
      },
      "source": [
        "**Understanding the data types of the columns and the number of empty cells**"
      ]
    },
    {
      "cell_type": "code",
      "metadata": {
        "colab": {
          "base_uri": "https://localhost:8080/"
        },
        "id": "kW8R2C-gmvxa",
        "cellView": "form",
        "outputId": "b401bc92-4e6a-4710-83b7-be92a0430d30"
      },
      "source": [
        "#@title\n",
        "# To get more information about the data\n",
        "\n",
        "df.info()"
      ],
      "execution_count": 6,
      "outputs": [
        {
          "output_type": "stream",
          "text": [
            "<class 'pandas.core.frame.DataFrame'>\n",
            "RangeIndex: 22853 entries, 0 to 22852\n",
            "Data columns (total 20 columns):\n",
            " #   Column                        Non-Null Count  Dtype  \n",
            "---  ------                        --------------  -----  \n",
            " 0   id                            22853 non-null  int64  \n",
            " 1   title                         22853 non-null  object \n",
            " 2   url                           22853 non-null  object \n",
            " 3   is_paid                       22853 non-null  bool   \n",
            " 4   num_subscribers               22853 non-null  int64  \n",
            " 5   avg_rating                    22853 non-null  float64\n",
            " 6   avg_rating_recent             22853 non-null  float64\n",
            " 7   rating                        22853 non-null  float64\n",
            " 8   num_reviews                   22853 non-null  int64  \n",
            " 9   is_wishlisted                 22853 non-null  bool   \n",
            " 10  num_published_lectures        22853 non-null  int64  \n",
            " 11  num_published_practice_tests  22853 non-null  int64  \n",
            " 12  created                       22853 non-null  object \n",
            " 13  published_time                22853 non-null  object \n",
            " 14  discount_price__amount        21024 non-null  float64\n",
            " 15  discount_price__currency      21024 non-null  object \n",
            " 16  discount_price__price_string  21024 non-null  object \n",
            " 17  price_detail__amount          22356 non-null  float64\n",
            " 18  price_detail__currency        22356 non-null  object \n",
            " 19  price_detail__price_string    22356 non-null  object \n",
            "dtypes: bool(2), float64(5), int64(5), object(8)\n",
            "memory usage: 3.2+ MB\n"
          ],
          "name": "stdout"
        }
      ]
    },
    {
      "cell_type": "markdown",
      "metadata": {
        "id": "2VTY7D_Q3SdP"
      },
      "source": [
        "**Using a for loop to show us the percentage of missing data for each column**"
      ]
    },
    {
      "cell_type": "code",
      "metadata": {
        "colab": {
          "base_uri": "https://localhost:8080/"
        },
        "id": "SFiSajK6mvxb",
        "cellView": "form",
        "outputId": "0185b6fc-d9cd-4b2b-fb8e-a845aa9f31f2"
      },
      "source": [
        "#@title\n",
        "# To check for missing data\n",
        "# Perform a loop through the data to get the percentage of completeness\n",
        "\n",
        "for col in df.columns:\n",
        "    pct_missing = np.mean(df[col].isnull())\n",
        "    print(f'{col} - {round(pct_missing,5)}%')"
      ],
      "execution_count": 7,
      "outputs": [
        {
          "output_type": "stream",
          "text": [
            "id - 0.0%\n",
            "title - 0.0%\n",
            "url - 0.0%\n",
            "is_paid - 0.0%\n",
            "num_subscribers - 0.0%\n",
            "avg_rating - 0.0%\n",
            "avg_rating_recent - 0.0%\n",
            "rating - 0.0%\n",
            "num_reviews - 0.0%\n",
            "is_wishlisted - 0.0%\n",
            "num_published_lectures - 0.0%\n",
            "num_published_practice_tests - 0.0%\n",
            "created - 0.0%\n",
            "published_time - 0.0%\n",
            "discount_price__amount - 0.08003%\n",
            "discount_price__currency - 0.08003%\n",
            "discount_price__price_string - 0.08003%\n",
            "price_detail__amount - 0.02175%\n",
            "price_detail__currency - 0.02175%\n",
            "price_detail__price_string - 0.02175%\n"
          ],
          "name": "stdout"
        }
      ]
    },
    {
      "cell_type": "markdown",
      "metadata": {
        "id": "XCbCp4R73usv"
      },
      "source": [
        "**Showing the number of unique values in each columns which allows us to decide how to approach the data** "
      ]
    },
    {
      "cell_type": "code",
      "metadata": {
        "colab": {
          "base_uri": "https://localhost:8080/"
        },
        "id": "zqw_XTKymvxc",
        "outputId": "c4ae03f8-6af0-41a4-eed4-442fc1ede8f1"
      },
      "source": [
        "# Getting the number of unique values for each column\n",
        "\n",
        "df.nunique()"
      ],
      "execution_count": 8,
      "outputs": [
        {
          "output_type": "execute_result",
          "data": {
            "text/plain": [
              "id                              22853\n",
              "title                           22750\n",
              "url                             22853\n",
              "is_paid                             2\n",
              "num_subscribers                  6824\n",
              "avg_rating                       3235\n",
              "avg_rating_recent               20070\n",
              "rating                          20070\n",
              "num_reviews                      1750\n",
              "is_wishlisted                       1\n",
              "num_published_lectures            392\n",
              "num_published_practice_tests        7\n",
              "created                         22851\n",
              "published_time                  22846\n",
              "discount_price__amount             55\n",
              "discount_price__currency            1\n",
              "discount_price__price_string       55\n",
              "price_detail__amount               37\n",
              "price_detail__currency              1\n",
              "price_detail__price_string         37\n",
              "dtype: int64"
            ]
          },
          "metadata": {
            "tags": []
          },
          "execution_count": 8
        }
      ]
    },
    {
      "cell_type": "markdown",
      "metadata": {
        "id": "VA3qBras5JHu"
      },
      "source": [
        "**Printing out the column names**"
      ]
    },
    {
      "cell_type": "code",
      "metadata": {
        "colab": {
          "base_uri": "https://localhost:8080/"
        },
        "id": "_lxUjAVsmvxd",
        "outputId": "f1f989d9-e429-4c4d-ad77-583be9aa0d6a"
      },
      "source": [
        "# Viewing the column names\n",
        "\n",
        "df.columns"
      ],
      "execution_count": 9,
      "outputs": [
        {
          "output_type": "execute_result",
          "data": {
            "text/plain": [
              "Index(['id', 'title', 'url', 'is_paid', 'num_subscribers', 'avg_rating',\n",
              "       'avg_rating_recent', 'rating', 'num_reviews', 'is_wishlisted',\n",
              "       'num_published_lectures', 'num_published_practice_tests', 'created',\n",
              "       'published_time', 'discount_price__amount', 'discount_price__currency',\n",
              "       'discount_price__price_string', 'price_detail__amount',\n",
              "       'price_detail__currency', 'price_detail__price_string'],\n",
              "      dtype='object')"
            ]
          },
          "metadata": {
            "tags": []
          },
          "execution_count": 9
        }
      ]
    },
    {
      "cell_type": "markdown",
      "metadata": {
        "id": "KS8v713Cmvxd"
      },
      "source": [
        "After doing the initial observation of the data, there are a few things that need to be done:\n",
        "\n",
        "1. Rename the column names for clarity.\n",
        "2. Changing created and published_time into the datetime format.\n",
        "3. Expanding the datetime column into days, months and years column.\n",
        "4. Inspect the missing values and decide what to do with it.\n",
        "5. Add in additional columns for discounted price and price detail in SGD for easier reference. \n",
        "6. Drop off currency and price string columns as they are not useful.\n",
        "7. Drop off wishlisted column as well as it all have one unique value (Not meaningful). \n"
      ]
    },
    {
      "cell_type": "markdown",
      "metadata": {
        "id": "s1Hz3xwq5Qw1"
      },
      "source": [
        "**Rename the column names and inspect the data**"
      ]
    },
    {
      "cell_type": "code",
      "metadata": {
        "colab": {
          "base_uri": "https://localhost:8080/",
          "height": 335
        },
        "id": "VOsAXOlsmvxe",
        "outputId": "c40d5ac0-c35b-42ca-8b13-38e59a1dcd1f"
      },
      "source": [
        "# Rename columns for clarity\n",
        "\n",
        "df = df.rename(columns = {'price_detail__amount':'full_price_INR',\n",
        "                          'discount_price__amount':'discount_price_INR',\n",
        "                          'published_time':'published_date',\n",
        "                          'created':'created_date',\n",
        "                          'num_published_practice_tests':'num_tests',\n",
        "                          'num_published_lectures':'num_lectures'}) \n",
        "\n",
        "df.head(2)"
      ],
      "execution_count": 21,
      "outputs": [
        {
          "output_type": "execute_result",
          "data": {
            "text/html": [
              "<div>\n",
              "<style scoped>\n",
              "    .dataframe tbody tr th:only-of-type {\n",
              "        vertical-align: middle;\n",
              "    }\n",
              "\n",
              "    .dataframe tbody tr th {\n",
              "        vertical-align: top;\n",
              "    }\n",
              "\n",
              "    .dataframe thead th {\n",
              "        text-align: right;\n",
              "    }\n",
              "</style>\n",
              "<table border=\"1\" class=\"dataframe\">\n",
              "  <thead>\n",
              "    <tr style=\"text-align: right;\">\n",
              "      <th></th>\n",
              "      <th>id</th>\n",
              "      <th>title</th>\n",
              "      <th>url</th>\n",
              "      <th>is_paid</th>\n",
              "      <th>num_subscribers</th>\n",
              "      <th>avg_rating</th>\n",
              "      <th>avg_rating_recent</th>\n",
              "      <th>rating</th>\n",
              "      <th>num_reviews</th>\n",
              "      <th>is_wishlisted</th>\n",
              "      <th>num_lectures</th>\n",
              "      <th>num_tests</th>\n",
              "      <th>created_date</th>\n",
              "      <th>published_date</th>\n",
              "      <th>discount_price_INR</th>\n",
              "      <th>discount_price__currency</th>\n",
              "      <th>discount_price__price_string</th>\n",
              "      <th>full_price_INR</th>\n",
              "      <th>price_detail__currency</th>\n",
              "      <th>price_detail__price_string</th>\n",
              "      <th>created_year</th>\n",
              "      <th>created_mth</th>\n",
              "      <th>created_day</th>\n",
              "      <th>published_year</th>\n",
              "      <th>published_mth</th>\n",
              "      <th>published_day</th>\n",
              "      <th>discount_price_SGD</th>\n",
              "      <th>full_price_SGD</th>\n",
              "    </tr>\n",
              "  </thead>\n",
              "  <tbody>\n",
              "    <tr>\n",
              "      <th>0</th>\n",
              "      <td>762616</td>\n",
              "      <td>The Complete SQL Bootcamp 2020: Go from Zero t...</td>\n",
              "      <td>/course/the-complete-sql-bootcamp/</td>\n",
              "      <td>True</td>\n",
              "      <td>295509</td>\n",
              "      <td>4.66019</td>\n",
              "      <td>4.67874</td>\n",
              "      <td>4.67874</td>\n",
              "      <td>78006</td>\n",
              "      <td>False</td>\n",
              "      <td>84</td>\n",
              "      <td>0</td>\n",
              "      <td>2016-02-14</td>\n",
              "      <td>2016-04-06</td>\n",
              "      <td>455.0</td>\n",
              "      <td>INR</td>\n",
              "      <td>₹455</td>\n",
              "      <td>8640.0</td>\n",
              "      <td>INR</td>\n",
              "      <td>₹8,640</td>\n",
              "      <td>2016</td>\n",
              "      <td>2</td>\n",
              "      <td>14</td>\n",
              "      <td>2016</td>\n",
              "      <td>4</td>\n",
              "      <td>6</td>\n",
              "      <td>8.19</td>\n",
              "      <td>155.52</td>\n",
              "    </tr>\n",
              "    <tr>\n",
              "      <th>1</th>\n",
              "      <td>937678</td>\n",
              "      <td>Tableau 2020 A-Z: Hands-On Tableau Training fo...</td>\n",
              "      <td>/course/tableau10/</td>\n",
              "      <td>True</td>\n",
              "      <td>209070</td>\n",
              "      <td>4.58956</td>\n",
              "      <td>4.60015</td>\n",
              "      <td>4.60015</td>\n",
              "      <td>54581</td>\n",
              "      <td>False</td>\n",
              "      <td>78</td>\n",
              "      <td>0</td>\n",
              "      <td>2016-08-22</td>\n",
              "      <td>2016-08-23</td>\n",
              "      <td>455.0</td>\n",
              "      <td>INR</td>\n",
              "      <td>₹455</td>\n",
              "      <td>8640.0</td>\n",
              "      <td>INR</td>\n",
              "      <td>₹8,640</td>\n",
              "      <td>2016</td>\n",
              "      <td>8</td>\n",
              "      <td>22</td>\n",
              "      <td>2016</td>\n",
              "      <td>8</td>\n",
              "      <td>23</td>\n",
              "      <td>8.19</td>\n",
              "      <td>155.52</td>\n",
              "    </tr>\n",
              "  </tbody>\n",
              "</table>\n",
              "</div>"
            ],
            "text/plain": [
              "       id                                              title  \\\n",
              "0  762616  The Complete SQL Bootcamp 2020: Go from Zero t...   \n",
              "1  937678  Tableau 2020 A-Z: Hands-On Tableau Training fo...   \n",
              "\n",
              "                                  url  is_paid  num_subscribers  avg_rating  \\\n",
              "0  /course/the-complete-sql-bootcamp/     True           295509     4.66019   \n",
              "1                  /course/tableau10/     True           209070     4.58956   \n",
              "\n",
              "   avg_rating_recent   rating  num_reviews  is_wishlisted  num_lectures  \\\n",
              "0            4.67874  4.67874        78006          False            84   \n",
              "1            4.60015  4.60015        54581          False            78   \n",
              "\n",
              "   num_tests created_date published_date  discount_price_INR  \\\n",
              "0          0   2016-02-14     2016-04-06               455.0   \n",
              "1          0   2016-08-22     2016-08-23               455.0   \n",
              "\n",
              "  discount_price__currency discount_price__price_string  full_price_INR  \\\n",
              "0                      INR                         ₹455          8640.0   \n",
              "1                      INR                         ₹455          8640.0   \n",
              "\n",
              "  price_detail__currency price_detail__price_string  created_year  \\\n",
              "0                    INR                     ₹8,640          2016   \n",
              "1                    INR                     ₹8,640          2016   \n",
              "\n",
              "   created_mth  created_day  published_year  published_mth  published_day  \\\n",
              "0            2           14            2016              4              6   \n",
              "1            8           22            2016              8             23   \n",
              "\n",
              "   discount_price_SGD  full_price_SGD  \n",
              "0                8.19          155.52  \n",
              "1                8.19          155.52  "
            ]
          },
          "metadata": {
            "tags": []
          },
          "execution_count": 21
        }
      ]
    },
    {
      "cell_type": "markdown",
      "metadata": {
        "id": "SyB6XgX25b_9"
      },
      "source": [
        "**Changing the dates column into datetime format and extract day, month and year for further analysis later**\n",
        "1. Extract only the yyyy/mm/dd portion from the column\n",
        "2. Running datetime function then extract the individual day, month and year"
      ]
    },
    {
      "cell_type": "code",
      "metadata": {
        "colab": {
          "base_uri": "https://localhost:8080/",
          "height": 374
        },
        "id": "3nV4E0pTmvxe",
        "outputId": "c4ad1a64-1906-4537-db99-9df92939e054"
      },
      "source": [
        "# Changing created and published dates into datetime format and extract day,month and year from it\n",
        "\n",
        "# for created date\n",
        "df['created_date'] = df.created_date.apply(lambda x: x[:10])\n",
        "df['created_date'] = pd.to_datetime(df[\"created_date\"],format = '%Y/%m/%d')\n",
        "df['created_year'] = df.created_date.dt.year\n",
        "df['created_mth'] = df.created_date.dt.month\n",
        "df['created_day'] = df.created_date.dt.day\n",
        "\n",
        "# for published date\n",
        "df['published_date'] = df.published_date.apply(lambda x: x[:10])\n",
        "df['published_date'] = pd.to_datetime(df[\"published_date\"],format = '%Y/%m/%d')\n",
        "df['published_year'] = df.published_date.dt.year\n",
        "df['published_mth'] = df.published_date.dt.month\n",
        "df['published_day'] = df.published_date.dt.day\n",
        "\n",
        "df.info()"
      ],
      "execution_count": 22,
      "outputs": [
        {
          "output_type": "error",
          "ename": "TypeError",
          "evalue": "ignored",
          "traceback": [
            "\u001b[0;31m---------------------------------------------------------------------------\u001b[0m",
            "\u001b[0;31mTypeError\u001b[0m                                 Traceback (most recent call last)",
            "\u001b[0;32m<ipython-input-22-c1b7b3280247>\u001b[0m in \u001b[0;36m<module>\u001b[0;34m()\u001b[0m\n\u001b[1;32m      2\u001b[0m \u001b[0;34m\u001b[0m\u001b[0m\n\u001b[1;32m      3\u001b[0m \u001b[0;31m# for created date\u001b[0m\u001b[0;34m\u001b[0m\u001b[0;34m\u001b[0m\u001b[0;34m\u001b[0m\u001b[0m\n\u001b[0;32m----> 4\u001b[0;31m \u001b[0mdf\u001b[0m\u001b[0;34m[\u001b[0m\u001b[0;34m'created_date'\u001b[0m\u001b[0;34m]\u001b[0m \u001b[0;34m=\u001b[0m \u001b[0mdf\u001b[0m\u001b[0;34m.\u001b[0m\u001b[0mcreated_date\u001b[0m\u001b[0;34m.\u001b[0m\u001b[0mapply\u001b[0m\u001b[0;34m(\u001b[0m\u001b[0;32mlambda\u001b[0m \u001b[0mx\u001b[0m\u001b[0;34m:\u001b[0m \u001b[0mx\u001b[0m\u001b[0;34m[\u001b[0m\u001b[0;34m:\u001b[0m\u001b[0;36m10\u001b[0m\u001b[0;34m]\u001b[0m\u001b[0;34m)\u001b[0m\u001b[0;34m\u001b[0m\u001b[0;34m\u001b[0m\u001b[0m\n\u001b[0m\u001b[1;32m      5\u001b[0m \u001b[0mdf\u001b[0m\u001b[0;34m[\u001b[0m\u001b[0;34m'created_date'\u001b[0m\u001b[0;34m]\u001b[0m \u001b[0;34m=\u001b[0m \u001b[0mpd\u001b[0m\u001b[0;34m.\u001b[0m\u001b[0mto_datetime\u001b[0m\u001b[0;34m(\u001b[0m\u001b[0mdf\u001b[0m\u001b[0;34m[\u001b[0m\u001b[0;34m\"created_date\"\u001b[0m\u001b[0;34m]\u001b[0m\u001b[0;34m,\u001b[0m\u001b[0mformat\u001b[0m \u001b[0;34m=\u001b[0m \u001b[0;34m'%Y/%m/%d'\u001b[0m\u001b[0;34m)\u001b[0m\u001b[0;34m\u001b[0m\u001b[0;34m\u001b[0m\u001b[0m\n\u001b[1;32m      6\u001b[0m \u001b[0mdf\u001b[0m\u001b[0;34m[\u001b[0m\u001b[0;34m'created_year'\u001b[0m\u001b[0;34m]\u001b[0m \u001b[0;34m=\u001b[0m \u001b[0mdf\u001b[0m\u001b[0;34m.\u001b[0m\u001b[0mcreated_date\u001b[0m\u001b[0;34m.\u001b[0m\u001b[0mdt\u001b[0m\u001b[0;34m.\u001b[0m\u001b[0myear\u001b[0m\u001b[0;34m\u001b[0m\u001b[0;34m\u001b[0m\u001b[0m\n",
            "\u001b[0;32m/usr/local/lib/python3.7/dist-packages/pandas/core/series.py\u001b[0m in \u001b[0;36mapply\u001b[0;34m(self, func, convert_dtype, args, **kwargs)\u001b[0m\n\u001b[1;32m   4354\u001b[0m         \u001b[0mdtype\u001b[0m\u001b[0;34m:\u001b[0m \u001b[0mfloat64\u001b[0m\u001b[0;34m\u001b[0m\u001b[0;34m\u001b[0m\u001b[0m\n\u001b[1;32m   4355\u001b[0m         \"\"\"\n\u001b[0;32m-> 4356\u001b[0;31m         \u001b[0;32mreturn\u001b[0m \u001b[0mSeriesApply\u001b[0m\u001b[0;34m(\u001b[0m\u001b[0mself\u001b[0m\u001b[0;34m,\u001b[0m \u001b[0mfunc\u001b[0m\u001b[0;34m,\u001b[0m \u001b[0mconvert_dtype\u001b[0m\u001b[0;34m,\u001b[0m \u001b[0margs\u001b[0m\u001b[0;34m,\u001b[0m \u001b[0mkwargs\u001b[0m\u001b[0;34m)\u001b[0m\u001b[0;34m.\u001b[0m\u001b[0mapply\u001b[0m\u001b[0;34m(\u001b[0m\u001b[0;34m)\u001b[0m\u001b[0;34m\u001b[0m\u001b[0;34m\u001b[0m\u001b[0m\n\u001b[0m\u001b[1;32m   4357\u001b[0m \u001b[0;34m\u001b[0m\u001b[0m\n\u001b[1;32m   4358\u001b[0m     def _reduce(\n",
            "\u001b[0;32m/usr/local/lib/python3.7/dist-packages/pandas/core/apply.py\u001b[0m in \u001b[0;36mapply\u001b[0;34m(self)\u001b[0m\n\u001b[1;32m   1034\u001b[0m             \u001b[0;32mreturn\u001b[0m \u001b[0mself\u001b[0m\u001b[0;34m.\u001b[0m\u001b[0mapply_str\u001b[0m\u001b[0;34m(\u001b[0m\u001b[0;34m)\u001b[0m\u001b[0;34m\u001b[0m\u001b[0;34m\u001b[0m\u001b[0m\n\u001b[1;32m   1035\u001b[0m \u001b[0;34m\u001b[0m\u001b[0m\n\u001b[0;32m-> 1036\u001b[0;31m         \u001b[0;32mreturn\u001b[0m \u001b[0mself\u001b[0m\u001b[0;34m.\u001b[0m\u001b[0mapply_standard\u001b[0m\u001b[0;34m(\u001b[0m\u001b[0;34m)\u001b[0m\u001b[0;34m\u001b[0m\u001b[0;34m\u001b[0m\u001b[0m\n\u001b[0m\u001b[1;32m   1037\u001b[0m \u001b[0;34m\u001b[0m\u001b[0m\n\u001b[1;32m   1038\u001b[0m     \u001b[0;32mdef\u001b[0m \u001b[0magg\u001b[0m\u001b[0;34m(\u001b[0m\u001b[0mself\u001b[0m\u001b[0;34m)\u001b[0m\u001b[0;34m:\u001b[0m\u001b[0;34m\u001b[0m\u001b[0;34m\u001b[0m\u001b[0m\n",
            "\u001b[0;32m/usr/local/lib/python3.7/dist-packages/pandas/core/apply.py\u001b[0m in \u001b[0;36mapply_standard\u001b[0;34m(self)\u001b[0m\n\u001b[1;32m   1093\u001b[0m                     \u001b[0mvalues\u001b[0m\u001b[0;34m,\u001b[0m\u001b[0;34m\u001b[0m\u001b[0;34m\u001b[0m\u001b[0m\n\u001b[1;32m   1094\u001b[0m                     \u001b[0mf\u001b[0m\u001b[0;34m,\u001b[0m  \u001b[0;31m# type: ignore[arg-type]\u001b[0m\u001b[0;34m\u001b[0m\u001b[0;34m\u001b[0m\u001b[0m\n\u001b[0;32m-> 1095\u001b[0;31m                     \u001b[0mconvert\u001b[0m\u001b[0;34m=\u001b[0m\u001b[0mself\u001b[0m\u001b[0;34m.\u001b[0m\u001b[0mconvert_dtype\u001b[0m\u001b[0;34m,\u001b[0m\u001b[0;34m\u001b[0m\u001b[0;34m\u001b[0m\u001b[0m\n\u001b[0m\u001b[1;32m   1096\u001b[0m                 )\n\u001b[1;32m   1097\u001b[0m \u001b[0;34m\u001b[0m\u001b[0m\n",
            "\u001b[0;32m/usr/local/lib/python3.7/dist-packages/pandas/_libs/lib.pyx\u001b[0m in \u001b[0;36mpandas._libs.lib.map_infer\u001b[0;34m()\u001b[0m\n",
            "\u001b[0;32m<ipython-input-22-c1b7b3280247>\u001b[0m in \u001b[0;36m<lambda>\u001b[0;34m(x)\u001b[0m\n\u001b[1;32m      2\u001b[0m \u001b[0;34m\u001b[0m\u001b[0m\n\u001b[1;32m      3\u001b[0m \u001b[0;31m# for created date\u001b[0m\u001b[0;34m\u001b[0m\u001b[0;34m\u001b[0m\u001b[0;34m\u001b[0m\u001b[0m\n\u001b[0;32m----> 4\u001b[0;31m \u001b[0mdf\u001b[0m\u001b[0;34m[\u001b[0m\u001b[0;34m'created_date'\u001b[0m\u001b[0;34m]\u001b[0m \u001b[0;34m=\u001b[0m \u001b[0mdf\u001b[0m\u001b[0;34m.\u001b[0m\u001b[0mcreated_date\u001b[0m\u001b[0;34m.\u001b[0m\u001b[0mapply\u001b[0m\u001b[0;34m(\u001b[0m\u001b[0;32mlambda\u001b[0m \u001b[0mx\u001b[0m\u001b[0;34m:\u001b[0m \u001b[0mx\u001b[0m\u001b[0;34m[\u001b[0m\u001b[0;34m:\u001b[0m\u001b[0;36m10\u001b[0m\u001b[0;34m]\u001b[0m\u001b[0;34m)\u001b[0m\u001b[0;34m\u001b[0m\u001b[0;34m\u001b[0m\u001b[0m\n\u001b[0m\u001b[1;32m      5\u001b[0m \u001b[0mdf\u001b[0m\u001b[0;34m[\u001b[0m\u001b[0;34m'created_date'\u001b[0m\u001b[0;34m]\u001b[0m \u001b[0;34m=\u001b[0m \u001b[0mpd\u001b[0m\u001b[0;34m.\u001b[0m\u001b[0mto_datetime\u001b[0m\u001b[0;34m(\u001b[0m\u001b[0mdf\u001b[0m\u001b[0;34m[\u001b[0m\u001b[0;34m\"created_date\"\u001b[0m\u001b[0;34m]\u001b[0m\u001b[0;34m,\u001b[0m\u001b[0mformat\u001b[0m \u001b[0;34m=\u001b[0m \u001b[0;34m'%Y/%m/%d'\u001b[0m\u001b[0;34m)\u001b[0m\u001b[0;34m\u001b[0m\u001b[0;34m\u001b[0m\u001b[0m\n\u001b[1;32m      6\u001b[0m \u001b[0mdf\u001b[0m\u001b[0;34m[\u001b[0m\u001b[0;34m'created_year'\u001b[0m\u001b[0;34m]\u001b[0m \u001b[0;34m=\u001b[0m \u001b[0mdf\u001b[0m\u001b[0;34m.\u001b[0m\u001b[0mcreated_date\u001b[0m\u001b[0;34m.\u001b[0m\u001b[0mdt\u001b[0m\u001b[0;34m.\u001b[0m\u001b[0myear\u001b[0m\u001b[0;34m\u001b[0m\u001b[0;34m\u001b[0m\u001b[0m\n",
            "\u001b[0;31mTypeError\u001b[0m: 'Timestamp' object is not subscriptable"
          ]
        }
      ]
    },
    {
      "cell_type": "markdown",
      "metadata": {
        "id": "xEeJcVMd6JsN"
      },
      "source": [
        "**Looking deeper into the missing values and determine what to do with it**\n",
        "1. Extract out relevant columns for data which has a missing full price column which are meant to be free courses where is_paid column is false.\n",
        "2. Do the same for data which has a missing full price column which are meant to be paid courses"
      ]
    },
    {
      "cell_type": "code",
      "metadata": {
        "colab": {
          "base_uri": "https://localhost:8080/",
          "height": 204
        },
        "id": "s0cbOzb5mvxf",
        "outputId": "63cf6492-a2ff-434e-ec07-0e1f0c5a6e0e"
      },
      "source": [
        "# Look into the missing values\n",
        "# Looking into full price being empty and it is a free course\n",
        "\n",
        "df[df['full_price_INR'].isnull() & (df['is_paid'] == False)][['title','is_paid','discount_price_INR','full_price_INR']].head(5)"
      ],
      "execution_count": 15,
      "outputs": [
        {
          "output_type": "execute_result",
          "data": {
            "text/html": [
              "<div>\n",
              "<style scoped>\n",
              "    .dataframe tbody tr th:only-of-type {\n",
              "        vertical-align: middle;\n",
              "    }\n",
              "\n",
              "    .dataframe tbody tr th {\n",
              "        vertical-align: top;\n",
              "    }\n",
              "\n",
              "    .dataframe thead th {\n",
              "        text-align: right;\n",
              "    }\n",
              "</style>\n",
              "<table border=\"1\" class=\"dataframe\">\n",
              "  <thead>\n",
              "    <tr style=\"text-align: right;\">\n",
              "      <th></th>\n",
              "      <th>title</th>\n",
              "      <th>is_paid</th>\n",
              "      <th>discount_price_INR</th>\n",
              "      <th>full_price_INR</th>\n",
              "    </tr>\n",
              "  </thead>\n",
              "  <tbody>\n",
              "    <tr>\n",
              "      <th>11484</th>\n",
              "      <td>Stock Market Investing for Beginners</td>\n",
              "      <td>False</td>\n",
              "      <td>NaN</td>\n",
              "      <td>NaN</td>\n",
              "    </tr>\n",
              "    <tr>\n",
              "      <th>11485</th>\n",
              "      <td>Introduction to Financial Modeling</td>\n",
              "      <td>False</td>\n",
              "      <td>NaN</td>\n",
              "      <td>NaN</td>\n",
              "    </tr>\n",
              "    <tr>\n",
              "      <th>11486</th>\n",
              "      <td>Introduction to Corporate Finance (Mergers &amp; A...</td>\n",
              "      <td>False</td>\n",
              "      <td>NaN</td>\n",
              "      <td>NaN</td>\n",
              "    </tr>\n",
              "    <tr>\n",
              "      <th>11487</th>\n",
              "      <td>Learn and Master the Basics of Finance</td>\n",
              "      <td>False</td>\n",
              "      <td>NaN</td>\n",
              "      <td>NaN</td>\n",
              "    </tr>\n",
              "    <tr>\n",
              "      <th>11488</th>\n",
              "      <td>Stock Market Foundations</td>\n",
              "      <td>False</td>\n",
              "      <td>NaN</td>\n",
              "      <td>NaN</td>\n",
              "    </tr>\n",
              "  </tbody>\n",
              "</table>\n",
              "</div>"
            ],
            "text/plain": [
              "                                                   title  is_paid  \\\n",
              "11484               Stock Market Investing for Beginners    False   \n",
              "11485                 Introduction to Financial Modeling    False   \n",
              "11486  Introduction to Corporate Finance (Mergers & A...    False   \n",
              "11487             Learn and Master the Basics of Finance    False   \n",
              "11488                           Stock Market Foundations    False   \n",
              "\n",
              "       discount_price_INR  full_price_INR  \n",
              "11484                 NaN             NaN  \n",
              "11485                 NaN             NaN  \n",
              "11486                 NaN             NaN  \n",
              "11487                 NaN             NaN  \n",
              "11488                 NaN             NaN  "
            ]
          },
          "metadata": {
            "tags": []
          },
          "execution_count": 15
        }
      ]
    },
    {
      "cell_type": "code",
      "metadata": {
        "colab": {
          "base_uri": "https://localhost:8080/",
          "height": 80
        },
        "id": "wxoY9i1Hmvxg",
        "outputId": "c346d8d8-e196-41ac-8acd-3fd6e095ecfe"
      },
      "source": [
        "# Looking into full price being empty but it is a paid course\n",
        "\n",
        "df[df['full_price_INR'].isnull() & (df['is_paid'] == True)][['title','is_paid','discount_price_INR','full_price_INR']].head(5)"
      ],
      "execution_count": 16,
      "outputs": [
        {
          "output_type": "execute_result",
          "data": {
            "text/html": [
              "<div>\n",
              "<style scoped>\n",
              "    .dataframe tbody tr th:only-of-type {\n",
              "        vertical-align: middle;\n",
              "    }\n",
              "\n",
              "    .dataframe tbody tr th {\n",
              "        vertical-align: top;\n",
              "    }\n",
              "\n",
              "    .dataframe thead th {\n",
              "        text-align: right;\n",
              "    }\n",
              "</style>\n",
              "<table border=\"1\" class=\"dataframe\">\n",
              "  <thead>\n",
              "    <tr style=\"text-align: right;\">\n",
              "      <th></th>\n",
              "      <th>title</th>\n",
              "      <th>is_paid</th>\n",
              "      <th>discount_price_INR</th>\n",
              "      <th>full_price_INR</th>\n",
              "    </tr>\n",
              "  </thead>\n",
              "  <tbody>\n",
              "    <tr>\n",
              "      <th>13607</th>\n",
              "      <td>Acabou a Previdência e agora? -  Volume 03</td>\n",
              "      <td>True</td>\n",
              "      <td>NaN</td>\n",
              "      <td>NaN</td>\n",
              "    </tr>\n",
              "  </tbody>\n",
              "</table>\n",
              "</div>"
            ],
            "text/plain": [
              "                                            title  is_paid  \\\n",
              "13607  Acabou a Previdência e agora? -  Volume 03     True   \n",
              "\n",
              "       discount_price_INR  full_price_INR  \n",
              "13607                 NaN             NaN  "
            ]
          },
          "metadata": {
            "tags": []
          },
          "execution_count": 16
        }
      ]
    },
    {
      "cell_type": "markdown",
      "metadata": {
        "id": "EjSaWOYnmvxh"
      },
      "source": [
        "**After a quick inspection, we can safely say that all of the courses which has missing prices belongs to the free courses category except for one course which indicate that it is paid but there is no price.** \n"
      ]
    },
    {
      "cell_type": "markdown",
      "metadata": {
        "id": "34uTpZBC7feT"
      },
      "source": [
        "**We will proceed to add in zero to these empty fields to avoid errors later on.**\n",
        "1. Adding in the zeros into missing values\n",
        "2. Run a check on the columns by calculating number of missing values on discount and full price column, should return (0,0) as output"
      ]
    },
    {
      "cell_type": "code",
      "metadata": {
        "colab": {
          "base_uri": "https://localhost:8080/"
        },
        "id": "keMid8uFmvxh",
        "outputId": "5b49f0a0-521f-4df1-f1ed-1c1b18094d04"
      },
      "source": [
        "# To add in zeros for the missing values for discount price and full price\n",
        "\n",
        "df.discount_price_INR = df.discount_price_INR.fillna(value = 0)\n",
        "df.full_price_INR = df.full_price_INR.fillna(value = 0)\n",
        "\n",
        "# To confirm that there is no more empty values in both columns - Should show (0,0) if no missing values\n",
        "\n",
        "df.discount_price_INR.isnull().sum(), df.full_price_INR.isnull().sum()"
      ],
      "execution_count": 18,
      "outputs": [
        {
          "output_type": "execute_result",
          "data": {
            "text/plain": [
              "(0, 0)"
            ]
          },
          "metadata": {
            "tags": []
          },
          "execution_count": 18
        }
      ]
    },
    {
      "cell_type": "markdown",
      "metadata": {
        "id": "oPwIWNr08UYq"
      },
      "source": [
        "**Creating discount price and full price columns in SGD to get a better sense of the pricing**\n",
        "1. Use exchange rate for INR to SGD which is 0.018 (As of 8th July 2021)"
      ]
    },
    {
      "cell_type": "code",
      "metadata": {
        "colab": {
          "base_uri": "https://localhost:8080/",
          "height": 335
        },
        "id": "brPQ6dQ9mvxh",
        "outputId": "c2549816-7898-479f-e476-a85181e2295e"
      },
      "source": [
        "# To create new columns for discount and full prices in SGD to get a better sense of the pricing.\n",
        "# Exchange rate for INR to SGD is 0.018 (as of 8th July 2021)\n",
        "\n",
        "df['discount_price_SGD'] = list(round(df['discount_price_INR']*0.018,2))\n",
        "df['full_price_SGD'] = list(round(df['full_price_INR']*0.018,2))\n",
        "\n",
        "df.head(2)"
      ],
      "execution_count": 19,
      "outputs": [
        {
          "output_type": "execute_result",
          "data": {
            "text/html": [
              "<div>\n",
              "<style scoped>\n",
              "    .dataframe tbody tr th:only-of-type {\n",
              "        vertical-align: middle;\n",
              "    }\n",
              "\n",
              "    .dataframe tbody tr th {\n",
              "        vertical-align: top;\n",
              "    }\n",
              "\n",
              "    .dataframe thead th {\n",
              "        text-align: right;\n",
              "    }\n",
              "</style>\n",
              "<table border=\"1\" class=\"dataframe\">\n",
              "  <thead>\n",
              "    <tr style=\"text-align: right;\">\n",
              "      <th></th>\n",
              "      <th>id</th>\n",
              "      <th>title</th>\n",
              "      <th>url</th>\n",
              "      <th>is_paid</th>\n",
              "      <th>num_subscribers</th>\n",
              "      <th>avg_rating</th>\n",
              "      <th>avg_rating_recent</th>\n",
              "      <th>rating</th>\n",
              "      <th>num_reviews</th>\n",
              "      <th>is_wishlisted</th>\n",
              "      <th>num_lectures</th>\n",
              "      <th>num_tests</th>\n",
              "      <th>created_date</th>\n",
              "      <th>published_date</th>\n",
              "      <th>discount_price_INR</th>\n",
              "      <th>discount_price__currency</th>\n",
              "      <th>discount_price__price_string</th>\n",
              "      <th>full_price_INR</th>\n",
              "      <th>price_detail__currency</th>\n",
              "      <th>price_detail__price_string</th>\n",
              "      <th>created_year</th>\n",
              "      <th>created_mth</th>\n",
              "      <th>created_day</th>\n",
              "      <th>published_year</th>\n",
              "      <th>published_mth</th>\n",
              "      <th>published_day</th>\n",
              "      <th>discount_price_SGD</th>\n",
              "      <th>full_price_SGD</th>\n",
              "    </tr>\n",
              "  </thead>\n",
              "  <tbody>\n",
              "    <tr>\n",
              "      <th>0</th>\n",
              "      <td>762616</td>\n",
              "      <td>The Complete SQL Bootcamp 2020: Go from Zero t...</td>\n",
              "      <td>/course/the-complete-sql-bootcamp/</td>\n",
              "      <td>True</td>\n",
              "      <td>295509</td>\n",
              "      <td>4.66019</td>\n",
              "      <td>4.67874</td>\n",
              "      <td>4.67874</td>\n",
              "      <td>78006</td>\n",
              "      <td>False</td>\n",
              "      <td>84</td>\n",
              "      <td>0</td>\n",
              "      <td>2016-02-14</td>\n",
              "      <td>2016-04-06</td>\n",
              "      <td>455.0</td>\n",
              "      <td>INR</td>\n",
              "      <td>₹455</td>\n",
              "      <td>8640.0</td>\n",
              "      <td>INR</td>\n",
              "      <td>₹8,640</td>\n",
              "      <td>2016</td>\n",
              "      <td>2</td>\n",
              "      <td>14</td>\n",
              "      <td>2016</td>\n",
              "      <td>4</td>\n",
              "      <td>6</td>\n",
              "      <td>8.19</td>\n",
              "      <td>155.52</td>\n",
              "    </tr>\n",
              "    <tr>\n",
              "      <th>1</th>\n",
              "      <td>937678</td>\n",
              "      <td>Tableau 2020 A-Z: Hands-On Tableau Training fo...</td>\n",
              "      <td>/course/tableau10/</td>\n",
              "      <td>True</td>\n",
              "      <td>209070</td>\n",
              "      <td>4.58956</td>\n",
              "      <td>4.60015</td>\n",
              "      <td>4.60015</td>\n",
              "      <td>54581</td>\n",
              "      <td>False</td>\n",
              "      <td>78</td>\n",
              "      <td>0</td>\n",
              "      <td>2016-08-22</td>\n",
              "      <td>2016-08-23</td>\n",
              "      <td>455.0</td>\n",
              "      <td>INR</td>\n",
              "      <td>₹455</td>\n",
              "      <td>8640.0</td>\n",
              "      <td>INR</td>\n",
              "      <td>₹8,640</td>\n",
              "      <td>2016</td>\n",
              "      <td>8</td>\n",
              "      <td>22</td>\n",
              "      <td>2016</td>\n",
              "      <td>8</td>\n",
              "      <td>23</td>\n",
              "      <td>8.19</td>\n",
              "      <td>155.52</td>\n",
              "    </tr>\n",
              "  </tbody>\n",
              "</table>\n",
              "</div>"
            ],
            "text/plain": [
              "       id                                              title  \\\n",
              "0  762616  The Complete SQL Bootcamp 2020: Go from Zero t...   \n",
              "1  937678  Tableau 2020 A-Z: Hands-On Tableau Training fo...   \n",
              "\n",
              "                                  url  is_paid  num_subscribers  avg_rating  \\\n",
              "0  /course/the-complete-sql-bootcamp/     True           295509     4.66019   \n",
              "1                  /course/tableau10/     True           209070     4.58956   \n",
              "\n",
              "   avg_rating_recent   rating  num_reviews  is_wishlisted  num_lectures  \\\n",
              "0            4.67874  4.67874        78006          False            84   \n",
              "1            4.60015  4.60015        54581          False            78   \n",
              "\n",
              "   num_tests created_date published_date  discount_price_INR  \\\n",
              "0          0   2016-02-14     2016-04-06               455.0   \n",
              "1          0   2016-08-22     2016-08-23               455.0   \n",
              "\n",
              "  discount_price__currency discount_price__price_string  full_price_INR  \\\n",
              "0                      INR                         ₹455          8640.0   \n",
              "1                      INR                         ₹455          8640.0   \n",
              "\n",
              "  price_detail__currency price_detail__price_string  created_year  \\\n",
              "0                    INR                     ₹8,640          2016   \n",
              "1                    INR                     ₹8,640          2016   \n",
              "\n",
              "   created_mth  created_day  published_year  published_mth  published_day  \\\n",
              "0            2           14            2016              4              6   \n",
              "1            8           22            2016              8             23   \n",
              "\n",
              "   discount_price_SGD  full_price_SGD  \n",
              "0                8.19          155.52  \n",
              "1                8.19          155.52  "
            ]
          },
          "metadata": {
            "tags": []
          },
          "execution_count": 19
        }
      ]
    },
    {
      "cell_type": "markdown",
      "metadata": {
        "id": "P9GCa5aD_j5g"
      },
      "source": [
        "**Next we have a quick look on how the course discount price and full price are distributed**\n",
        "1. For discount price in SGD\n",
        "2. For full price in SGD"
      ]
    },
    {
      "cell_type": "code",
      "metadata": {
        "colab": {
          "base_uri": "https://localhost:8080/"
        },
        "id": "fC-E_J0nmvxh",
        "outputId": "fdc93138-cd94-4293-96c5-5ab99b930704"
      },
      "source": [
        "# Showing the number of courses based on different discount price point \n",
        "\n",
        "df.discount_price_SGD.value_counts().sort_index()"
      ],
      "execution_count": 90,
      "outputs": [
        {
          "output_type": "execute_result",
          "data": {
            "text/plain": [
              "0.00      1829\n",
              "8.19     19700\n",
              "8.32        63\n",
              "8.42       231\n",
              "8.53        51\n",
              "8.64        32\n",
              "8.66       137\n",
              "8.78        45\n",
              "8.89        38\n",
              "9.00        16\n",
              "9.13         9\n",
              "9.25        13\n",
              "9.36        39\n",
              "9.47         1\n",
              "9.59         4\n",
              "9.72         3\n",
              "9.83         2\n",
              "9.94         2\n",
              "10.08       15\n",
              "11.00        2\n",
              "11.52       36\n",
              "12.60      164\n",
              "12.96       21\n",
              "13.32        2\n",
              "13.68        2\n",
              "14.40       58\n",
              "15.84        5\n",
              "17.28       17\n",
              "18.72        9\n",
              "20.16       13\n",
              "21.60        9\n",
              "23.04       14\n",
              "24.48        7\n",
              "25.92       12\n",
              "27.36        9\n",
              "28.80       43\n",
              "30.24        4\n",
              "31.68        5\n",
              "33.12        2\n",
              "34.56        9\n",
              "36.00       10\n",
              "37.44       10\n",
              "38.88        5\n",
              "40.32        9\n",
              "41.76        3\n",
              "43.20       24\n",
              "44.64        3\n",
              "46.08        4\n",
              "47.52        3\n",
              "48.96        7\n",
              "50.40        7\n",
              "51.84       12\n",
              "53.28        3\n",
              "54.72        3\n",
              "56.16        3\n",
              "57.60       74\n",
              "Name: discount_price_SGD, dtype: int64"
            ]
          },
          "metadata": {
            "tags": []
          },
          "execution_count": 90
        }
      ]
    },
    {
      "cell_type": "code",
      "metadata": {
        "colab": {
          "base_uri": "https://localhost:8080/"
        },
        "id": "HVNrV_Lmmvxi",
        "outputId": "cf61a256-b170-457d-8100-cd3533c7c59e"
      },
      "source": [
        "# Showing the number of courses based on different full price point \n",
        "\n",
        "df.full_price_SGD.value_counts().sort_index() "
      ],
      "execution_count": 91,
      "outputs": [
        {
          "output_type": "execute_result",
          "data": {
            "text/plain": [
              "0.00       497\n",
              "23.04     5963\n",
              "28.80     1324\n",
              "34.56     1209\n",
              "40.32      751\n",
              "46.08      762\n",
              "51.84      360\n",
              "57.60     1633\n",
              "63.36      196\n",
              "69.12      282\n",
              "74.88      151\n",
              "80.64      222\n",
              "86.40      352\n",
              "92.16      276\n",
              "97.92      145\n",
              "103.68     227\n",
              "109.44     430\n",
              "115.20    1610\n",
              "120.96     106\n",
              "126.72      99\n",
              "132.48      58\n",
              "138.24     166\n",
              "144.00     275\n",
              "149.76     165\n",
              "155.52    5187\n",
              "161.28      98\n",
              "167.04      43\n",
              "172.80      64\n",
              "178.56       4\n",
              "184.32       9\n",
              "190.08       3\n",
              "195.84       2\n",
              "201.60       5\n",
              "207.36       7\n",
              "213.12       6\n",
              "218.88       4\n",
              "224.64       9\n",
              "230.40     153\n",
              "Name: full_price_SGD, dtype: int64"
            ]
          },
          "metadata": {
            "tags": []
          },
          "execution_count": 91
        }
      ]
    },
    {
      "cell_type": "markdown",
      "metadata": {
        "id": "P8YYeZsqAC45"
      },
      "source": [
        "**We will finish off the cleaning by dropping of columns that are not necessary**\n",
        "1. Currency cells and the price string cells are repeated values so we can remove. \n",
        "2. The wishlist column only has 1 unique value which is False so it is not useful for any analysis."
      ]
    },
    {
      "cell_type": "code",
      "metadata": {
        "id": "Q-sjdsqGmvxi"
      },
      "source": [
        "# Remove currency, price string and wishlisted columns\n",
        "\n",
        "df = df.drop(['is_wishlisted', 'discount_price__currency','discount_price__price_string',\n",
        "            'price_detail__currency','price_detail__price_string'],axis=1)"
      ],
      "execution_count": 29,
      "outputs": []
    },
    {
      "cell_type": "code",
      "metadata": {
        "colab": {
          "base_uri": "https://localhost:8080/"
        },
        "id": "a6WdyFwHmvxi",
        "outputId": "58e247a3-0ca2-4740-cbd4-6f9f519de33a"
      },
      "source": [
        "# Review the data information again before starting the analysis and visualisation\n",
        "\n",
        "df.info()"
      ],
      "execution_count": 30,
      "outputs": [
        {
          "output_type": "stream",
          "text": [
            "<class 'pandas.core.frame.DataFrame'>\n",
            "RangeIndex: 22853 entries, 0 to 22852\n",
            "Data columns (total 23 columns):\n",
            " #   Column              Non-Null Count  Dtype         \n",
            "---  ------              --------------  -----         \n",
            " 0   id                  22853 non-null  int64         \n",
            " 1   title               22853 non-null  object        \n",
            " 2   url                 22853 non-null  object        \n",
            " 3   is_paid             22853 non-null  bool          \n",
            " 4   num_subscribers     22853 non-null  int64         \n",
            " 5   avg_rating          22853 non-null  float64       \n",
            " 6   avg_rating_recent   22853 non-null  float64       \n",
            " 7   rating              22853 non-null  float64       \n",
            " 8   num_reviews         22853 non-null  int64         \n",
            " 9   num_lectures        22853 non-null  int64         \n",
            " 10  num_tests           22853 non-null  int64         \n",
            " 11  created_date        22853 non-null  datetime64[ns]\n",
            " 12  published_date      22853 non-null  datetime64[ns]\n",
            " 13  discount_price_INR  22853 non-null  float64       \n",
            " 14  full_price_INR      22853 non-null  float64       \n",
            " 15  created_year        22853 non-null  int64         \n",
            " 16  created_mth         22853 non-null  int64         \n",
            " 17  created_day         22853 non-null  int64         \n",
            " 18  published_year      22853 non-null  int64         \n",
            " 19  published_mth       22853 non-null  int64         \n",
            " 20  published_day       22853 non-null  int64         \n",
            " 21  discount_price_SGD  22853 non-null  float64       \n",
            " 22  full_price_SGD      22853 non-null  float64       \n",
            "dtypes: bool(1), datetime64[ns](2), float64(7), int64(11), object(2)\n",
            "memory usage: 3.9+ MB\n"
          ],
          "name": "stdout"
        }
      ]
    },
    {
      "cell_type": "markdown",
      "metadata": {
        "id": "N77Ro2DmAubY"
      },
      "source": [
        "**Now we can see that there are no more missing values, we have SGD columns, specific year, month and day for the courses. We can then move on to the analysis portion.**"
      ]
    },
    {
      "cell_type": "code",
      "metadata": {
        "colab": {
          "base_uri": "https://localhost:8080/",
          "height": 335
        },
        "id": "64-t5wdVmvxj",
        "outputId": "60de7a48-d865-4954-9540-1193b9da35db"
      },
      "source": [
        "# View data\n",
        "\n",
        "df.head(2)"
      ],
      "execution_count": 31,
      "outputs": [
        {
          "output_type": "execute_result",
          "data": {
            "text/html": [
              "<div>\n",
              "<style scoped>\n",
              "    .dataframe tbody tr th:only-of-type {\n",
              "        vertical-align: middle;\n",
              "    }\n",
              "\n",
              "    .dataframe tbody tr th {\n",
              "        vertical-align: top;\n",
              "    }\n",
              "\n",
              "    .dataframe thead th {\n",
              "        text-align: right;\n",
              "    }\n",
              "</style>\n",
              "<table border=\"1\" class=\"dataframe\">\n",
              "  <thead>\n",
              "    <tr style=\"text-align: right;\">\n",
              "      <th></th>\n",
              "      <th>id</th>\n",
              "      <th>title</th>\n",
              "      <th>url</th>\n",
              "      <th>is_paid</th>\n",
              "      <th>num_subscribers</th>\n",
              "      <th>avg_rating</th>\n",
              "      <th>avg_rating_recent</th>\n",
              "      <th>rating</th>\n",
              "      <th>num_reviews</th>\n",
              "      <th>num_lectures</th>\n",
              "      <th>num_tests</th>\n",
              "      <th>created_date</th>\n",
              "      <th>published_date</th>\n",
              "      <th>discount_price_INR</th>\n",
              "      <th>full_price_INR</th>\n",
              "      <th>created_year</th>\n",
              "      <th>created_mth</th>\n",
              "      <th>created_day</th>\n",
              "      <th>published_year</th>\n",
              "      <th>published_mth</th>\n",
              "      <th>published_day</th>\n",
              "      <th>discount_price_SGD</th>\n",
              "      <th>full_price_SGD</th>\n",
              "    </tr>\n",
              "  </thead>\n",
              "  <tbody>\n",
              "    <tr>\n",
              "      <th>0</th>\n",
              "      <td>762616</td>\n",
              "      <td>The Complete SQL Bootcamp 2020: Go from Zero t...</td>\n",
              "      <td>/course/the-complete-sql-bootcamp/</td>\n",
              "      <td>True</td>\n",
              "      <td>295509</td>\n",
              "      <td>4.66019</td>\n",
              "      <td>4.67874</td>\n",
              "      <td>4.67874</td>\n",
              "      <td>78006</td>\n",
              "      <td>84</td>\n",
              "      <td>0</td>\n",
              "      <td>2016-02-14</td>\n",
              "      <td>2016-04-06</td>\n",
              "      <td>455.0</td>\n",
              "      <td>8640.0</td>\n",
              "      <td>2016</td>\n",
              "      <td>2</td>\n",
              "      <td>14</td>\n",
              "      <td>2016</td>\n",
              "      <td>4</td>\n",
              "      <td>6</td>\n",
              "      <td>8.19</td>\n",
              "      <td>155.52</td>\n",
              "    </tr>\n",
              "    <tr>\n",
              "      <th>1</th>\n",
              "      <td>937678</td>\n",
              "      <td>Tableau 2020 A-Z: Hands-On Tableau Training fo...</td>\n",
              "      <td>/course/tableau10/</td>\n",
              "      <td>True</td>\n",
              "      <td>209070</td>\n",
              "      <td>4.58956</td>\n",
              "      <td>4.60015</td>\n",
              "      <td>4.60015</td>\n",
              "      <td>54581</td>\n",
              "      <td>78</td>\n",
              "      <td>0</td>\n",
              "      <td>2016-08-22</td>\n",
              "      <td>2016-08-23</td>\n",
              "      <td>455.0</td>\n",
              "      <td>8640.0</td>\n",
              "      <td>2016</td>\n",
              "      <td>8</td>\n",
              "      <td>22</td>\n",
              "      <td>2016</td>\n",
              "      <td>8</td>\n",
              "      <td>23</td>\n",
              "      <td>8.19</td>\n",
              "      <td>155.52</td>\n",
              "    </tr>\n",
              "  </tbody>\n",
              "</table>\n",
              "</div>"
            ],
            "text/plain": [
              "       id                                              title  \\\n",
              "0  762616  The Complete SQL Bootcamp 2020: Go from Zero t...   \n",
              "1  937678  Tableau 2020 A-Z: Hands-On Tableau Training fo...   \n",
              "\n",
              "                                  url  is_paid  num_subscribers  avg_rating  \\\n",
              "0  /course/the-complete-sql-bootcamp/     True           295509     4.66019   \n",
              "1                  /course/tableau10/     True           209070     4.58956   \n",
              "\n",
              "   avg_rating_recent   rating  num_reviews  num_lectures  num_tests  \\\n",
              "0            4.67874  4.67874        78006            84          0   \n",
              "1            4.60015  4.60015        54581            78          0   \n",
              "\n",
              "  created_date published_date  discount_price_INR  full_price_INR  \\\n",
              "0   2016-02-14     2016-04-06               455.0          8640.0   \n",
              "1   2016-08-22     2016-08-23               455.0          8640.0   \n",
              "\n",
              "   created_year  created_mth  created_day  published_year  published_mth  \\\n",
              "0          2016            2           14            2016              4   \n",
              "1          2016            8           22            2016              8   \n",
              "\n",
              "   published_day  discount_price_SGD  full_price_SGD  \n",
              "0              6                8.19          155.52  \n",
              "1             23                8.19          155.52  "
            ]
          },
          "metadata": {
            "tags": []
          },
          "execution_count": 31
        }
      ]
    },
    {
      "cell_type": "markdown",
      "metadata": {
        "id": "ldfBGu-GLjEc"
      },
      "source": [
        "**1. As someone using Udemy for learning, does higher average rating means higher number of subscribers?**\n",
        "1. Print out the top 5 courses based on number of subscribers.\n",
        "2. Print out the top 5 courses based on average rating and number of subscribers."
      ]
    },
    {
      "cell_type": "code",
      "metadata": {
        "colab": {
          "base_uri": "https://localhost:8080/",
          "height": 255
        },
        "id": "dWFd15hVmvxj",
        "outputId": "4f27e560-48e8-4b16-fe3c-41de63d8ddd3"
      },
      "source": [
        "# Looking at the top 5 courses with the most number of subscribers\n",
        "\n",
        "df_2 = df.sort_values('num_subscribers', ascending=False).reset_index()\n",
        "df_2[['id','title','published_date','num_subscribers','avg_rating','num_reviews','num_lectures'\n",
        "      ,'discount_price_SGD','full_price_SGD']].head(5)"
      ],
      "execution_count": 34,
      "outputs": [
        {
          "output_type": "execute_result",
          "data": {
            "text/html": [
              "<div>\n",
              "<style scoped>\n",
              "    .dataframe tbody tr th:only-of-type {\n",
              "        vertical-align: middle;\n",
              "    }\n",
              "\n",
              "    .dataframe tbody tr th {\n",
              "        vertical-align: top;\n",
              "    }\n",
              "\n",
              "    .dataframe thead th {\n",
              "        text-align: right;\n",
              "    }\n",
              "</style>\n",
              "<table border=\"1\" class=\"dataframe\">\n",
              "  <thead>\n",
              "    <tr style=\"text-align: right;\">\n",
              "      <th></th>\n",
              "      <th>id</th>\n",
              "      <th>title</th>\n",
              "      <th>published_date</th>\n",
              "      <th>num_subscribers</th>\n",
              "      <th>avg_rating</th>\n",
              "      <th>num_reviews</th>\n",
              "      <th>num_lectures</th>\n",
              "      <th>discount_price_SGD</th>\n",
              "      <th>full_price_SGD</th>\n",
              "    </tr>\n",
              "  </thead>\n",
              "  <tbody>\n",
              "    <tr>\n",
              "      <th>0</th>\n",
              "      <td>362328</td>\n",
              "      <td>AWS Certified Solutions Architect - Associate ...</td>\n",
              "      <td>2015-01-03</td>\n",
              "      <td>564444</td>\n",
              "      <td>4.53732</td>\n",
              "      <td>188941</td>\n",
              "      <td>136</td>\n",
              "      <td>8.19</td>\n",
              "      <td>155.52</td>\n",
              "    </tr>\n",
              "    <tr>\n",
              "      <th>1</th>\n",
              "      <td>637930</td>\n",
              "      <td>An Entire MBA in 1 Course:Award Winning Busine...</td>\n",
              "      <td>2016-01-11</td>\n",
              "      <td>374836</td>\n",
              "      <td>4.47080</td>\n",
              "      <td>41630</td>\n",
              "      <td>83</td>\n",
              "      <td>8.19</td>\n",
              "      <td>155.52</td>\n",
              "    </tr>\n",
              "    <tr>\n",
              "      <th>2</th>\n",
              "      <td>857010</td>\n",
              "      <td>Learn Ethical Hacking From Scratch</td>\n",
              "      <td>2016-06-20</td>\n",
              "      <td>372902</td>\n",
              "      <td>4.54790</td>\n",
              "      <td>83301</td>\n",
              "      <td>138</td>\n",
              "      <td>8.19</td>\n",
              "      <td>155.52</td>\n",
              "    </tr>\n",
              "    <tr>\n",
              "      <th>3</th>\n",
              "      <td>762616</td>\n",
              "      <td>The Complete SQL Bootcamp 2020: Go from Zero t...</td>\n",
              "      <td>2016-04-06</td>\n",
              "      <td>295509</td>\n",
              "      <td>4.66019</td>\n",
              "      <td>78006</td>\n",
              "      <td>84</td>\n",
              "      <td>8.19</td>\n",
              "      <td>155.52</td>\n",
              "    </tr>\n",
              "    <tr>\n",
              "      <th>4</th>\n",
              "      <td>437490</td>\n",
              "      <td>The Complete Ethical Hacking Course: Beginner ...</td>\n",
              "      <td>2015-03-19</td>\n",
              "      <td>277382</td>\n",
              "      <td>4.19544</td>\n",
              "      <td>26906</td>\n",
              "      <td>113</td>\n",
              "      <td>8.19</td>\n",
              "      <td>155.52</td>\n",
              "    </tr>\n",
              "  </tbody>\n",
              "</table>\n",
              "</div>"
            ],
            "text/plain": [
              "       id                                              title published_date  \\\n",
              "0  362328  AWS Certified Solutions Architect - Associate ...     2015-01-03   \n",
              "1  637930  An Entire MBA in 1 Course:Award Winning Busine...     2016-01-11   \n",
              "2  857010                 Learn Ethical Hacking From Scratch     2016-06-20   \n",
              "3  762616  The Complete SQL Bootcamp 2020: Go from Zero t...     2016-04-06   \n",
              "4  437490  The Complete Ethical Hacking Course: Beginner ...     2015-03-19   \n",
              "\n",
              "   num_subscribers  avg_rating  num_reviews  num_lectures  discount_price_SGD  \\\n",
              "0           564444     4.53732       188941           136                8.19   \n",
              "1           374836     4.47080        41630            83                8.19   \n",
              "2           372902     4.54790        83301           138                8.19   \n",
              "3           295509     4.66019        78006            84                8.19   \n",
              "4           277382     4.19544        26906           113                8.19   \n",
              "\n",
              "   full_price_SGD  \n",
              "0          155.52  \n",
              "1          155.52  \n",
              "2          155.52  \n",
              "3          155.52  \n",
              "4          155.52  "
            ]
          },
          "metadata": {
            "tags": []
          },
          "execution_count": 34
        }
      ]
    },
    {
      "cell_type": "code",
      "metadata": {
        "colab": {
          "base_uri": "https://localhost:8080/"
        },
        "id": "z3TDV1D0mvxj",
        "outputId": "d22db232-c3e2-4894-9751-49a5e095a2bc"
      },
      "source": [
        "# Generate out a print statement of the top 5 courses in this dataset\n",
        "\n",
        "print(\"Below are the top 5 most subscribed courses in this dataset:\")\n",
        "for i in range(0,6):\n",
        "    print(f'The course \"{df_2.title[i]}\" which is published on {df_2.published_year[i]} has {df_2.num_subscribers[i]} subscribers and an average rating of {df_2.avg_rating[i]}.')"
      ],
      "execution_count": 35,
      "outputs": [
        {
          "output_type": "stream",
          "text": [
            "Below are the top 5 most subscribed courses in this dataset:\n",
            "The course \"AWS Certified Solutions Architect - Associate 2020\" which is published on 2015 has 564444 subscribers and an average rating of 4.53732.\n",
            "The course \"An Entire MBA in 1 Course:Award Winning Business School Prof\" which is published on 2016 has 374836 subscribers and an average rating of 4.4708.\n",
            "The course \"Learn Ethical Hacking From Scratch\" which is published on 2016 has 372902 subscribers and an average rating of 4.5479.\n",
            "The course \"The Complete SQL Bootcamp 2020: Go from Zero to Hero\" which is published on 2016 has 295509 subscribers and an average rating of 4.66019.\n",
            "The course \"The Complete Ethical Hacking Course: Beginner to Advanced!\" which is published on 2015 has 277382 subscribers and an average rating of 4.19544.\n",
            "The course \"Stock Market Investing for Beginners\" which is published on 2013 has 259888 subscribers and an average rating of 4.34928.\n"
          ],
          "name": "stdout"
        }
      ]
    },
    {
      "cell_type": "code",
      "metadata": {
        "colab": {
          "base_uri": "https://localhost:8080/",
          "height": 255
        },
        "id": "Is11ksIFmvxj",
        "outputId": "9b672970-c6b8-485d-d8cc-10cda217b9ac"
      },
      "source": [
        "# Looking at the top 5 courses based on average rating and number of subscribers\n",
        "\n",
        "df_3 = df.sort_values(['avg_rating','num_subscribers','num_reviews'], ascending=False).reset_index()\n",
        "df_3[['id','title','published_date','num_subscribers','avg_rating','num_reviews','num_lectures'\n",
        "      ,'discount_price_SGD','full_price_SGD']].head(5)"
      ],
      "execution_count": 36,
      "outputs": [
        {
          "output_type": "execute_result",
          "data": {
            "text/html": [
              "<div>\n",
              "<style scoped>\n",
              "    .dataframe tbody tr th:only-of-type {\n",
              "        vertical-align: middle;\n",
              "    }\n",
              "\n",
              "    .dataframe tbody tr th {\n",
              "        vertical-align: top;\n",
              "    }\n",
              "\n",
              "    .dataframe thead th {\n",
              "        text-align: right;\n",
              "    }\n",
              "</style>\n",
              "<table border=\"1\" class=\"dataframe\">\n",
              "  <thead>\n",
              "    <tr style=\"text-align: right;\">\n",
              "      <th></th>\n",
              "      <th>id</th>\n",
              "      <th>title</th>\n",
              "      <th>published_date</th>\n",
              "      <th>num_subscribers</th>\n",
              "      <th>avg_rating</th>\n",
              "      <th>num_reviews</th>\n",
              "      <th>num_lectures</th>\n",
              "      <th>discount_price_SGD</th>\n",
              "      <th>full_price_SGD</th>\n",
              "    </tr>\n",
              "  </thead>\n",
              "  <tbody>\n",
              "    <tr>\n",
              "      <th>0</th>\n",
              "      <td>2926552</td>\n",
              "      <td>Not for Profit QuickBooks Desktop vs QuickBook...</td>\n",
              "      <td>2020-04-02</td>\n",
              "      <td>5198</td>\n",
              "      <td>5.0</td>\n",
              "      <td>1</td>\n",
              "      <td>54</td>\n",
              "      <td>8.19</td>\n",
              "      <td>155.52</td>\n",
              "    </tr>\n",
              "    <tr>\n",
              "      <th>1</th>\n",
              "      <td>2892636</td>\n",
              "      <td>Xero Not for Profit Organization</td>\n",
              "      <td>2020-03-24</td>\n",
              "      <td>5173</td>\n",
              "      <td>5.0</td>\n",
              "      <td>1</td>\n",
              "      <td>34</td>\n",
              "      <td>8.19</td>\n",
              "      <td>155.52</td>\n",
              "    </tr>\n",
              "    <tr>\n",
              "      <th>2</th>\n",
              "      <td>2319342</td>\n",
              "      <td>How to install an Open Source LMS - Part 2</td>\n",
              "      <td>2019-05-06</td>\n",
              "      <td>4115</td>\n",
              "      <td>5.0</td>\n",
              "      <td>26</td>\n",
              "      <td>24</td>\n",
              "      <td>8.19</td>\n",
              "      <td>23.04</td>\n",
              "    </tr>\n",
              "    <tr>\n",
              "      <th>3</th>\n",
              "      <td>2596322</td>\n",
              "      <td>Learn Linux commands and Powershell Command in...</td>\n",
              "      <td>2019-10-09</td>\n",
              "      <td>3925</td>\n",
              "      <td>5.0</td>\n",
              "      <td>37</td>\n",
              "      <td>27</td>\n",
              "      <td>8.19</td>\n",
              "      <td>23.04</td>\n",
              "    </tr>\n",
              "    <tr>\n",
              "      <th>4</th>\n",
              "      <td>3460818</td>\n",
              "      <td>Python Tutorials - Python Crash Course for Beg...</td>\n",
              "      <td>2020-09-08</td>\n",
              "      <td>3912</td>\n",
              "      <td>5.0</td>\n",
              "      <td>3</td>\n",
              "      <td>23</td>\n",
              "      <td>8.19</td>\n",
              "      <td>23.04</td>\n",
              "    </tr>\n",
              "  </tbody>\n",
              "</table>\n",
              "</div>"
            ],
            "text/plain": [
              "        id                                              title published_date  \\\n",
              "0  2926552  Not for Profit QuickBooks Desktop vs QuickBook...     2020-04-02   \n",
              "1  2892636                   Xero Not for Profit Organization     2020-03-24   \n",
              "2  2319342         How to install an Open Source LMS - Part 2     2019-05-06   \n",
              "3  2596322  Learn Linux commands and Powershell Command in...     2019-10-09   \n",
              "4  3460818  Python Tutorials - Python Crash Course for Beg...     2020-09-08   \n",
              "\n",
              "   num_subscribers  avg_rating  num_reviews  num_lectures  discount_price_SGD  \\\n",
              "0             5198         5.0            1            54                8.19   \n",
              "1             5173         5.0            1            34                8.19   \n",
              "2             4115         5.0           26            24                8.19   \n",
              "3             3925         5.0           37            27                8.19   \n",
              "4             3912         5.0            3            23                8.19   \n",
              "\n",
              "   full_price_SGD  \n",
              "0          155.52  \n",
              "1          155.52  \n",
              "2           23.04  \n",
              "3           23.04  \n",
              "4           23.04  "
            ]
          },
          "metadata": {
            "tags": []
          },
          "execution_count": 36
        }
      ]
    },
    {
      "cell_type": "code",
      "metadata": {
        "colab": {
          "base_uri": "https://localhost:8080/"
        },
        "id": "0lG_eHPamvxk",
        "outputId": "f0d7b37e-6b6d-48e8-948c-6111313424fe"
      },
      "source": [
        "# Generate a print statement based on the top 5 courses based on average rating and number of subscribers\n",
        "\n",
        "print(\"Below are the top 5 courses based on highest rating and number of subscribers in this dataset:\")\n",
        "for i in range(0,6):\n",
        "    print(f'The course \"{df_3.title[i]}\" which is published on {df_3.published_year[i]} has {df_3.num_subscribers[i]} subscribers and an average rating of {df_3.avg_rating[i]}.')"
      ],
      "execution_count": 37,
      "outputs": [
        {
          "output_type": "stream",
          "text": [
            "Below are the top 5 courses based on highest rating and number of subscribers in this dataset:\n",
            "The course \"Not for Profit QuickBooks Desktop vs QuickBooks Online\" which is published on 2020 has 5198 subscribers and an average rating of 5.0.\n",
            "The course \"Xero Not for Profit Organization\" which is published on 2020 has 5173 subscribers and an average rating of 5.0.\n",
            "The course \"How to install an Open Source LMS - Part 2\" which is published on 2019 has 4115 subscribers and an average rating of 5.0.\n",
            "The course \"Learn Linux commands and Powershell Command in the same time\" which is published on 2019 has 3925 subscribers and an average rating of 5.0.\n",
            "The course \"Python Tutorials - Python Crash Course for Beginnners\" which is published on 2020 has 3912 subscribers and an average rating of 5.0.\n",
            "The course \"Plan and Manage Communications (PMI - PMP)\" which is published on 2020 has 3694 subscribers and an average rating of 5.0.\n"
          ],
          "name": "stdout"
        }
      ]
    },
    {
      "cell_type": "markdown",
      "metadata": {
        "id": "nyb9VBQ5Mc0a"
      },
      "source": [
        "**After comparing the 2 output, we can tell that the highly rated courses which are rated 5 out of 5 does not necessary indicate it is a very popular course. This might be due to the presence of differing opinions which will drag the ratings down to the range of 4.5 out of 5.** "
      ]
    },
    {
      "cell_type": "markdown",
      "metadata": {
        "id": "q_qQFXx4huAd"
      },
      "source": [
        "**Key Findings:<br />\n",
        "Hence when finding a course, I can focus on sorting by number of subscribers instead of focusing on the ratings as a prefect rating might mean too little number of reviews given to take into account differing opinions.**"
      ]
    },
    {
      "cell_type": "markdown",
      "metadata": {
        "id": "EZNGtw0ATpAp"
      },
      "source": [
        "**2. Using a heatmap, we can have an idea of the correlation between variables.**\n"
      ]
    },
    {
      "cell_type": "code",
      "metadata": {
        "colab": {
          "base_uri": "https://localhost:8080/",
          "height": 450
        },
        "id": "-FpbYxuqmvxk",
        "outputId": "2cc8070b-b1ee-46f0-824c-c072c1286b2f"
      },
      "source": [
        "# Using Heatmap to get an idea of the correlation\n",
        "\n",
        "sns.heatmap(df.corr(),cmap='coolwarm')"
      ],
      "execution_count": 79,
      "outputs": [
        {
          "output_type": "execute_result",
          "data": {
            "text/plain": [
              "<AxesSubplot:>"
            ]
          },
          "metadata": {
            "tags": []
          },
          "execution_count": 79
        },
        {
          "output_type": "display_data",
          "data": {
            "image/png": "[encoded data removed]",
            "text/plain": [
              "<Figure size 576x396 with 2 Axes>"
            ]
          },
          "metadata": {
            "tags": []
          }
        }
      ]
    },
    {
      "cell_type": "markdown",
      "metadata": {
        "id": "gS8QMpfGUhWg"
      },
      "source": [
        "**Following a quick glance, we can tell that apart from the duplicated values, number of reviews and number of subscribers are showing quite a strong correlation.**"
      ]
    },
    {
      "cell_type": "markdown",
      "metadata": {
        "id": "MXlCQM4uU7u3"
      },
      "source": [
        "**Next we can explore whether courses that were published long ago means they will have a better average rating and higher number of subscribers?**\n",
        "1. Create a heatmap plotting average rating by published month and year.\n",
        "2. Create a heatmap plotting number of subscribers by published month and year."
      ]
    },
    {
      "cell_type": "code",
      "metadata": {
        "colab": {
          "base_uri": "https://localhost:8080/",
          "height": 378
        },
        "id": "LW4bc0_tmvxk",
        "outputId": "bcf4b482-0357-4fa7-cd81-c53370904397"
      },
      "source": [
        "# Does published longer means average rating will be higher?\n",
        "# Plotting average rating against the month and year which the course is published\n",
        "\n",
        "rating_pivot = df.pivot_table(values='avg_rating',index='published_mth',columns='published_year', aggfunc=np.mean)\n",
        "sns.heatmap(rating_pivot,cmap='magma',linecolor='white',linewidths=1, annot=True)"
      ],
      "execution_count": 80,
      "outputs": [
        {
          "output_type": "execute_result",
          "data": {
            "text/plain": [
              "<AxesSubplot:xlabel='published_year', ylabel='published_mth'>"
            ]
          },
          "metadata": {
            "tags": []
          },
          "execution_count": 80
        },
        {
          "output_type": "display_data",
          "data": {
            "image/png": "[encoded data removed]",
            "text/plain": [
              "<Figure size 576x396 with 2 Axes>"
            ]
          },
          "metadata": {
            "tags": []
          }
        }
      ]
    },
    {
      "cell_type": "markdown",
      "metadata": {
        "id": "hlmssThWWFk2"
      },
      "source": [
        "**The heatmap does not have a very clear indication that courses published long ago tend to have a much higher average ratings.**"
      ]
    },
    {
      "cell_type": "code",
      "metadata": {
        "colab": {
          "base_uri": "https://localhost:8080/",
          "height": 380
        },
        "id": "Cje6IrzSmvxk",
        "outputId": "69a7db73-ab39-47f3-ae16-f09cd383cc67"
      },
      "source": [
        "# Does published longer means there will be on average higher number of subscribers?\n",
        "# Plotting number of subscribers against the month and year which the course is published\n",
        "\n",
        "subscribers_pivot = df.pivot_table(values='num_subscribers',index='published_mth',columns='published_year', aggfunc=np.mean)\n",
        "sns.heatmap(subscribers_pivot,cmap='Set1',linecolor='white',linewidths=1)"
      ],
      "execution_count": 78,
      "outputs": [
        {
          "output_type": "execute_result",
          "data": {
            "text/plain": [
              "<AxesSubplot:xlabel='published_year', ylabel='published_mth'>"
            ]
          },
          "metadata": {
            "tags": []
          },
          "execution_count": 78
        },
        {
          "output_type": "display_data",
          "data": {
            "image/png": "[encoded data removed]",
            "text/plain": [
              "<Figure size 576x396 with 2 Axes>"
            ]
          },
          "metadata": {
            "tags": []
          }
        }
      ]
    },
    {
      "cell_type": "markdown",
      "metadata": {
        "id": "qUvAZufjW5qB"
      },
      "source": [
        "**The heatmap for the number of subscribers seems to show a clearer trend where the number of subscribers for courses between 2013 to 2017 tends to perform better than those published between 2018 to 2020.<br />\n",
        "<br />\n",
        "This indicates that it will take time for courses to gain popularity.**"
      ]
    },
    {
      "cell_type": "markdown",
      "metadata": {
        "id": "EYhK5EyYKNjS"
      },
      "source": [
        "**3. Turning our focus by comparing the key stats between paid and free courses**"
      ]
    },
    {
      "cell_type": "code",
      "metadata": {
        "colab": {
          "base_uri": "https://localhost:8080/",
          "height": 142
        },
        "id": "CWxuvGgDmvxj",
        "outputId": "60e456d8-9130-4261-fa08-b71bab4eb175"
      },
      "source": [
        "# Comparing the average values based on whether the courses are paid or free\n",
        "\n",
        "df.groupby('is_paid')['num_subscribers','avg_rating','num_reviews'].mean()"
      ],
      "execution_count": 33,
      "outputs": [
        {
          "output_type": "execute_result",
          "data": {
            "text/html": [
              "<div>\n",
              "<style scoped>\n",
              "    .dataframe tbody tr th:only-of-type {\n",
              "        vertical-align: middle;\n",
              "    }\n",
              "\n",
              "    .dataframe tbody tr th {\n",
              "        vertical-align: top;\n",
              "    }\n",
              "\n",
              "    .dataframe thead th {\n",
              "        text-align: right;\n",
              "    }\n",
              "</style>\n",
              "<table border=\"1\" class=\"dataframe\">\n",
              "  <thead>\n",
              "    <tr style=\"text-align: right;\">\n",
              "      <th></th>\n",
              "      <th>num_subscribers</th>\n",
              "      <th>avg_rating</th>\n",
              "      <th>num_reviews</th>\n",
              "    </tr>\n",
              "    <tr>\n",
              "      <th>is_paid</th>\n",
              "      <th></th>\n",
              "      <th></th>\n",
              "      <th></th>\n",
              "    </tr>\n",
              "  </thead>\n",
              "  <tbody>\n",
              "    <tr>\n",
              "      <th>False</th>\n",
              "      <td>5854.482897</td>\n",
              "      <td>3.959954</td>\n",
              "      <td>308.678068</td>\n",
              "    </tr>\n",
              "    <tr>\n",
              "      <th>True</th>\n",
              "      <td>3146.557121</td>\n",
              "      <td>3.952187</td>\n",
              "      <td>269.423868</td>\n",
              "    </tr>\n",
              "  </tbody>\n",
              "</table>\n",
              "</div>"
            ],
            "text/plain": [
              "         num_subscribers  avg_rating  num_reviews\n",
              "is_paid                                          \n",
              "False        5854.482897    3.959954   308.678068\n",
              "True         3146.557121    3.952187   269.423868"
            ]
          },
          "metadata": {
            "tags": []
          },
          "execution_count": 33
        }
      ]
    },
    {
      "cell_type": "code",
      "metadata": {
        "id": "lV54NYKLJzCl",
        "colab": {
          "base_uri": "https://localhost:8080/",
          "height": 378
        },
        "outputId": "599973a8-f4f6-450a-adf5-dfc52d105327"
      },
      "source": [
        "sns.countplot(x='published_year',hue='is_paid',data=df)"
      ],
      "execution_count": 74,
      "outputs": [
        {
          "output_type": "execute_result",
          "data": {
            "text/plain": [
              "<AxesSubplot:xlabel='published_year', ylabel='count'>"
            ]
          },
          "metadata": {
            "tags": []
          },
          "execution_count": 74
        },
        {
          "output_type": "display_data",
          "data": {
            "image/png": "[encoded data removed]",
            "text/plain": [
              "<Figure size 576x396 with 1 Axes>"
            ]
          },
          "metadata": {
            "tags": []
          }
        }
      ]
    },
    {
      "cell_type": "markdown",
      "metadata": {
        "id": "4GNYkSLmKdkE"
      },
      "source": [
        "**On average, the free courses which means is_paid = False has a higher average number of subscribers, number of reviews and average rating. This however do not have a clear picture as the number of paid courses are still overwhelming more than free courses. Let's dive deeper.**"
      ]
    },
    {
      "cell_type": "markdown",
      "metadata": {
        "id": "xt1uKo-hfcYO"
      },
      "source": [
        "**Getting a sense of the average rating and the difference between paid and free courses.**\n",
        "1. Create a boxplot for average rating on all courses.\n",
        "2. Dive deeper by creating a boxplot splited by year and type of courses."
      ]
    },
    {
      "cell_type": "code",
      "metadata": {
        "colab": {
          "base_uri": "https://localhost:8080/",
          "height": 378
        },
        "id": "lnClaF-jmvxl",
        "outputId": "c308834d-4594-4fbc-de88-1517db3a7da6"
      },
      "source": [
        "# Boxplot of average rating\n",
        "\n",
        "sns.boxplot(x=\"avg_rating\",data=df,palette='rainbow')"
      ],
      "execution_count": 82,
      "outputs": [
        {
          "output_type": "execute_result",
          "data": {
            "text/plain": [
              "<AxesSubplot:xlabel='avg_rating'>"
            ]
          },
          "metadata": {
            "tags": []
          },
          "execution_count": 82
        },
        {
          "output_type": "display_data",
          "data": {
            "image/png": "[encoded data removed]",
            "text/plain": [
              "<Figure size 576x396 with 1 Axes>"
            ]
          },
          "metadata": {
            "tags": []
          }
        }
      ]
    },
    {
      "cell_type": "code",
      "metadata": {
        "colab": {
          "base_uri": "https://localhost:8080/",
          "height": 403
        },
        "id": "T_WfdtRkmvxl",
        "outputId": "69daa04e-b731-41b9-8acd-019080037dc2"
      },
      "source": [
        "# Boxplot based on published year for average rating split by whether it is paid course\n",
        "\n",
        "sns.catplot(x=\"published_year\", y=\"avg_rating\", data=df, col=\"is_paid\", kind=\"box\",palette=\"Set2\")"
      ],
      "execution_count": 43,
      "outputs": [
        {
          "output_type": "execute_result",
          "data": {
            "text/plain": [
              "<seaborn.axisgrid.FacetGrid at 0x7fb75a3df9d0>"
            ]
          },
          "metadata": {
            "tags": []
          },
          "execution_count": 43
        },
        {
          "output_type": "display_data",
          "data": {
            "image/png": "[encoded data removed]",
            "text/plain": [
              "<Figure size 720x360 with 2 Axes>"
            ]
          },
          "metadata": {
            "tags": [],
            "needs_background": "light"
          }
        }
      ]
    },
    {
      "cell_type": "markdown",
      "metadata": {
        "id": "dKgBpRtKcwc2"
      },
      "source": [
        "**By breaking down the boxplot into published years and whether it is paid or free courses, we can observe more clearly. In this case, both type of courses are quite consistent with more variance in the free courses but that could be due to the lower number of free courses.** "
      ]
    },
    {
      "cell_type": "markdown",
      "metadata": {
        "id": "PAAGqcI9fQ-K"
      },
      "source": [
        "**We can then repeat the same steps to look into the number of subscribers**\n",
        "1. Create a boxplot for number of subscribers on all courses.\n",
        "2. Dive deeper by creating a boxplot splited by year and type of courses."
      ]
    },
    {
      "cell_type": "code",
      "metadata": {
        "colab": {
          "base_uri": "https://localhost:8080/",
          "height": 378
        },
        "id": "3Q9dhdwwfHCm",
        "outputId": "5835f7de-d17c-4b49-9f6b-b368362bc0eb"
      },
      "source": [
        "# Boxplot of number of subscribers\n",
        "\n",
        "sns.boxplot(x=\"num_subscribers\",data=df,palette='rainbow')"
      ],
      "execution_count": 85,
      "outputs": [
        {
          "output_type": "execute_result",
          "data": {
            "text/plain": [
              "<AxesSubplot:xlabel='num_subscribers'>"
            ]
          },
          "metadata": {
            "tags": []
          },
          "execution_count": 85
        },
        {
          "output_type": "display_data",
          "data": {
            "image/png": "[encoded data removed]",
            "text/plain": [
              "<Figure size 576x396 with 1 Axes>"
            ]
          },
          "metadata": {
            "tags": []
          }
        }
      ]
    },
    {
      "cell_type": "code",
      "metadata": {
        "colab": {
          "base_uri": "https://localhost:8080/",
          "height": 396
        },
        "id": "ik1FojI_mvxl",
        "outputId": "2b502fcd-5312-4996-cf8f-20ed7eb79be2"
      },
      "source": [
        "# Boxplot based on published year for number of subscribers split by whether it is paid course\n",
        "\n",
        "sns.catplot(x=\"published_year\", y=\"num_subscribers\", data=df, col=\"is_paid\", kind=\"box\",palette=\"coolwarm\")"
      ],
      "execution_count": 84,
      "outputs": [
        {
          "output_type": "execute_result",
          "data": {
            "text/plain": [
              "<seaborn.axisgrid.FacetGrid at 0x7fb764e13290>"
            ]
          },
          "metadata": {
            "tags": []
          },
          "execution_count": 84
        },
        {
          "output_type": "display_data",
          "data": {
            "image/png": "[encoded data removed]",
            "text/plain": [
              "<Figure size 720x360 with 2 Axes>"
            ]
          },
          "metadata": {
            "tags": []
          }
        }
      ]
    },
    {
      "cell_type": "markdown",
      "metadata": {
        "id": "c4RdxYtbgLMK"
      },
      "source": [
        "**In this case, we can observe that most courses has lesser than 100 thousands subscribers with a rare course achieving above 500 thousands courses.** "
      ]
    },
    {
      "cell_type": "markdown",
      "metadata": {
        "id": "VPenS6EVeKwN"
      },
      "source": [
        "**Key findings:<br />\n",
        "As someone looking for courses in Udemy, this provides me with a greater clarity to deem the average score for courses as approx 4.2 rather than the 2.5 suggested by the scoring scale.<br />\n",
        "<br />\n",
        "As a content creater in Udemy, this shows that the number of subscribers for most courses tend to be in the range of thousands rather than hundred of thousands.**"
      ]
    },
    {
      "cell_type": "markdown",
      "metadata": {
        "id": "bABkoCRmjrG8"
      },
      "source": [
        "**4. The last area to focus is on the pricing of the courses and the effect that it might have on other variables.**"
      ]
    },
    {
      "cell_type": "markdown",
      "metadata": {
        "id": "EcRAt6XRkCFG"
      },
      "source": [
        "**We shall start with visualising the distribution of the prices for both discount and full prices of the course.**"
      ]
    },
    {
      "cell_type": "code",
      "metadata": {
        "colab": {
          "base_uri": "https://localhost:8080/",
          "height": 378
        },
        "id": "Ck07ymoLmvxk",
        "outputId": "7ac37a25-98a0-4a54-9bdd-1166e20bd43c"
      },
      "source": [
        "## Getting a sense of how the courses are priced\n",
        "\n",
        "fig = plt.figure\n",
        "\n",
        "# 2 rows, 1 cols - 2 charts\n",
        "plt.subplot(2,1,1)\n",
        "sns.histplot(df.discount_price_SGD)\n",
        "\n",
        "plt.subplot(2,1,2)\n",
        "sns.histplot(df.full_price_SGD,bins=15)"
      ],
      "execution_count": 92,
      "outputs": [
        {
          "output_type": "execute_result",
          "data": {
            "text/plain": [
              "<AxesSubplot:xlabel='full_price_SGD', ylabel='Count'>"
            ]
          },
          "metadata": {
            "tags": []
          },
          "execution_count": 92
        },
        {
          "output_type": "display_data",
          "data": {
            "image/png": "[encoded data removed]",
            "text/plain": [
              "<Figure size 576x396 with 2 Axes>"
            ]
          },
          "metadata": {
            "tags": []
          }
        }
      ]
    },
    {
      "cell_type": "markdown",
      "metadata": {
        "id": "TSDGJBellPU8"
      },
      "source": [
        "**After knowing the distribution, we can plot it against the number of subscribers and further differentiated by number of reviews and published year.**"
      ]
    },
    {
      "cell_type": "code",
      "metadata": {
        "colab": {
          "base_uri": "https://localhost:8080/",
          "height": 378
        },
        "id": "cYgmCFOZmvxm",
        "outputId": "a5a4b887-d549-4c3a-9b0f-982f9b05da65"
      },
      "source": [
        "## Getting a sense of how the courses are priced\n",
        "\n",
        "fig = plt.figure.figsize = (80,40)\n",
        "\n",
        "# 1 rows, 2 cols - 2 charts\n",
        "plt.subplot(1,2,1)\n",
        "sns.scatterplot(x='full_price_SGD',y='num_subscribers',size='num_reviews', hue='published_year', data=df, palette='magma')\n",
        "\n",
        "plt.subplot(1,2,2)\n",
        "sns.scatterplot(x='discount_price_SGD',y='num_subscribers',size='num_reviews', hue='published_year', data=df, palette='magma')"
      ],
      "execution_count": 103,
      "outputs": [
        {
          "output_type": "execute_result",
          "data": {
            "text/plain": [
              "<AxesSubplot:xlabel='discount_price_SGD', ylabel='num_subscribers'>"
            ]
          },
          "metadata": {
            "tags": []
          },
          "execution_count": 103
        },
        {
          "output_type": "display_data",
          "data": {
            "image/png": "[encoded data removed]",
            "text/plain": [
              "<Figure size 576x396 with 2 Axes>"
            ]
          },
          "metadata": {
            "tags": []
          }
        }
      ]
    },
    {
      "cell_type": "markdown",
      "metadata": {
        "id": "zAE0UGeGsO5G"
      },
      "source": [
        "**We can see that the range of full price for the courses are more diversed while the discounted prices tend to follow a clearer trend where courses that has the most subscribers follow a particular price point of 8.19 SGD equivalent.**"
      ]
    },
    {
      "cell_type": "markdown",
      "metadata": {
        "id": "d0r5Gd83mH3X"
      },
      "source": [
        "**We can create a new variable by getting the difference between full price and discount price. The perceived price discount gives a sense of bargin hence it will be interesting to see whether there are differences in the graph.** "
      ]
    },
    {
      "cell_type": "code",
      "metadata": {
        "id": "EZGwVtv8mvxm"
      },
      "source": [
        "df['diff_price_SGD'] = df.full_price_SGD - df.discount_price_SGD"
      ],
      "execution_count": 98,
      "outputs": []
    },
    {
      "cell_type": "code",
      "metadata": {
        "colab": {
          "base_uri": "https://localhost:8080/",
          "height": 378
        },
        "id": "aYouzz1cmvxm",
        "outputId": "36977e02-14eb-4c00-9037-cbe7e2f6a801"
      },
      "source": [
        "# Plotting the various elements together\n",
        "\n",
        "sns.scatterplot(x='diff_price_SGD',y='num_subscribers',size='num_reviews',hue='published_year', data=df,palette='coolwarm')"
      ],
      "execution_count": 99,
      "outputs": [
        {
          "output_type": "execute_result",
          "data": {
            "text/plain": [
              "<AxesSubplot:xlabel='diff_price_SGD', ylabel='num_subscribers'>"
            ]
          },
          "metadata": {
            "tags": []
          },
          "execution_count": 99
        },
        {
          "output_type": "display_data",
          "data": {
            "image/png": "[encoded data removed]",
            "text/plain": [
              "<Figure size 576x396 with 1 Axes>"
            ]
          },
          "metadata": {
            "tags": []
          }
        }
      ]
    },
    {
      "cell_type": "code",
      "metadata": {
        "colab": {
          "base_uri": "https://localhost:8080/",
          "height": 378
        },
        "id": "bwUea8XUmvxm",
        "outputId": "252a7f80-4912-43df-e404-a6846b005f4d"
      },
      "source": [
        "# Plotting the various elements together\n",
        "\n",
        "sns.scatterplot(x='diff_price_SGD',y='num_subscribers',size='num_reviews',hue='avg_rating', data=df)"
      ],
      "execution_count": 102,
      "outputs": [
        {
          "output_type": "execute_result",
          "data": {
            "text/plain": [
              "<AxesSubplot:xlabel='diff_price_SGD', ylabel='num_subscribers'>"
            ]
          },
          "metadata": {
            "tags": []
          },
          "execution_count": 102
        },
        {
          "output_type": "display_data",
          "data": {
            "image/png": "[encoded data removed]",
            "text/plain": [
              "<Figure size 576x396 with 1 Axes>"
            ]
          },
          "metadata": {
            "tags": []
          }
        }
      ]
    },
    {
      "cell_type": "markdown",
      "metadata": {
        "id": "YOpx2I8Apvx3"
      },
      "source": [
        "**We can observed that the optimal 'price premium' is approx SGD 150 equivalent where the most consistent amount of courses that achieved above 100 thousands subscribers.**"
      ]
    },
    {
      "cell_type": "markdown",
      "metadata": {
        "id": "9g8P1awsqf_L"
      },
      "source": [
        "**Key Findings: <br />\n",
        "For Udemy course creater, they can do a reverse calculation to determine their full price based on their desired 'discounted' price. By adding approx SGD 150 equivalent onto the desired 'discounted' price, it seems to gives the best perceived of values for people looking for course to learn.**"
      ]
    },
    {
      "cell_type": "markdown",
      "metadata": {
        "id": "AcGpmhqLmvxj"
      },
      "source": [
        "Analysis:\n",
        "1. Sorting by number of subscribers vs average ratings\n",
        "2. Correlation and trend for variables (Heatmap)\n",
        "3. Focus on Paid vs Free course (Box plot) \n",
        "4. Focus on pricing and the effects on other variables (Scatterplot)\n",
        "7. Looking at whether other factors affect the number of subscribers (Scatterplot)\n"
      ]
    },
    {
      "cell_type": "markdown",
      "metadata": {
        "id": "bUV6lcdLu8nM"
      },
      "source": [
        "**5. Looking into other factors like number of lectures and average ratings.**"
      ]
    },
    {
      "cell_type": "code",
      "metadata": {
        "colab": {
          "base_uri": "https://localhost:8080/",
          "height": 378
        },
        "id": "ZYcS3Lormvxl",
        "outputId": "f45796ef-ceac-46f4-b41a-a7ee008659a2"
      },
      "source": [
        "# Plotting the various elements together\n",
        "\n",
        "sns.scatterplot(x='discount_price_SGD',y='num_subscribers',size='num_reviews', hue='num_lectures', data=df, palette='magma')"
      ],
      "execution_count": 104,
      "outputs": [
        {
          "output_type": "execute_result",
          "data": {
            "text/plain": [
              "<AxesSubplot:xlabel='discount_price_SGD', ylabel='num_subscribers'>"
            ]
          },
          "metadata": {
            "tags": []
          },
          "execution_count": 104
        },
        {
          "output_type": "display_data",
          "data": {
            "image/png": "[encoded data removed]",
            "text/plain": [
              "<Figure size 576x396 with 1 Axes>"
            ]
          },
          "metadata": {
            "tags": []
          }
        }
      ]
    },
    {
      "cell_type": "markdown",
      "metadata": {
        "id": "25Vv8-i8vwMu"
      },
      "source": [
        "**No clear trend between the popular courses and the number of lectures in the courses.**"
      ]
    },
    {
      "cell_type": "code",
      "metadata": {
        "colab": {
          "base_uri": "https://localhost:8080/",
          "height": 378
        },
        "id": "9_0mrm05mvxl",
        "outputId": "f116160e-1790-4f05-cf7f-407742b7e63e"
      },
      "source": [
        "# Plotting the various elements together\n",
        "\n",
        "sns.scatterplot(x='avg_rating',y='num_subscribers',size='num_reviews',hue='num_lectures', data=df,palette='coolwarm')"
      ],
      "execution_count": 105,
      "outputs": [
        {
          "output_type": "execute_result",
          "data": {
            "text/plain": [
              "<AxesSubplot:xlabel='avg_rating', ylabel='num_subscribers'>"
            ]
          },
          "metadata": {
            "tags": []
          },
          "execution_count": 105
        },
        {
          "output_type": "display_data",
          "data": {
            "image/png": "[encoded data removed]",
            "text/plain": [
              "<Figure size 576x396 with 1 Axes>"
            ]
          },
          "metadata": {
            "tags": []
          }
        }
      ]
    },
    {
      "cell_type": "markdown",
      "metadata": {
        "id": "70uRVhfwv7Qn"
      },
      "source": [
        "**Most popular courses has an average rating of approx 4.5 while any courses that has a rating below 4 highly likely will not perform very well.**"
      ]
    },
    {
      "cell_type": "markdown",
      "metadata": {
        "id": "VWSOUp0DwQ9C"
      },
      "source": [
        "**Key Findings: <br />\n",
        "As a course creator in Udemy, average rating is cruical hence there is a need to interact with the learners to ensure that the number of negative ratings does not pull the overall ratings down below 4.**"
      ]
    },
    {
      "cell_type": "code",
      "metadata": {
        "colab": {
          "base_uri": "https://localhost:8080/",
          "height": 378
        },
        "id": "0wYsb6PPmvxm",
        "outputId": "ddfc9141-e132-43b9-dc70-b245d7739d98"
      },
      "source": [
        "sns.scatterplot(x='avg_rating',y='num_lectures',size='num_reviews',hue='num_subscribers', data=df,palette='coolwarm')"
      ],
      "execution_count": 106,
      "outputs": [
        {
          "output_type": "execute_result",
          "data": {
            "text/plain": [
              "<AxesSubplot:xlabel='avg_rating', ylabel='num_lectures'>"
            ]
          },
          "metadata": {
            "tags": []
          },
          "execution_count": 106
        },
        {
          "output_type": "display_data",
          "data": {
            "image/png": "[encoded data removed]",
            "text/plain": [
              "<Figure size 576x396 with 1 Axes>"
            ]
          },
          "metadata": {
            "tags": []
          }
        }
      ]
    },
    {
      "cell_type": "markdown",
      "metadata": {
        "id": "_UNUivRow1UA"
      },
      "source": [
        "**No clear trend between number of lectures and the average ratings although as the number of lectures increases, the courses tend to stay within the 4 to 5 range. It might be due the amount of effort that course creator placed in that has some impact.<br /> \n",
        "Overall no clear trend to get meaningful insights.**"
      ]
    },
    {
      "cell_type": "code",
      "metadata": {
        "colab": {
          "base_uri": "https://localhost:8080/",
          "height": 378
        },
        "id": "CSQWP0npmvxm",
        "outputId": "73df383f-64ed-4e76-8fcd-9b0e57584f85"
      },
      "source": [
        "# Plotting the various elements together\n",
        "\n",
        "sns.scatterplot(x='avg_rating',y='num_subscribers',size='num_reviews',hue='published_year', data=df,palette='coolwarm')"
      ],
      "execution_count": 107,
      "outputs": [
        {
          "output_type": "execute_result",
          "data": {
            "text/plain": [
              "<AxesSubplot:xlabel='avg_rating', ylabel='num_subscribers'>"
            ]
          },
          "metadata": {
            "tags": []
          },
          "execution_count": 107
        },
        {
          "output_type": "display_data",
          "data": {
            "image/png": "[encoded data removed]",
            "text/plain": [
              "<Figure size 576x396 with 1 Axes>"
            ]
          },
          "metadata": {
            "tags": []
          }
        }
      ]
    },
    {
      "cell_type": "markdown",
      "metadata": {
        "id": "OTKZy_lmyFxf"
      },
      "source": [
        "**The courses that was published in 2016 seems to have a higher ratings and higher number of subscribers. <br />\n",
        "This will be something interesting for me when looking for courses to learn in Udemy to pay additional attentions to courses published on 2016.**"
      ]
    },
    {
      "cell_type": "markdown",
      "metadata": {
        "id": "LRDdOqI5zp-2"
      },
      "source": [
        "**1. Preparing the dataset for machine learning**"
      ]
    },
    {
      "cell_type": "markdown",
      "metadata": {
        "id": "tS4AuCD10DvQ"
      },
      "source": [
        "**Separate out the categorical variables from numerical variables**"
      ]
    },
    {
      "cell_type": "code",
      "metadata": {
        "colab": {
          "base_uri": "https://localhost:8080/",
          "height": 235
        },
        "id": "uy45wakgmvxn",
        "outputId": "d081c444-f2c9-4225-fb3b-a94809c0c300"
      },
      "source": [
        "# separating the categorical variables from the numerical variables\n",
        "\n",
        "# get list of columns that are numerical\n",
        "num_vars = df.describe().columns\n",
        "\n",
        "# get dataset of categorical columns\n",
        "cat_vars = [c for c in df.columns if c not in num_vars]\n",
        "\n",
        "# describing categorical variables will give you different output\n",
        "df[cat_vars].describe()"
      ],
      "execution_count": 60,
      "outputs": [
        {
          "output_type": "execute_result",
          "data": {
            "text/html": [
              "<div>\n",
              "<style scoped>\n",
              "    .dataframe tbody tr th:only-of-type {\n",
              "        vertical-align: middle;\n",
              "    }\n",
              "\n",
              "    .dataframe tbody tr th {\n",
              "        vertical-align: top;\n",
              "    }\n",
              "\n",
              "    .dataframe thead th {\n",
              "        text-align: right;\n",
              "    }\n",
              "</style>\n",
              "<table border=\"1\" class=\"dataframe\">\n",
              "  <thead>\n",
              "    <tr style=\"text-align: right;\">\n",
              "      <th></th>\n",
              "      <th>title</th>\n",
              "      <th>url</th>\n",
              "      <th>is_paid</th>\n",
              "      <th>created_date</th>\n",
              "      <th>published_date</th>\n",
              "    </tr>\n",
              "  </thead>\n",
              "  <tbody>\n",
              "    <tr>\n",
              "      <th>count</th>\n",
              "      <td>22853</td>\n",
              "      <td>22853</td>\n",
              "      <td>22853</td>\n",
              "      <td>22853</td>\n",
              "      <td>22853</td>\n",
              "    </tr>\n",
              "    <tr>\n",
              "      <th>unique</th>\n",
              "      <td>22750</td>\n",
              "      <td>22853</td>\n",
              "      <td>2</td>\n",
              "      <td>2754</td>\n",
              "      <td>2603</td>\n",
              "    </tr>\n",
              "    <tr>\n",
              "      <th>top</th>\n",
              "      <td>AWS Certified Solutions Architect Associate Pr...</td>\n",
              "      <td>/course/the-complete-sql-bootcamp/</td>\n",
              "      <td>True</td>\n",
              "      <td>2020-04-17 00:00:00</td>\n",
              "      <td>2017-09-13 00:00:00</td>\n",
              "    </tr>\n",
              "    <tr>\n",
              "      <th>freq</th>\n",
              "      <td>5</td>\n",
              "      <td>1</td>\n",
              "      <td>22356</td>\n",
              "      <td>79</td>\n",
              "      <td>55</td>\n",
              "    </tr>\n",
              "    <tr>\n",
              "      <th>first</th>\n",
              "      <td>NaN</td>\n",
              "      <td>NaN</td>\n",
              "      <td>NaN</td>\n",
              "      <td>2010-04-14 00:00:00</td>\n",
              "      <td>2010-04-14 00:00:00</td>\n",
              "    </tr>\n",
              "    <tr>\n",
              "      <th>last</th>\n",
              "      <td>NaN</td>\n",
              "      <td>NaN</td>\n",
              "      <td>NaN</td>\n",
              "      <td>2020-09-09 00:00:00</td>\n",
              "      <td>2020-09-10 00:00:00</td>\n",
              "    </tr>\n",
              "  </tbody>\n",
              "</table>\n",
              "</div>"
            ],
            "text/plain": [
              "                                                    title  \\\n",
              "count                                               22853   \n",
              "unique                                              22750   \n",
              "top     AWS Certified Solutions Architect Associate Pr...   \n",
              "freq                                                    5   \n",
              "first                                                 NaN   \n",
              "last                                                  NaN   \n",
              "\n",
              "                                       url is_paid         created_date  \\\n",
              "count                                22853   22853                22853   \n",
              "unique                               22853       2                 2754   \n",
              "top     /course/the-complete-sql-bootcamp/    True  2020-04-17 00:00:00   \n",
              "freq                                     1   22356                   79   \n",
              "first                                  NaN     NaN  2010-04-14 00:00:00   \n",
              "last                                   NaN     NaN  2020-09-09 00:00:00   \n",
              "\n",
              "             published_date  \n",
              "count                 22853  \n",
              "unique                 2603  \n",
              "top     2017-09-13 00:00:00  \n",
              "freq                     55  \n",
              "first   2010-04-14 00:00:00  \n",
              "last    2020-09-10 00:00:00  "
            ]
          },
          "metadata": {
            "tags": []
          },
          "execution_count": 60
        }
      ]
    },
    {
      "cell_type": "markdown",
      "metadata": {
        "id": "R5WApWYJ0TkX"
      },
      "source": [
        "**Inspect the data again**"
      ]
    },
    {
      "cell_type": "code",
      "metadata": {
        "colab": {
          "base_uri": "https://localhost:8080/"
        },
        "id": "Nnjky_zemvxn",
        "outputId": "cd3f538d-93ed-4771-d723-8d8771b06aca"
      },
      "source": [
        "df.columns"
      ],
      "execution_count": 108,
      "outputs": [
        {
          "output_type": "execute_result",
          "data": {
            "text/plain": [
              "Index(['id', 'title', 'url', 'is_paid', 'num_subscribers', 'avg_rating',\n",
              "       'avg_rating_recent', 'rating', 'num_reviews', 'num_lectures',\n",
              "       'num_tests', 'created_date', 'published_date', 'discount_price_INR',\n",
              "       'full_price_INR', 'created_year', 'created_mth', 'created_day',\n",
              "       'published_year', 'published_mth', 'published_day',\n",
              "       'discount_price_SGD', 'full_price_SGD', 'diff_price_SGD'],\n",
              "      dtype='object')"
            ]
          },
          "metadata": {
            "tags": []
          },
          "execution_count": 108
        }
      ]
    },
    {
      "cell_type": "code",
      "metadata": {
        "colab": {
          "base_uri": "https://localhost:8080/"
        },
        "id": "DVKjLOvnmvxo",
        "outputId": "7d64763c-95e9-488e-d92c-039bea20670b"
      },
      "source": [
        "df.info()"
      ],
      "execution_count": 109,
      "outputs": [
        {
          "output_type": "stream",
          "text": [
            "<class 'pandas.core.frame.DataFrame'>\n",
            "RangeIndex: 22853 entries, 0 to 22852\n",
            "Data columns (total 24 columns):\n",
            " #   Column              Non-Null Count  Dtype         \n",
            "---  ------              --------------  -----         \n",
            " 0   id                  22853 non-null  int64         \n",
            " 1   title               22853 non-null  object        \n",
            " 2   url                 22853 non-null  object        \n",
            " 3   is_paid             22853 non-null  bool          \n",
            " 4   num_subscribers     22853 non-null  int64         \n",
            " 5   avg_rating          22853 non-null  float64       \n",
            " 6   avg_rating_recent   22853 non-null  float64       \n",
            " 7   rating              22853 non-null  float64       \n",
            " 8   num_reviews         22853 non-null  int64         \n",
            " 9   num_lectures        22853 non-null  int64         \n",
            " 10  num_tests           22853 non-null  int64         \n",
            " 11  created_date        22853 non-null  datetime64[ns]\n",
            " 12  published_date      22853 non-null  datetime64[ns]\n",
            " 13  discount_price_INR  22853 non-null  float64       \n",
            " 14  full_price_INR      22853 non-null  float64       \n",
            " 15  created_year        22853 non-null  int64         \n",
            " 16  created_mth         22853 non-null  int64         \n",
            " 17  created_day         22853 non-null  int64         \n",
            " 18  published_year      22853 non-null  int64         \n",
            " 19  published_mth       22853 non-null  int64         \n",
            " 20  published_day       22853 non-null  int64         \n",
            " 21  discount_price_SGD  22853 non-null  float64       \n",
            " 22  full_price_SGD      22853 non-null  float64       \n",
            " 23  diff_price_SGD      22853 non-null  float64       \n",
            "dtypes: bool(1), datetime64[ns](2), float64(8), int64(11), object(2)\n",
            "memory usage: 4.0+ MB\n"
          ],
          "name": "stdout"
        }
      ]
    },
    {
      "cell_type": "markdown",
      "metadata": {
        "id": "RU_1oqOl0aTK"
      },
      "source": [
        "**Identify the variables that we are removing when performing the machine learning**"
      ]
    },
    {
      "cell_type": "markdown",
      "metadata": {
        "id": "b1s2DUoamvxn"
      },
      "source": [
        "Check which variables do we want to remove first\n",
        "* is_paid - True or False, to determine whether a course is paid or not\n",
        "* Number of subscribers - This is our outcome variable\n",
        "* Average rating - useful\n",
        "* Number of reviews - useful\n",
        "* Number of lectures - could be useful\n",
        "* Number of tests - could be useful\n",
        "* Published date - could be useful\n",
        "* Published day - could be useful\n",
        "* Published month - could be useful\n",
        "* Published year - could be useful\n",
        "* Discount price SGD - could be useful\n",
        "* Full price SGD - could be useful\n",
        "* Difference in price SGD - could be useful\n",
        "* Percentage of reviews - could be useful\n",
        "<br />\n",
        "<br />\n",
        "* id - This is the course ID (To be removed)\n",
        "* title - Name of the course (To be removed)\n",
        "* url - Website link to the course (To be removed)\n",
        "* Average rating recent - Overlap with average rating (To be removed)\n",
        "* Rating - Overlap with average rating (To be removed)\n",
        "* Created date - Will use published date instead (To be removed)\n",
        "* Created day - Will use published date instead (To be removed)\n",
        "* Created month - Will use published date instead (To be removed)\n",
        "* Created year - Will use published date instead (To be removed)\n",
        "* Discount price INR - Will use SGD price instead (To be removed)\n",
        "* Full price INR - Will use SGD price instead (To be removed)\n"
      ]
    },
    {
      "cell_type": "markdown",
      "metadata": {
        "id": "cfO0WxCHmvxn"
      },
      "source": [
        "Machine Learning\n",
        "1. Preparing the data for machine learning\n",
        "2. Setting up the machine learning model\n",
        "3. Running the model and evaluate the results.\n",
        "4. Finetune the model by changing the perimeters within the model. \n",
        "\n"
      ]
    },
    {
      "cell_type": "markdown",
      "metadata": {
        "id": "Z_cU-SCu0uVk"
      },
      "source": [
        "**Setting up the machine learning model to predict number of subscribers**"
      ]
    },
    {
      "cell_type": "code",
      "metadata": {
        "colab": {
          "base_uri": "https://localhost:8080/",
          "height": 1000,
          "referenced_widgets": [
            "3f3256c7a0e345098f5466911adefd34",
            "269077d4ac8f48f48d94c2e7ae527a23",
            "c949c60a1b734888a4b7f91bf3ff5678"
          ]
        },
        "id": "vsUYRQJhmvxo",
        "outputId": "d1401214-2a81-484b-d447-c08aa877a631"
      },
      "source": [
        "# Setting up model\n",
        "\n",
        "# https://pycaret.readthedocs.io/en/latest/api/regression.html\n",
        "\n",
        "model = setup(\n",
        "    data=df,\n",
        "    target='num_subscribers',\n",
        "    categorical_features=cat_vars,\n",
        "    ignore_features=['id', 'title', 'url', 'avg_rating_recent', 'rating',\n",
        "                     'created_date', 'created_year', 'created_mth', 'created_day',\n",
        "                     'discount_price_INR', 'full_price_INR','published_date'\n",
        "                    ],\n",
        "    #polynomial_features=True,\n",
        "    #polynomial_degree=2,\n",
        "    remove_outliers=True,\n",
        "    #outliers_threshold=0.05,\n",
        "    #pca=True,\n",
        "    #pca_method='linear',\n",
        "    #pca_components=2,\n",
        "    normalize = True,\n",
        "    normalize_method = 'zscore',\n",
        "    #create_clusters=True,\n",
        "    silent = True\n",
        ")\n",
        "\n",
        "print(\"Model setup completed\")"
      ],
      "execution_count": 150,
      "outputs": [
        {
          "output_type": "display_data",
          "data": {
            "text/html": [
              "<div>\n",
              "<style scoped>\n",
              "    .dataframe tbody tr th:only-of-type {\n",
              "        vertical-align: middle;\n",
              "    }\n",
              "\n",
              "    .dataframe tbody tr th {\n",
              "        vertical-align: top;\n",
              "    }\n",
              "\n",
              "    .dataframe thead th {\n",
              "        text-align: right;\n",
              "    }\n",
              "</style>\n",
              "<table border=\"1\" class=\"dataframe\">\n",
              "  <thead>\n",
              "    <tr style=\"text-align: right;\">\n",
              "      <th></th>\n",
              "      <th>Description</th>\n",
              "      <th>Value</th>\n",
              "    </tr>\n",
              "  </thead>\n",
              "  <tbody>\n",
              "    <tr>\n",
              "      <th>0</th>\n",
              "      <td>session_id</td>\n",
              "      <td>2924</td>\n",
              "    </tr>\n",
              "    <tr>\n",
              "      <th>1</th>\n",
              "      <td>Target</td>\n",
              "      <td>num_subscribers</td>\n",
              "    </tr>\n",
              "    <tr>\n",
              "      <th>2</th>\n",
              "      <td>Original Data</td>\n",
              "      <td>(22853, 24)</td>\n",
              "    </tr>\n",
              "    <tr>\n",
              "      <th>3</th>\n",
              "      <td>Missing Values</td>\n",
              "      <td>False</td>\n",
              "    </tr>\n",
              "    <tr>\n",
              "      <th>4</th>\n",
              "      <td>Numeric Features</td>\n",
              "      <td>7</td>\n",
              "    </tr>\n",
              "    <tr>\n",
              "      <th>5</th>\n",
              "      <td>Categorical Features</td>\n",
              "      <td>4</td>\n",
              "    </tr>\n",
              "    <tr>\n",
              "      <th>6</th>\n",
              "      <td>Ordinal Features</td>\n",
              "      <td>False</td>\n",
              "    </tr>\n",
              "    <tr>\n",
              "      <th>7</th>\n",
              "      <td>High Cardinality Features</td>\n",
              "      <td>False</td>\n",
              "    </tr>\n",
              "    <tr>\n",
              "      <th>8</th>\n",
              "      <td>High Cardinality Method</td>\n",
              "      <td>None</td>\n",
              "    </tr>\n",
              "    <tr>\n",
              "      <th>9</th>\n",
              "      <td>Transformed Train Set</td>\n",
              "      <td>(15197, 33)</td>\n",
              "    </tr>\n",
              "    <tr>\n",
              "      <th>10</th>\n",
              "      <td>Transformed Test Set</td>\n",
              "      <td>(6856, 33)</td>\n",
              "    </tr>\n",
              "    <tr>\n",
              "      <th>11</th>\n",
              "      <td>Shuffle Train-Test</td>\n",
              "      <td>True</td>\n",
              "    </tr>\n",
              "    <tr>\n",
              "      <th>12</th>\n",
              "      <td>Stratify Train-Test</td>\n",
              "      <td>False</td>\n",
              "    </tr>\n",
              "    <tr>\n",
              "      <th>13</th>\n",
              "      <td>Fold Generator</td>\n",
              "      <td>KFold</td>\n",
              "    </tr>\n",
              "    <tr>\n",
              "      <th>14</th>\n",
              "      <td>Fold Number</td>\n",
              "      <td>10</td>\n",
              "    </tr>\n",
              "    <tr>\n",
              "      <th>15</th>\n",
              "      <td>CPU Jobs</td>\n",
              "      <td>-1</td>\n",
              "    </tr>\n",
              "    <tr>\n",
              "      <th>16</th>\n",
              "      <td>Use GPU</td>\n",
              "      <td>False</td>\n",
              "    </tr>\n",
              "    <tr>\n",
              "      <th>17</th>\n",
              "      <td>Log Experiment</td>\n",
              "      <td>False</td>\n",
              "    </tr>\n",
              "    <tr>\n",
              "      <th>18</th>\n",
              "      <td>Experiment Name</td>\n",
              "      <td>reg-default-name</td>\n",
              "    </tr>\n",
              "    <tr>\n",
              "      <th>19</th>\n",
              "      <td>USI</td>\n",
              "      <td>556c</td>\n",
              "    </tr>\n",
              "    <tr>\n",
              "      <th>20</th>\n",
              "      <td>Imputation Type</td>\n",
              "      <td>simple</td>\n",
              "    </tr>\n",
              "    <tr>\n",
              "      <th>21</th>\n",
              "      <td>Iterative Imputation Iteration</td>\n",
              "      <td>None</td>\n",
              "    </tr>\n",
              "    <tr>\n",
              "      <th>22</th>\n",
              "      <td>Numeric Imputer</td>\n",
              "      <td>mean</td>\n",
              "    </tr>\n",
              "    <tr>\n",
              "      <th>23</th>\n",
              "      <td>Iterative Imputation Numeric Model</td>\n",
              "      <td>None</td>\n",
              "    </tr>\n",
              "    <tr>\n",
              "      <th>24</th>\n",
              "      <td>Categorical Imputer</td>\n",
              "      <td>constant</td>\n",
              "    </tr>\n",
              "    <tr>\n",
              "      <th>25</th>\n",
              "      <td>Iterative Imputation Categorical Model</td>\n",
              "      <td>None</td>\n",
              "    </tr>\n",
              "    <tr>\n",
              "      <th>26</th>\n",
              "      <td>Unknown Categoricals Handling</td>\n",
              "      <td>least_frequent</td>\n",
              "    </tr>\n",
              "    <tr>\n",
              "      <th>27</th>\n",
              "      <td>Normalize</td>\n",
              "      <td>True</td>\n",
              "    </tr>\n",
              "    <tr>\n",
              "      <th>28</th>\n",
              "      <td>Normalize Method</td>\n",
              "      <td>zscore</td>\n",
              "    </tr>\n",
              "    <tr>\n",
              "      <th>29</th>\n",
              "      <td>Transformation</td>\n",
              "      <td>False</td>\n",
              "    </tr>\n",
              "    <tr>\n",
              "      <th>30</th>\n",
              "      <td>Transformation Method</td>\n",
              "      <td>None</td>\n",
              "    </tr>\n",
              "    <tr>\n",
              "      <th>31</th>\n",
              "      <td>PCA</td>\n",
              "      <td>False</td>\n",
              "    </tr>\n",
              "    <tr>\n",
              "      <th>32</th>\n",
              "      <td>PCA Method</td>\n",
              "      <td>None</td>\n",
              "    </tr>\n",
              "    <tr>\n",
              "      <th>33</th>\n",
              "      <td>PCA Components</td>\n",
              "      <td>None</td>\n",
              "    </tr>\n",
              "    <tr>\n",
              "      <th>34</th>\n",
              "      <td>Ignore Low Variance</td>\n",
              "      <td>False</td>\n",
              "    </tr>\n",
              "    <tr>\n",
              "      <th>35</th>\n",
              "      <td>Combine Rare Levels</td>\n",
              "      <td>False</td>\n",
              "    </tr>\n",
              "    <tr>\n",
              "      <th>36</th>\n",
              "      <td>Rare Level Threshold</td>\n",
              "      <td>None</td>\n",
              "    </tr>\n",
              "    <tr>\n",
              "      <th>37</th>\n",
              "      <td>Numeric Binning</td>\n",
              "      <td>False</td>\n",
              "    </tr>\n",
              "    <tr>\n",
              "      <th>38</th>\n",
              "      <td>Remove Outliers</td>\n",
              "      <td>True</td>\n",
              "    </tr>\n",
              "    <tr>\n",
              "      <th>39</th>\n",
              "      <td>Outliers Threshold</td>\n",
              "      <td>0.05</td>\n",
              "    </tr>\n",
              "    <tr>\n",
              "      <th>40</th>\n",
              "      <td>Remove Multicollinearity</td>\n",
              "      <td>False</td>\n",
              "    </tr>\n",
              "    <tr>\n",
              "      <th>41</th>\n",
              "      <td>Multicollinearity Threshold</td>\n",
              "      <td>None</td>\n",
              "    </tr>\n",
              "    <tr>\n",
              "      <th>42</th>\n",
              "      <td>Remove Perfect Collinearity</td>\n",
              "      <td>True</td>\n",
              "    </tr>\n",
              "    <tr>\n",
              "      <th>43</th>\n",
              "      <td>Clustering</td>\n",
              "      <td>False</td>\n",
              "    </tr>\n",
              "    <tr>\n",
              "      <th>44</th>\n",
              "      <td>Clustering Iteration</td>\n",
              "      <td>None</td>\n",
              "    </tr>\n",
              "    <tr>\n",
              "      <th>45</th>\n",
              "      <td>Polynomial Features</td>\n",
              "      <td>False</td>\n",
              "    </tr>\n",
              "    <tr>\n",
              "      <th>46</th>\n",
              "      <td>Polynomial Degree</td>\n",
              "      <td>None</td>\n",
              "    </tr>\n",
              "    <tr>\n",
              "      <th>47</th>\n",
              "      <td>Trignometry Features</td>\n",
              "      <td>False</td>\n",
              "    </tr>\n",
              "    <tr>\n",
              "      <th>48</th>\n",
              "      <td>Polynomial Threshold</td>\n",
              "      <td>None</td>\n",
              "    </tr>\n",
              "    <tr>\n",
              "      <th>49</th>\n",
              "      <td>Group Features</td>\n",
              "      <td>False</td>\n",
              "    </tr>\n",
              "    <tr>\n",
              "      <th>50</th>\n",
              "      <td>Feature Selection</td>\n",
              "      <td>False</td>\n",
              "    </tr>\n",
              "    <tr>\n",
              "      <th>51</th>\n",
              "      <td>Feature Selection Method</td>\n",
              "      <td>classic</td>\n",
              "    </tr>\n",
              "    <tr>\n",
              "      <th>52</th>\n",
              "      <td>Features Selection Threshold</td>\n",
              "      <td>None</td>\n",
              "    </tr>\n",
              "    <tr>\n",
              "      <th>53</th>\n",
              "      <td>Feature Interaction</td>\n",
              "      <td>False</td>\n",
              "    </tr>\n",
              "    <tr>\n",
              "      <th>54</th>\n",
              "      <td>Feature Ratio</td>\n",
              "      <td>False</td>\n",
              "    </tr>\n",
              "    <tr>\n",
              "      <th>55</th>\n",
              "      <td>Interaction Threshold</td>\n",
              "      <td>None</td>\n",
              "    </tr>\n",
              "    <tr>\n",
              "      <th>56</th>\n",
              "      <td>Transform Target</td>\n",
              "      <td>False</td>\n",
              "    </tr>\n",
              "    <tr>\n",
              "      <th>57</th>\n",
              "      <td>Transform Target Method</td>\n",
              "      <td>box-cox</td>\n",
              "    </tr>\n",
              "  </tbody>\n",
              "</table>\n",
              "</div>"
            ],
            "text/plain": [
              "                               Description             Value\n",
              "0                               session_id              2924\n",
              "1                                   Target   num_subscribers\n",
              "2                            Original Data       (22853, 24)\n",
              "3                           Missing Values             False\n",
              "4                         Numeric Features                 7\n",
              "5                     Categorical Features                 4\n",
              "6                         Ordinal Features             False\n",
              "7                High Cardinality Features             False\n",
              "8                  High Cardinality Method              None\n",
              "9                    Transformed Train Set       (15197, 33)\n",
              "10                    Transformed Test Set        (6856, 33)\n",
              "11                      Shuffle Train-Test              True\n",
              "12                     Stratify Train-Test             False\n",
              "13                          Fold Generator             KFold\n",
              "14                             Fold Number                10\n",
              "15                                CPU Jobs                -1\n",
              "16                                 Use GPU             False\n",
              "17                          Log Experiment             False\n",
              "18                         Experiment Name  reg-default-name\n",
              "19                                     USI              556c\n",
              "20                         Imputation Type            simple\n",
              "21          Iterative Imputation Iteration              None\n",
              "22                         Numeric Imputer              mean\n",
              "23      Iterative Imputation Numeric Model              None\n",
              "24                     Categorical Imputer          constant\n",
              "25  Iterative Imputation Categorical Model              None\n",
              "26           Unknown Categoricals Handling    least_frequent\n",
              "27                               Normalize              True\n",
              "28                        Normalize Method            zscore\n",
              "29                          Transformation             False\n",
              "30                   Transformation Method              None\n",
              "31                                     PCA             False\n",
              "32                              PCA Method              None\n",
              "33                          PCA Components              None\n",
              "34                     Ignore Low Variance             False\n",
              "35                     Combine Rare Levels             False\n",
              "36                    Rare Level Threshold              None\n",
              "37                         Numeric Binning             False\n",
              "38                         Remove Outliers              True\n",
              "39                      Outliers Threshold              0.05\n",
              "40                Remove Multicollinearity             False\n",
              "41             Multicollinearity Threshold              None\n",
              "42             Remove Perfect Collinearity              True\n",
              "43                              Clustering             False\n",
              "44                    Clustering Iteration              None\n",
              "45                     Polynomial Features             False\n",
              "46                       Polynomial Degree              None\n",
              "47                    Trignometry Features             False\n",
              "48                    Polynomial Threshold              None\n",
              "49                          Group Features             False\n",
              "50                       Feature Selection             False\n",
              "51                Feature Selection Method           classic\n",
              "52            Features Selection Threshold              None\n",
              "53                     Feature Interaction             False\n",
              "54                           Feature Ratio             False\n",
              "55                   Interaction Threshold              None\n",
              "56                        Transform Target             False\n",
              "57                 Transform Target Method           box-cox"
            ]
          },
          "metadata": {
            "tags": []
          }
        },
        {
          "output_type": "stream",
          "text": [
            "Model setup completed\n"
          ],
          "name": "stdout"
        }
      ]
    },
    {
      "cell_type": "markdown",
      "metadata": {
        "id": "BiWXQRVu5pV2"
      },
      "source": [
        "**Next we shall compare the different machine learning models**"
      ]
    },
    {
      "cell_type": "code",
      "metadata": {
        "id": "oE9_50VkoyKL",
        "colab": {
          "base_uri": "https://localhost:8080/",
          "height": 695,
          "referenced_widgets": [
            "d68efb9c701c41d3ad5e7e3eb6e96034",
            "12c7ca571a4d457fa9f5bef3b1e3ce14",
            "3170be0cab6f4339970e9ead91fbeeb7"
          ]
        },
        "outputId": "0a36571e-1c2a-425d-bc43-eb96d5fdb861"
      },
      "source": [
        "compare_models()"
      ],
      "execution_count": 153,
      "outputs": [
        {
          "output_type": "display_data",
          "data": {
            "text/html": [
              "<div>\n",
              "<style scoped>\n",
              "    .dataframe tbody tr th:only-of-type {\n",
              "        vertical-align: middle;\n",
              "    }\n",
              "\n",
              "    .dataframe tbody tr th {\n",
              "        vertical-align: top;\n",
              "    }\n",
              "\n",
              "    .dataframe thead th {\n",
              "        text-align: right;\n",
              "    }\n",
              "</style>\n",
              "<table border=\"1\" class=\"dataframe\">\n",
              "  <thead>\n",
              "    <tr style=\"text-align: right;\">\n",
              "      <th></th>\n",
              "      <th>Model</th>\n",
              "      <th>MAE</th>\n",
              "      <th>MSE</th>\n",
              "      <th>RMSE</th>\n",
              "      <th>R2</th>\n",
              "      <th>RMSLE</th>\n",
              "      <th>MAPE</th>\n",
              "      <th>TT (Sec)</th>\n",
              "    </tr>\n",
              "  </thead>\n",
              "  <tbody>\n",
              "    <tr>\n",
              "      <th>rf</th>\n",
              "      <td>Random Forest Regressor</td>\n",
              "      <td>2336.7518</td>\n",
              "      <td>3.464532e+07</td>\n",
              "      <td>5768.5317</td>\n",
              "      <td>0.4077</td>\n",
              "      <td>1.7736</td>\n",
              "      <td>6.4819</td>\n",
              "      <td>6.344</td>\n",
              "    </tr>\n",
              "    <tr>\n",
              "      <th>lightgbm</th>\n",
              "      <td>Light Gradient Boosting Machine</td>\n",
              "      <td>2260.2415</td>\n",
              "      <td>3.460483e+07</td>\n",
              "      <td>5768.4649</td>\n",
              "      <td>0.4061</td>\n",
              "      <td>1.8732</td>\n",
              "      <td>8.6426</td>\n",
              "      <td>0.152</td>\n",
              "    </tr>\n",
              "    <tr>\n",
              "      <th>gbr</th>\n",
              "      <td>Gradient Boosting Regressor</td>\n",
              "      <td>2346.2951</td>\n",
              "      <td>3.498329e+07</td>\n",
              "      <td>5819.6571</td>\n",
              "      <td>0.3930</td>\n",
              "      <td>2.0325</td>\n",
              "      <td>13.2229</td>\n",
              "      <td>1.221</td>\n",
              "    </tr>\n",
              "    <tr>\n",
              "      <th>et</th>\n",
              "      <td>Extra Trees Regressor</td>\n",
              "      <td>2345.2998</td>\n",
              "      <td>3.690580e+07</td>\n",
              "      <td>5982.4094</td>\n",
              "      <td>0.3550</td>\n",
              "      <td>1.7479</td>\n",
              "      <td>6.5499</td>\n",
              "      <td>5.495</td>\n",
              "    </tr>\n",
              "    <tr>\n",
              "      <th>br</th>\n",
              "      <td>Bayesian Ridge</td>\n",
              "      <td>2639.0769</td>\n",
              "      <td>3.748106e+07</td>\n",
              "      <td>6055.4680</td>\n",
              "      <td>0.3336</td>\n",
              "      <td>2.5499</td>\n",
              "      <td>41.7014</td>\n",
              "      <td>0.030</td>\n",
              "    </tr>\n",
              "    <tr>\n",
              "      <th>lasso</th>\n",
              "      <td>Lasso Regression</td>\n",
              "      <td>2637.7968</td>\n",
              "      <td>3.747627e+07</td>\n",
              "      <td>6055.3364</td>\n",
              "      <td>0.3335</td>\n",
              "      <td>2.5489</td>\n",
              "      <td>41.5816</td>\n",
              "      <td>0.020</td>\n",
              "    </tr>\n",
              "    <tr>\n",
              "      <th>lr</th>\n",
              "      <td>Linear Regression</td>\n",
              "      <td>2638.7894</td>\n",
              "      <td>3.748055e+07</td>\n",
              "      <td>6055.7459</td>\n",
              "      <td>0.3334</td>\n",
              "      <td>2.5486</td>\n",
              "      <td>41.7370</td>\n",
              "      <td>0.029</td>\n",
              "    </tr>\n",
              "    <tr>\n",
              "      <th>ridge</th>\n",
              "      <td>Ridge Regression</td>\n",
              "      <td>2638.8726</td>\n",
              "      <td>3.748029e+07</td>\n",
              "      <td>6055.6824</td>\n",
              "      <td>0.3334</td>\n",
              "      <td>2.5488</td>\n",
              "      <td>41.7363</td>\n",
              "      <td>0.026</td>\n",
              "    </tr>\n",
              "    <tr>\n",
              "      <th>lar</th>\n",
              "      <td>Least Angle Regression</td>\n",
              "      <td>2638.8888</td>\n",
              "      <td>3.747952e+07</td>\n",
              "      <td>6055.6578</td>\n",
              "      <td>0.3334</td>\n",
              "      <td>2.5486</td>\n",
              "      <td>41.7493</td>\n",
              "      <td>0.031</td>\n",
              "    </tr>\n",
              "    <tr>\n",
              "      <th>llar</th>\n",
              "      <td>Lasso Least Angle Regression</td>\n",
              "      <td>2628.9459</td>\n",
              "      <td>3.754806e+07</td>\n",
              "      <td>6058.9879</td>\n",
              "      <td>0.3334</td>\n",
              "      <td>2.5740</td>\n",
              "      <td>38.9554</td>\n",
              "      <td>0.028</td>\n",
              "    </tr>\n",
              "    <tr>\n",
              "      <th>omp</th>\n",
              "      <td>Orthogonal Matching Pursuit</td>\n",
              "      <td>2631.6528</td>\n",
              "      <td>3.762188e+07</td>\n",
              "      <td>6067.0275</td>\n",
              "      <td>0.3308</td>\n",
              "      <td>2.5473</td>\n",
              "      <td>36.0801</td>\n",
              "      <td>0.026</td>\n",
              "    </tr>\n",
              "    <tr>\n",
              "      <th>huber</th>\n",
              "      <td>Huber Regressor</td>\n",
              "      <td>2049.2762</td>\n",
              "      <td>4.036599e+07</td>\n",
              "      <td>6282.3187</td>\n",
              "      <td>0.2846</td>\n",
              "      <td>1.8351</td>\n",
              "      <td>6.8290</td>\n",
              "      <td>0.209</td>\n",
              "    </tr>\n",
              "    <tr>\n",
              "      <th>par</th>\n",
              "      <td>Passive Aggressive Regressor</td>\n",
              "      <td>2017.7454</td>\n",
              "      <td>4.075049e+07</td>\n",
              "      <td>6315.9612</td>\n",
              "      <td>0.2756</td>\n",
              "      <td>1.6489</td>\n",
              "      <td>2.4266</td>\n",
              "      <td>0.107</td>\n",
              "    </tr>\n",
              "    <tr>\n",
              "      <th>knn</th>\n",
              "      <td>K Neighbors Regressor</td>\n",
              "      <td>2868.6751</td>\n",
              "      <td>4.664971e+07</td>\n",
              "      <td>6745.6566</td>\n",
              "      <td>0.1759</td>\n",
              "      <td>2.2780</td>\n",
              "      <td>25.1703</td>\n",
              "      <td>0.754</td>\n",
              "    </tr>\n",
              "    <tr>\n",
              "      <th>en</th>\n",
              "      <td>Elastic Net</td>\n",
              "      <td>3096.8107</td>\n",
              "      <td>4.973805e+07</td>\n",
              "      <td>6929.0902</td>\n",
              "      <td>0.1464</td>\n",
              "      <td>2.7673</td>\n",
              "      <td>45.5173</td>\n",
              "      <td>0.018</td>\n",
              "    </tr>\n",
              "    <tr>\n",
              "      <th>dt</th>\n",
              "      <td>Decision Tree Regressor</td>\n",
              "      <td>2858.9577</td>\n",
              "      <td>6.039085e+07</td>\n",
              "      <td>7717.3643</td>\n",
              "      <td>-0.1046</td>\n",
              "      <td>1.8925</td>\n",
              "      <td>6.6165</td>\n",
              "      <td>0.123</td>\n",
              "    </tr>\n",
              "    <tr>\n",
              "      <th>ada</th>\n",
              "      <td>AdaBoost Regressor</td>\n",
              "      <td>6278.5644</td>\n",
              "      <td>7.992722e+07</td>\n",
              "      <td>8820.2214</td>\n",
              "      <td>-0.5170</td>\n",
              "      <td>3.2802</td>\n",
              "      <td>121.3415</td>\n",
              "      <td>0.608</td>\n",
              "    </tr>\n",
              "  </tbody>\n",
              "</table>\n",
              "</div>"
            ],
            "text/plain": [
              "                                    Model        MAE           MSE       RMSE  \\\n",
              "rf                Random Forest Regressor  2336.7518  3.464532e+07  5768.5317   \n",
              "lightgbm  Light Gradient Boosting Machine  2260.2415  3.460483e+07  5768.4649   \n",
              "gbr           Gradient Boosting Regressor  2346.2951  3.498329e+07  5819.6571   \n",
              "et                  Extra Trees Regressor  2345.2998  3.690580e+07  5982.4094   \n",
              "br                         Bayesian Ridge  2639.0769  3.748106e+07  6055.4680   \n",
              "lasso                    Lasso Regression  2637.7968  3.747627e+07  6055.3364   \n",
              "lr                      Linear Regression  2638.7894  3.748055e+07  6055.7459   \n",
              "ridge                    Ridge Regression  2638.8726  3.748029e+07  6055.6824   \n",
              "lar                Least Angle Regression  2638.8888  3.747952e+07  6055.6578   \n",
              "llar         Lasso Least Angle Regression  2628.9459  3.754806e+07  6058.9879   \n",
              "omp           Orthogonal Matching Pursuit  2631.6528  3.762188e+07  6067.0275   \n",
              "huber                     Huber Regressor  2049.2762  4.036599e+07  6282.3187   \n",
              "par          Passive Aggressive Regressor  2017.7454  4.075049e+07  6315.9612   \n",
              "knn                 K Neighbors Regressor  2868.6751  4.664971e+07  6745.6566   \n",
              "en                            Elastic Net  3096.8107  4.973805e+07  6929.0902   \n",
              "dt                Decision Tree Regressor  2858.9577  6.039085e+07  7717.3643   \n",
              "ada                    AdaBoost Regressor  6278.5644  7.992722e+07  8820.2214   \n",
              "\n",
              "              R2   RMSLE      MAPE  TT (Sec)  \n",
              "rf        0.4077  1.7736    6.4819     6.344  \n",
              "lightgbm  0.4061  1.8732    8.6426     0.152  \n",
              "gbr       0.3930  2.0325   13.2229     1.221  \n",
              "et        0.3550  1.7479    6.5499     5.495  \n",
              "br        0.3336  2.5499   41.7014     0.030  \n",
              "lasso     0.3335  2.5489   41.5816     0.020  \n",
              "lr        0.3334  2.5486   41.7370     0.029  \n",
              "ridge     0.3334  2.5488   41.7363     0.026  \n",
              "lar       0.3334  2.5486   41.7493     0.031  \n",
              "llar      0.3334  2.5740   38.9554     0.028  \n",
              "omp       0.3308  2.5473   36.0801     0.026  \n",
              "huber     0.2846  1.8351    6.8290     0.209  \n",
              "par       0.2756  1.6489    2.4266     0.107  \n",
              "knn       0.1759  2.2780   25.1703     0.754  \n",
              "en        0.1464  2.7673   45.5173     0.018  \n",
              "dt       -0.1046  1.8925    6.6165     0.123  \n",
              "ada      -0.5170  3.2802  121.3415     0.608  "
            ]
          },
          "metadata": {
            "tags": []
          }
        },
        {
          "output_type": "execute_result",
          "data": {
            "text/plain": [
              "RandomForestRegressor(bootstrap=True, ccp_alpha=0.0, criterion='mse',\n",
              "                      max_depth=None, max_features='auto', max_leaf_nodes=None,\n",
              "                      max_samples=None, min_impurity_decrease=0.0,\n",
              "                      min_impurity_split=None, min_samples_leaf=1,\n",
              "                      min_samples_split=2, min_weight_fraction_leaf=0.0,\n",
              "                      n_estimators=100, n_jobs=-1, oob_score=False,\n",
              "                      random_state=2924, verbose=0, warm_start=False)"
            ]
          },
          "metadata": {
            "tags": []
          },
          "execution_count": 153
        }
      ]
    },
    {
      "cell_type": "markdown",
      "metadata": {
        "id": "9OsCRcVCCmGS"
      },
      "source": [
        "**After testing out different machine learning models, select the best model and optimize it further**"
      ]
    },
    {
      "cell_type": "code",
      "metadata": {
        "colab": {
          "base_uri": "https://localhost:8080/",
          "height": 421,
          "referenced_widgets": [
            "d629f038a2074fe39645a7c4030e67a7",
            "173023a9b95045ccb559f07b8e20a0cd",
            "f491b14776cc437a8538011547ac6204"
          ]
        },
        "id": "TlJ5piLg_-x5",
        "outputId": "7aa36ae2-fc03-42e9-990d-86262e6d3e70"
      },
      "source": [
        "dt = create_model('dt')"
      ],
      "execution_count": 151,
      "outputs": [
        {
          "output_type": "display_data",
          "data": {
            "text/html": [
              "<div>\n",
              "<style scoped>\n",
              "    .dataframe tbody tr th:only-of-type {\n",
              "        vertical-align: middle;\n",
              "    }\n",
              "\n",
              "    .dataframe tbody tr th {\n",
              "        vertical-align: top;\n",
              "    }\n",
              "\n",
              "    .dataframe thead th {\n",
              "        text-align: right;\n",
              "    }\n",
              "</style>\n",
              "<table border=\"1\" class=\"dataframe\">\n",
              "  <thead>\n",
              "    <tr style=\"text-align: right;\">\n",
              "      <th></th>\n",
              "      <th>MAE</th>\n",
              "      <th>MSE</th>\n",
              "      <th>RMSE</th>\n",
              "      <th>R2</th>\n",
              "      <th>RMSLE</th>\n",
              "      <th>MAPE</th>\n",
              "    </tr>\n",
              "  </thead>\n",
              "  <tbody>\n",
              "    <tr>\n",
              "      <th>0</th>\n",
              "      <td>2895.3977</td>\n",
              "      <td>7.641627e+07</td>\n",
              "      <td>8741.6400</td>\n",
              "      <td>-0.2224</td>\n",
              "      <td>1.8915</td>\n",
              "      <td>7.4734</td>\n",
              "    </tr>\n",
              "    <tr>\n",
              "      <th>1</th>\n",
              "      <td>2833.9309</td>\n",
              "      <td>5.801955e+07</td>\n",
              "      <td>7617.0562</td>\n",
              "      <td>-0.0209</td>\n",
              "      <td>1.8459</td>\n",
              "      <td>6.5036</td>\n",
              "    </tr>\n",
              "    <tr>\n",
              "      <th>2</th>\n",
              "      <td>2703.5263</td>\n",
              "      <td>5.039235e+07</td>\n",
              "      <td>7098.7572</td>\n",
              "      <td>0.1087</td>\n",
              "      <td>1.8668</td>\n",
              "      <td>6.0202</td>\n",
              "    </tr>\n",
              "    <tr>\n",
              "      <th>3</th>\n",
              "      <td>2665.5497</td>\n",
              "      <td>5.326035e+07</td>\n",
              "      <td>7297.9687</td>\n",
              "      <td>-0.0378</td>\n",
              "      <td>1.8686</td>\n",
              "      <td>6.7827</td>\n",
              "    </tr>\n",
              "    <tr>\n",
              "      <th>4</th>\n",
              "      <td>2752.8168</td>\n",
              "      <td>4.636404e+07</td>\n",
              "      <td>6809.1145</td>\n",
              "      <td>-0.1339</td>\n",
              "      <td>1.8908</td>\n",
              "      <td>6.3450</td>\n",
              "    </tr>\n",
              "    <tr>\n",
              "      <th>5</th>\n",
              "      <td>3017.5704</td>\n",
              "      <td>9.745319e+07</td>\n",
              "      <td>9871.8382</td>\n",
              "      <td>0.2024</td>\n",
              "      <td>1.8477</td>\n",
              "      <td>6.1318</td>\n",
              "    </tr>\n",
              "    <tr>\n",
              "      <th>6</th>\n",
              "      <td>2862.3382</td>\n",
              "      <td>4.483664e+07</td>\n",
              "      <td>6696.0170</td>\n",
              "      <td>-0.0537</td>\n",
              "      <td>1.9303</td>\n",
              "      <td>6.5937</td>\n",
              "    </tr>\n",
              "    <tr>\n",
              "      <th>7</th>\n",
              "      <td>2917.4078</td>\n",
              "      <td>5.382528e+07</td>\n",
              "      <td>7336.5711</td>\n",
              "      <td>-0.7715</td>\n",
              "      <td>1.9332</td>\n",
              "      <td>6.9729</td>\n",
              "    </tr>\n",
              "    <tr>\n",
              "      <th>8</th>\n",
              "      <td>3012.0362</td>\n",
              "      <td>6.332995e+07</td>\n",
              "      <td>7958.0118</td>\n",
              "      <td>0.1095</td>\n",
              "      <td>1.9726</td>\n",
              "      <td>7.0137</td>\n",
              "    </tr>\n",
              "    <tr>\n",
              "      <th>9</th>\n",
              "      <td>2929.0026</td>\n",
              "      <td>6.001087e+07</td>\n",
              "      <td>7746.6685</td>\n",
              "      <td>-0.2263</td>\n",
              "      <td>1.8771</td>\n",
              "      <td>6.3282</td>\n",
              "    </tr>\n",
              "    <tr>\n",
              "      <th>Mean</th>\n",
              "      <td>2858.9577</td>\n",
              "      <td>6.039085e+07</td>\n",
              "      <td>7717.3643</td>\n",
              "      <td>-0.1046</td>\n",
              "      <td>1.8925</td>\n",
              "      <td>6.6165</td>\n",
              "    </tr>\n",
              "    <tr>\n",
              "      <th>SD</th>\n",
              "      <td>114.7653</td>\n",
              "      <td>1.509120e+07</td>\n",
              "      <td>912.7633</td>\n",
              "      <td>0.2596</td>\n",
              "      <td>0.0389</td>\n",
              "      <td>0.4251</td>\n",
              "    </tr>\n",
              "  </tbody>\n",
              "</table>\n",
              "</div>"
            ],
            "text/plain": [
              "            MAE           MSE       RMSE      R2   RMSLE    MAPE\n",
              "0     2895.3977  7.641627e+07  8741.6400 -0.2224  1.8915  7.4734\n",
              "1     2833.9309  5.801955e+07  7617.0562 -0.0209  1.8459  6.5036\n",
              "2     2703.5263  5.039235e+07  7098.7572  0.1087  1.8668  6.0202\n",
              "3     2665.5497  5.326035e+07  7297.9687 -0.0378  1.8686  6.7827\n",
              "4     2752.8168  4.636404e+07  6809.1145 -0.1339  1.8908  6.3450\n",
              "5     3017.5704  9.745319e+07  9871.8382  0.2024  1.8477  6.1318\n",
              "6     2862.3382  4.483664e+07  6696.0170 -0.0537  1.9303  6.5937\n",
              "7     2917.4078  5.382528e+07  7336.5711 -0.7715  1.9332  6.9729\n",
              "8     3012.0362  6.332995e+07  7958.0118  0.1095  1.9726  7.0137\n",
              "9     2929.0026  6.001087e+07  7746.6685 -0.2263  1.8771  6.3282\n",
              "Mean  2858.9577  6.039085e+07  7717.3643 -0.1046  1.8925  6.6165\n",
              "SD     114.7653  1.509120e+07   912.7633  0.2596  0.0389  0.4251"
            ]
          },
          "metadata": {
            "tags": []
          }
        }
      ]
    },
    {
      "cell_type": "code",
      "metadata": {
        "colab": {
          "base_uri": "https://localhost:8080/",
          "height": 421,
          "referenced_widgets": [
            "7f4ca785b49e4c978b9235958d7aa951",
            "d90f9c8cb35f4309b5535c66b6e3ab5a",
            "a56991ac52144e59bb23f12fe3a4e422"
          ]
        },
        "id": "6riENwtYAFY9",
        "outputId": "4ef237d0-c2d4-4b07-fee2-a2817270fa56"
      },
      "source": [
        "tuned_dt = tune_model(dt, optimize = 'MAPE')"
      ],
      "execution_count": 152,
      "outputs": [
        {
          "output_type": "display_data",
          "data": {
            "text/html": [
              "<div>\n",
              "<style scoped>\n",
              "    .dataframe tbody tr th:only-of-type {\n",
              "        vertical-align: middle;\n",
              "    }\n",
              "\n",
              "    .dataframe tbody tr th {\n",
              "        vertical-align: top;\n",
              "    }\n",
              "\n",
              "    .dataframe thead th {\n",
              "        text-align: right;\n",
              "    }\n",
              "</style>\n",
              "<table border=\"1\" class=\"dataframe\">\n",
              "  <thead>\n",
              "    <tr style=\"text-align: right;\">\n",
              "      <th></th>\n",
              "      <th>MAE</th>\n",
              "      <th>MSE</th>\n",
              "      <th>RMSE</th>\n",
              "      <th>R2</th>\n",
              "      <th>RMSLE</th>\n",
              "      <th>MAPE</th>\n",
              "    </tr>\n",
              "  </thead>\n",
              "  <tbody>\n",
              "    <tr>\n",
              "      <th>0</th>\n",
              "      <td>2061.7576</td>\n",
              "      <td>4.465917e+07</td>\n",
              "      <td>6682.7515</td>\n",
              "      <td>0.2856</td>\n",
              "      <td>1.4697</td>\n",
              "      <td>1.1820</td>\n",
              "    </tr>\n",
              "    <tr>\n",
              "      <th>1</th>\n",
              "      <td>2014.4970</td>\n",
              "      <td>3.578721e+07</td>\n",
              "      <td>5982.2412</td>\n",
              "      <td>0.3703</td>\n",
              "      <td>1.4630</td>\n",
              "      <td>1.1084</td>\n",
              "    </tr>\n",
              "    <tr>\n",
              "      <th>2</th>\n",
              "      <td>1893.1030</td>\n",
              "      <td>4.360085e+07</td>\n",
              "      <td>6603.0939</td>\n",
              "      <td>0.2288</td>\n",
              "      <td>1.5035</td>\n",
              "      <td>1.1726</td>\n",
              "    </tr>\n",
              "    <tr>\n",
              "      <th>3</th>\n",
              "      <td>1899.2780</td>\n",
              "      <td>3.222532e+07</td>\n",
              "      <td>5676.7354</td>\n",
              "      <td>0.3720</td>\n",
              "      <td>1.4819</td>\n",
              "      <td>1.1030</td>\n",
              "    </tr>\n",
              "    <tr>\n",
              "      <th>4</th>\n",
              "      <td>1901.1293</td>\n",
              "      <td>3.239488e+07</td>\n",
              "      <td>5691.6503</td>\n",
              "      <td>0.2077</td>\n",
              "      <td>1.4609</td>\n",
              "      <td>1.1135</td>\n",
              "    </tr>\n",
              "    <tr>\n",
              "      <th>5</th>\n",
              "      <td>2218.4339</td>\n",
              "      <td>7.721736e+07</td>\n",
              "      <td>8787.3411</td>\n",
              "      <td>0.3680</td>\n",
              "      <td>1.4848</td>\n",
              "      <td>1.1554</td>\n",
              "    </tr>\n",
              "    <tr>\n",
              "      <th>6</th>\n",
              "      <td>2007.9273</td>\n",
              "      <td>4.053909e+07</td>\n",
              "      <td>6367.0318</td>\n",
              "      <td>0.0473</td>\n",
              "      <td>1.5352</td>\n",
              "      <td>1.3311</td>\n",
              "    </tr>\n",
              "    <tr>\n",
              "      <th>7</th>\n",
              "      <td>1906.7298</td>\n",
              "      <td>2.456264e+07</td>\n",
              "      <td>4956.0706</td>\n",
              "      <td>0.1916</td>\n",
              "      <td>1.5401</td>\n",
              "      <td>1.4099</td>\n",
              "    </tr>\n",
              "    <tr>\n",
              "      <th>8</th>\n",
              "      <td>2181.0533</td>\n",
              "      <td>5.456591e+07</td>\n",
              "      <td>7386.8743</td>\n",
              "      <td>0.2327</td>\n",
              "      <td>1.5638</td>\n",
              "      <td>1.1700</td>\n",
              "    </tr>\n",
              "    <tr>\n",
              "      <th>9</th>\n",
              "      <td>2064.1406</td>\n",
              "      <td>3.914146e+07</td>\n",
              "      <td>6256.3134</td>\n",
              "      <td>0.2002</td>\n",
              "      <td>1.4752</td>\n",
              "      <td>1.1367</td>\n",
              "    </tr>\n",
              "    <tr>\n",
              "      <th>Mean</th>\n",
              "      <td>2014.8050</td>\n",
              "      <td>4.246939e+07</td>\n",
              "      <td>6439.0103</td>\n",
              "      <td>0.2504</td>\n",
              "      <td>1.4978</td>\n",
              "      <td>1.1883</td>\n",
              "    </tr>\n",
              "    <tr>\n",
              "      <th>SD</th>\n",
              "      <td>112.4942</td>\n",
              "      <td>1.395122e+07</td>\n",
              "      <td>1004.2587</td>\n",
              "      <td>0.0970</td>\n",
              "      <td>0.0345</td>\n",
              "      <td>0.0965</td>\n",
              "    </tr>\n",
              "  </tbody>\n",
              "</table>\n",
              "</div>"
            ],
            "text/plain": [
              "            MAE           MSE       RMSE      R2   RMSLE    MAPE\n",
              "0     2061.7576  4.465917e+07  6682.7515  0.2856  1.4697  1.1820\n",
              "1     2014.4970  3.578721e+07  5982.2412  0.3703  1.4630  1.1084\n",
              "2     1893.1030  4.360085e+07  6603.0939  0.2288  1.5035  1.1726\n",
              "3     1899.2780  3.222532e+07  5676.7354  0.3720  1.4819  1.1030\n",
              "4     1901.1293  3.239488e+07  5691.6503  0.2077  1.4609  1.1135\n",
              "5     2218.4339  7.721736e+07  8787.3411  0.3680  1.4848  1.1554\n",
              "6     2007.9273  4.053909e+07  6367.0318  0.0473  1.5352  1.3311\n",
              "7     1906.7298  2.456264e+07  4956.0706  0.1916  1.5401  1.4099\n",
              "8     2181.0533  5.456591e+07  7386.8743  0.2327  1.5638  1.1700\n",
              "9     2064.1406  3.914146e+07  6256.3134  0.2002  1.4752  1.1367\n",
              "Mean  2014.8050  4.246939e+07  6439.0103  0.2504  1.4978  1.1883\n",
              "SD     112.4942  1.395122e+07  1004.2587  0.0970  0.0345  0.0965"
            ]
          },
          "metadata": {
            "tags": []
          }
        }
      ]
    },
    {
      "cell_type": "markdown",
      "metadata": {
        "id": "Vb4EaaLZ6wBN"
      },
      "source": [
        "**After optimising the model, it provides a much better MAPE of 1.1883 compared to MAPE of 6.6165 before optimising.**"
      ]
    },
    {
      "cell_type": "code",
      "metadata": {
        "colab": {
          "base_uri": "https://localhost:8080/",
          "height": 478
        },
        "id": "xdv_BjNjbmJQ",
        "outputId": "c8e6795d-2098-4eef-8e4e-631997390893"
      },
      "source": [
        "plot_model(tuned_dt, plot='feature')"
      ],
      "execution_count": 154,
      "outputs": [
        {
          "output_type": "display_data",
          "data": {
            "image/png": "[encoded data removed]",
            "text/plain": [
              "<Figure size 800x500 with 1 Axes>"
            ]
          },
          "metadata": {
            "tags": []
          }
        }
      ]
    },
    {
      "cell_type": "code",
      "metadata": {
        "colab": {
          "base_uri": "https://localhost:8080/",
          "height": 376
        },
        "id": "6u1u4Iek9Pml",
        "outputId": "f66959de-8699-4a25-a002-47ae990bfc5a"
      },
      "source": [
        "plot_model(tuned_dt)"
      ],
      "execution_count": 155,
      "outputs": [
        {
          "output_type": "display_data",
          "data": {
            "image/png": "[encoded data removed]",
            "text/plain": [
              "<Figure size 576x396 with 2 Axes>"
            ]
          },
          "metadata": {
            "tags": []
          }
        }
      ]
    },
    {
      "cell_type": "markdown",
      "metadata": {
        "id": "Kx5kT4OCDZLo"
      },
      "source": [
        "**In the end, the model is not very effective in predicting the number of subscribers although it will be able to give a good enough estimate.**"
      ]
    }
  ]
}