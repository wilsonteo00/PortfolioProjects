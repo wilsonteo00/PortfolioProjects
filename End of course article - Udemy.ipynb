{
 "cells": [
  {
   "cell_type": "markdown",
   "metadata": {},
   "source": [
    "**This is an Exploratory Data Analysis on the Udemy dataset<br />\n",
    "Name of dataset: IT & Software Courses Udemy - 22k+ courses<br />\n",
    "Source of dataset: https://www.kaggle.com/jilkothari/it-software-courses-udemy-22k-courses<br />\n",
    "<br />\n",
    "This project will be focusing on answering the following questions:**\n",
    "1. What makes a course popular in Udemy?\n",
    "2. Are there any trend in the Udemy over the years?\n",
    "3. Popular keywords used in Udemy\n"
   ]
  },
  {
   "cell_type": "markdown",
   "metadata": {},
   "source": [
    "Setting up the environment\n",
    "1. Importing the relevant packages\n",
    "2. Importing data from the file into data frame"
   ]
  },
  {
   "cell_type": "code",
   "execution_count": 1,
   "metadata": {},
   "outputs": [],
   "source": [
    "# To install new version of ploty & swifter package\n",
    "#!pip3 install plotly==4.8\n",
    "#!pip3 install swifter\n",
    "\n",
    "# install pandas profiling package as it is not in colab\n",
    "# -I force reinstall even if already installed\n",
    "#!pip3 install -I pandas_profiling\n",
    "#!pip install numpy==1.20.0\n",
    "\n",
    "# Error installing pycaret\n",
    "# pycaret is a low code machine learning package\n",
    "# shap is a package used by pycaret to explain the outputs of a model\n",
    "#!pip3 install pycaret --user\n",
    "#!pip3 install shap --user"
   ]
  },
  {
   "cell_type": "code",
   "execution_count": 23,
   "metadata": {},
   "outputs": [],
   "source": [
    "# Import the relevant packages\n",
    "\n",
    "# for basic data cleaning operation\n",
    "import numpy as np\n",
    "import pandas as pd\n",
    "\n",
    "# for visualisation\n",
    "import matplotlib\n",
    "import matplotlib.pyplot as plt\n",
    "plt.style.use('ggplot')\n",
    "from matplotlib.pyplot import figure\n",
    "import plotly.express as px\n",
    "import seaborn as sns\n",
    "\n",
    "%matplotlib inline\n",
    "# Adjusts the configuration of the plots\n",
    "matplotlib.rcParams['figure.figsize'] = (12,8)\n",
    "\n",
    "# for machine learning\n",
    "# from pycaret.regression import *\n",
    "# documentation: https://pycaret.readthedocs.io/en/latest/api/regression.html\n",
    "\n",
    "# To control visual output\n",
    "#pd.set_option('display.max_rows',15)"
   ]
  },
  {
   "cell_type": "code",
   "execution_count": 3,
   "metadata": {},
   "outputs": [],
   "source": [
    "# Importing data from file\n",
    "\n",
    "folder_path = \"C:/Users/wilso/OneDrive/Desktop/Portfolio_Project/Datasets\"\n",
    "file = 'Udemy_data.csv'\n",
    "\n",
    "df = pd.read_csv(folder_path + \"/\" + file)"
   ]
  },
  {
   "cell_type": "markdown",
   "metadata": {},
   "source": [
    "Getting an initial feel of the data\n",
    "1. Look at the first 5 rows of data\n",
    "2. Getting indepth information for the data (Data types, number of rows, number of non-null)\n",
    "3. Identify how much data are missing for each column\n",
    "4. Look at the number of unique values for each column\n",
    "5. Looking at the column names"
   ]
  },
  {
   "cell_type": "code",
   "execution_count": 4,
   "metadata": {},
   "outputs": [
    {
     "data": {
      "text/html": [
       "<div>\n",
       "<style scoped>\n",
       "    .dataframe tbody tr th:only-of-type {\n",
       "        vertical-align: middle;\n",
       "    }\n",
       "\n",
       "    .dataframe tbody tr th {\n",
       "        vertical-align: top;\n",
       "    }\n",
       "\n",
       "    .dataframe thead th {\n",
       "        text-align: right;\n",
       "    }\n",
       "</style>\n",
       "<table border=\"1\" class=\"dataframe\">\n",
       "  <thead>\n",
       "    <tr style=\"text-align: right;\">\n",
       "      <th></th>\n",
       "      <th>id</th>\n",
       "      <th>title</th>\n",
       "      <th>url</th>\n",
       "      <th>is_paid</th>\n",
       "      <th>num_subscribers</th>\n",
       "      <th>avg_rating</th>\n",
       "      <th>avg_rating_recent</th>\n",
       "      <th>rating</th>\n",
       "      <th>num_reviews</th>\n",
       "      <th>is_wishlisted</th>\n",
       "      <th>num_published_lectures</th>\n",
       "      <th>num_published_practice_tests</th>\n",
       "      <th>created</th>\n",
       "      <th>published_time</th>\n",
       "      <th>discount_price__amount</th>\n",
       "      <th>discount_price__currency</th>\n",
       "      <th>discount_price__price_string</th>\n",
       "      <th>price_detail__amount</th>\n",
       "      <th>price_detail__currency</th>\n",
       "      <th>price_detail__price_string</th>\n",
       "    </tr>\n",
       "  </thead>\n",
       "  <tbody>\n",
       "    <tr>\n",
       "      <th>0</th>\n",
       "      <td>762616</td>\n",
       "      <td>The Complete SQL Bootcamp 2020: Go from Zero t...</td>\n",
       "      <td>/course/the-complete-sql-bootcamp/</td>\n",
       "      <td>True</td>\n",
       "      <td>295509</td>\n",
       "      <td>4.66019</td>\n",
       "      <td>4.67874</td>\n",
       "      <td>4.67874</td>\n",
       "      <td>78006</td>\n",
       "      <td>False</td>\n",
       "      <td>84</td>\n",
       "      <td>0</td>\n",
       "      <td>2016-02-14T22:57:48Z</td>\n",
       "      <td>2016-04-06T05:16:11Z</td>\n",
       "      <td>455.0</td>\n",
       "      <td>INR</td>\n",
       "      <td>₹455</td>\n",
       "      <td>8640.0</td>\n",
       "      <td>INR</td>\n",
       "      <td>₹8,640</td>\n",
       "    </tr>\n",
       "    <tr>\n",
       "      <th>1</th>\n",
       "      <td>937678</td>\n",
       "      <td>Tableau 2020 A-Z: Hands-On Tableau Training fo...</td>\n",
       "      <td>/course/tableau10/</td>\n",
       "      <td>True</td>\n",
       "      <td>209070</td>\n",
       "      <td>4.58956</td>\n",
       "      <td>4.60015</td>\n",
       "      <td>4.60015</td>\n",
       "      <td>54581</td>\n",
       "      <td>False</td>\n",
       "      <td>78</td>\n",
       "      <td>0</td>\n",
       "      <td>2016-08-22T12:10:18Z</td>\n",
       "      <td>2016-08-23T16:59:49Z</td>\n",
       "      <td>455.0</td>\n",
       "      <td>INR</td>\n",
       "      <td>₹455</td>\n",
       "      <td>8640.0</td>\n",
       "      <td>INR</td>\n",
       "      <td>₹8,640</td>\n",
       "    </tr>\n",
       "    <tr>\n",
       "      <th>2</th>\n",
       "      <td>1361790</td>\n",
       "      <td>PMP Exam Prep Seminar -  PMBOK Guide 6</td>\n",
       "      <td>/course/pmp-pmbok6-35-pdus/</td>\n",
       "      <td>True</td>\n",
       "      <td>155282</td>\n",
       "      <td>4.59491</td>\n",
       "      <td>4.59326</td>\n",
       "      <td>4.59326</td>\n",
       "      <td>52653</td>\n",
       "      <td>False</td>\n",
       "      <td>292</td>\n",
       "      <td>2</td>\n",
       "      <td>2017-09-26T16:32:48Z</td>\n",
       "      <td>2017-11-14T23:58:14Z</td>\n",
       "      <td>455.0</td>\n",
       "      <td>INR</td>\n",
       "      <td>₹455</td>\n",
       "      <td>8640.0</td>\n",
       "      <td>INR</td>\n",
       "      <td>₹8,640</td>\n",
       "    </tr>\n",
       "    <tr>\n",
       "      <th>3</th>\n",
       "      <td>648826</td>\n",
       "      <td>The Complete Financial Analyst Course 2020</td>\n",
       "      <td>/course/the-complete-financial-analyst-course/</td>\n",
       "      <td>True</td>\n",
       "      <td>245860</td>\n",
       "      <td>4.54407</td>\n",
       "      <td>4.53772</td>\n",
       "      <td>4.53772</td>\n",
       "      <td>46447</td>\n",
       "      <td>False</td>\n",
       "      <td>338</td>\n",
       "      <td>0</td>\n",
       "      <td>2015-10-23T13:34:35Z</td>\n",
       "      <td>2016-01-21T01:38:48Z</td>\n",
       "      <td>455.0</td>\n",
       "      <td>INR</td>\n",
       "      <td>₹455</td>\n",
       "      <td>8640.0</td>\n",
       "      <td>INR</td>\n",
       "      <td>₹8,640</td>\n",
       "    </tr>\n",
       "    <tr>\n",
       "      <th>4</th>\n",
       "      <td>637930</td>\n",
       "      <td>An Entire MBA in 1 Course:Award Winning Busine...</td>\n",
       "      <td>/course/an-entire-mba-in-1-courseaward-winning...</td>\n",
       "      <td>True</td>\n",
       "      <td>374836</td>\n",
       "      <td>4.47080</td>\n",
       "      <td>4.47173</td>\n",
       "      <td>4.47173</td>\n",
       "      <td>41630</td>\n",
       "      <td>False</td>\n",
       "      <td>83</td>\n",
       "      <td>0</td>\n",
       "      <td>2015-10-12T06:39:46Z</td>\n",
       "      <td>2016-01-11T21:39:33Z</td>\n",
       "      <td>455.0</td>\n",
       "      <td>INR</td>\n",
       "      <td>₹455</td>\n",
       "      <td>8640.0</td>\n",
       "      <td>INR</td>\n",
       "      <td>₹8,640</td>\n",
       "    </tr>\n",
       "  </tbody>\n",
       "</table>\n",
       "</div>"
      ],
      "text/plain": [
       "        id                                              title  \\\n",
       "0   762616  The Complete SQL Bootcamp 2020: Go from Zero t...   \n",
       "1   937678  Tableau 2020 A-Z: Hands-On Tableau Training fo...   \n",
       "2  1361790             PMP Exam Prep Seminar -  PMBOK Guide 6   \n",
       "3   648826         The Complete Financial Analyst Course 2020   \n",
       "4   637930  An Entire MBA in 1 Course:Award Winning Busine...   \n",
       "\n",
       "                                                 url  is_paid  \\\n",
       "0                 /course/the-complete-sql-bootcamp/     True   \n",
       "1                                 /course/tableau10/     True   \n",
       "2                        /course/pmp-pmbok6-35-pdus/     True   \n",
       "3     /course/the-complete-financial-analyst-course/     True   \n",
       "4  /course/an-entire-mba-in-1-courseaward-winning...     True   \n",
       "\n",
       "   num_subscribers  avg_rating  avg_rating_recent   rating  num_reviews  \\\n",
       "0           295509     4.66019            4.67874  4.67874        78006   \n",
       "1           209070     4.58956            4.60015  4.60015        54581   \n",
       "2           155282     4.59491            4.59326  4.59326        52653   \n",
       "3           245860     4.54407            4.53772  4.53772        46447   \n",
       "4           374836     4.47080            4.47173  4.47173        41630   \n",
       "\n",
       "   is_wishlisted  num_published_lectures  num_published_practice_tests  \\\n",
       "0          False                      84                             0   \n",
       "1          False                      78                             0   \n",
       "2          False                     292                             2   \n",
       "3          False                     338                             0   \n",
       "4          False                      83                             0   \n",
       "\n",
       "                created        published_time  discount_price__amount  \\\n",
       "0  2016-02-14T22:57:48Z  2016-04-06T05:16:11Z                   455.0   \n",
       "1  2016-08-22T12:10:18Z  2016-08-23T16:59:49Z                   455.0   \n",
       "2  2017-09-26T16:32:48Z  2017-11-14T23:58:14Z                   455.0   \n",
       "3  2015-10-23T13:34:35Z  2016-01-21T01:38:48Z                   455.0   \n",
       "4  2015-10-12T06:39:46Z  2016-01-11T21:39:33Z                   455.0   \n",
       "\n",
       "  discount_price__currency discount_price__price_string  price_detail__amount  \\\n",
       "0                      INR                         ₹455                8640.0   \n",
       "1                      INR                         ₹455                8640.0   \n",
       "2                      INR                         ₹455                8640.0   \n",
       "3                      INR                         ₹455                8640.0   \n",
       "4                      INR                         ₹455                8640.0   \n",
       "\n",
       "  price_detail__currency price_detail__price_string  \n",
       "0                    INR                     ₹8,640  \n",
       "1                    INR                     ₹8,640  \n",
       "2                    INR                     ₹8,640  \n",
       "3                    INR                     ₹8,640  \n",
       "4                    INR                     ₹8,640  "
      ]
     },
     "execution_count": 4,
     "metadata": {},
     "output_type": "execute_result"
    }
   ],
   "source": [
    "# Initial look at the data\n",
    "\n",
    "df.head()"
   ]
  },
  {
   "cell_type": "code",
   "execution_count": 5,
   "metadata": {},
   "outputs": [
    {
     "name": "stdout",
     "output_type": "stream",
     "text": [
      "<class 'pandas.core.frame.DataFrame'>\n",
      "RangeIndex: 22853 entries, 0 to 22852\n",
      "Data columns (total 20 columns):\n",
      " #   Column                        Non-Null Count  Dtype  \n",
      "---  ------                        --------------  -----  \n",
      " 0   id                            22853 non-null  int64  \n",
      " 1   title                         22853 non-null  object \n",
      " 2   url                           22853 non-null  object \n",
      " 3   is_paid                       22853 non-null  bool   \n",
      " 4   num_subscribers               22853 non-null  int64  \n",
      " 5   avg_rating                    22853 non-null  float64\n",
      " 6   avg_rating_recent             22853 non-null  float64\n",
      " 7   rating                        22853 non-null  float64\n",
      " 8   num_reviews                   22853 non-null  int64  \n",
      " 9   is_wishlisted                 22853 non-null  bool   \n",
      " 10  num_published_lectures        22853 non-null  int64  \n",
      " 11  num_published_practice_tests  22853 non-null  int64  \n",
      " 12  created                       22853 non-null  object \n",
      " 13  published_time                22853 non-null  object \n",
      " 14  discount_price__amount        21024 non-null  float64\n",
      " 15  discount_price__currency      21024 non-null  object \n",
      " 16  discount_price__price_string  21024 non-null  object \n",
      " 17  price_detail__amount          22356 non-null  float64\n",
      " 18  price_detail__currency        22356 non-null  object \n",
      " 19  price_detail__price_string    22356 non-null  object \n",
      "dtypes: bool(2), float64(5), int64(5), object(8)\n",
      "memory usage: 3.2+ MB\n"
     ]
    }
   ],
   "source": [
    "# To get more information about the data\n",
    "\n",
    "df.info()"
   ]
  },
  {
   "cell_type": "code",
   "execution_count": 6,
   "metadata": {},
   "outputs": [
    {
     "name": "stdout",
     "output_type": "stream",
     "text": [
      "id - 0.0%\n",
      "title - 0.0%\n",
      "url - 0.0%\n",
      "is_paid - 0.0%\n",
      "num_subscribers - 0.0%\n",
      "avg_rating - 0.0%\n",
      "avg_rating_recent - 0.0%\n",
      "rating - 0.0%\n",
      "num_reviews - 0.0%\n",
      "is_wishlisted - 0.0%\n",
      "num_published_lectures - 0.0%\n",
      "num_published_practice_tests - 0.0%\n",
      "created - 0.0%\n",
      "published_time - 0.0%\n",
      "discount_price__amount - 0.08003%\n",
      "discount_price__currency - 0.08003%\n",
      "discount_price__price_string - 0.08003%\n",
      "price_detail__amount - 0.02175%\n",
      "price_detail__currency - 0.02175%\n",
      "price_detail__price_string - 0.02175%\n"
     ]
    }
   ],
   "source": [
    "# To check for missing data\n",
    "# Perform a loop through the data to get the percentage of completeness\n",
    "\n",
    "for col in df.columns:\n",
    "    pct_missing = np.mean(df[col].isnull())\n",
    "    print(f'{col} - {round(pct_missing,5)}%')"
   ]
  },
  {
   "cell_type": "code",
   "execution_count": 7,
   "metadata": {},
   "outputs": [
    {
     "data": {
      "text/plain": [
       "id                              22853\n",
       "title                           22750\n",
       "url                             22853\n",
       "is_paid                             2\n",
       "num_subscribers                  6824\n",
       "avg_rating                       3235\n",
       "avg_rating_recent               20070\n",
       "rating                          20070\n",
       "num_reviews                      1750\n",
       "is_wishlisted                       1\n",
       "num_published_lectures            392\n",
       "num_published_practice_tests        7\n",
       "created                         22851\n",
       "published_time                  22846\n",
       "discount_price__amount             55\n",
       "discount_price__currency            1\n",
       "discount_price__price_string       55\n",
       "price_detail__amount               37\n",
       "price_detail__currency              1\n",
       "price_detail__price_string         37\n",
       "dtype: int64"
      ]
     },
     "execution_count": 7,
     "metadata": {},
     "output_type": "execute_result"
    }
   ],
   "source": [
    "# Getting the number of unique values for each column\n",
    "\n",
    "df.nunique()"
   ]
  },
  {
   "cell_type": "code",
   "execution_count": 8,
   "metadata": {},
   "outputs": [
    {
     "data": {
      "text/plain": [
       "Index(['id', 'title', 'url', 'is_paid', 'num_subscribers', 'avg_rating',\n",
       "       'avg_rating_recent', 'rating', 'num_reviews', 'is_wishlisted',\n",
       "       'num_published_lectures', 'num_published_practice_tests', 'created',\n",
       "       'published_time', 'discount_price__amount', 'discount_price__currency',\n",
       "       'discount_price__price_string', 'price_detail__amount',\n",
       "       'price_detail__currency', 'price_detail__price_string'],\n",
       "      dtype='object')"
      ]
     },
     "execution_count": 8,
     "metadata": {},
     "output_type": "execute_result"
    }
   ],
   "source": [
    "# Viewing the column names\n",
    "\n",
    "df.columns"
   ]
  },
  {
   "cell_type": "markdown",
   "metadata": {},
   "source": [
    "After doing the initial observation of the data, there are a few things that need to be done:\n",
    "\n",
    "1. Rename columns for clarity\n",
    "2. Changing created and published_time into the datetime format.\n",
    "3. Expanding the datetime column into days, months and years column.\n",
    "4. Inspect the missing values and decide what to do with it.\n",
    "5. Add in additional columns for discounted price and price detail in SGD for easier reference. \n",
    "6. Drop off currency and price string columns as they are not useful.\n",
    "7. Drop off wishlisted column as well as it all have one unique value (Not meaningful). \n"
   ]
  },
  {
   "cell_type": "code",
   "execution_count": 9,
   "metadata": {},
   "outputs": [
    {
     "data": {
      "text/html": [
       "<div>\n",
       "<style scoped>\n",
       "    .dataframe tbody tr th:only-of-type {\n",
       "        vertical-align: middle;\n",
       "    }\n",
       "\n",
       "    .dataframe tbody tr th {\n",
       "        vertical-align: top;\n",
       "    }\n",
       "\n",
       "    .dataframe thead th {\n",
       "        text-align: right;\n",
       "    }\n",
       "</style>\n",
       "<table border=\"1\" class=\"dataframe\">\n",
       "  <thead>\n",
       "    <tr style=\"text-align: right;\">\n",
       "      <th></th>\n",
       "      <th>id</th>\n",
       "      <th>title</th>\n",
       "      <th>url</th>\n",
       "      <th>is_paid</th>\n",
       "      <th>num_subscribers</th>\n",
       "      <th>avg_rating</th>\n",
       "      <th>avg_rating_recent</th>\n",
       "      <th>rating</th>\n",
       "      <th>num_reviews</th>\n",
       "      <th>is_wishlisted</th>\n",
       "      <th>num_lectures</th>\n",
       "      <th>num_tests</th>\n",
       "      <th>created_date</th>\n",
       "      <th>published_date</th>\n",
       "      <th>discount_price_INR</th>\n",
       "      <th>discount_price__currency</th>\n",
       "      <th>discount_price__price_string</th>\n",
       "      <th>full_price_INR</th>\n",
       "      <th>price_detail__currency</th>\n",
       "      <th>price_detail__price_string</th>\n",
       "    </tr>\n",
       "  </thead>\n",
       "  <tbody>\n",
       "    <tr>\n",
       "      <th>0</th>\n",
       "      <td>762616</td>\n",
       "      <td>The Complete SQL Bootcamp 2020: Go from Zero t...</td>\n",
       "      <td>/course/the-complete-sql-bootcamp/</td>\n",
       "      <td>True</td>\n",
       "      <td>295509</td>\n",
       "      <td>4.66019</td>\n",
       "      <td>4.67874</td>\n",
       "      <td>4.67874</td>\n",
       "      <td>78006</td>\n",
       "      <td>False</td>\n",
       "      <td>84</td>\n",
       "      <td>0</td>\n",
       "      <td>2016-02-14T22:57:48Z</td>\n",
       "      <td>2016-04-06T05:16:11Z</td>\n",
       "      <td>455.0</td>\n",
       "      <td>INR</td>\n",
       "      <td>₹455</td>\n",
       "      <td>8640.0</td>\n",
       "      <td>INR</td>\n",
       "      <td>₹8,640</td>\n",
       "    </tr>\n",
       "    <tr>\n",
       "      <th>1</th>\n",
       "      <td>937678</td>\n",
       "      <td>Tableau 2020 A-Z: Hands-On Tableau Training fo...</td>\n",
       "      <td>/course/tableau10/</td>\n",
       "      <td>True</td>\n",
       "      <td>209070</td>\n",
       "      <td>4.58956</td>\n",
       "      <td>4.60015</td>\n",
       "      <td>4.60015</td>\n",
       "      <td>54581</td>\n",
       "      <td>False</td>\n",
       "      <td>78</td>\n",
       "      <td>0</td>\n",
       "      <td>2016-08-22T12:10:18Z</td>\n",
       "      <td>2016-08-23T16:59:49Z</td>\n",
       "      <td>455.0</td>\n",
       "      <td>INR</td>\n",
       "      <td>₹455</td>\n",
       "      <td>8640.0</td>\n",
       "      <td>INR</td>\n",
       "      <td>₹8,640</td>\n",
       "    </tr>\n",
       "  </tbody>\n",
       "</table>\n",
       "</div>"
      ],
      "text/plain": [
       "       id                                              title  \\\n",
       "0  762616  The Complete SQL Bootcamp 2020: Go from Zero t...   \n",
       "1  937678  Tableau 2020 A-Z: Hands-On Tableau Training fo...   \n",
       "\n",
       "                                  url  is_paid  num_subscribers  avg_rating  \\\n",
       "0  /course/the-complete-sql-bootcamp/     True           295509     4.66019   \n",
       "1                  /course/tableau10/     True           209070     4.58956   \n",
       "\n",
       "   avg_rating_recent   rating  num_reviews  is_wishlisted  num_lectures  \\\n",
       "0            4.67874  4.67874        78006          False            84   \n",
       "1            4.60015  4.60015        54581          False            78   \n",
       "\n",
       "   num_tests          created_date        published_date  discount_price_INR  \\\n",
       "0          0  2016-02-14T22:57:48Z  2016-04-06T05:16:11Z               455.0   \n",
       "1          0  2016-08-22T12:10:18Z  2016-08-23T16:59:49Z               455.0   \n",
       "\n",
       "  discount_price__currency discount_price__price_string  full_price_INR  \\\n",
       "0                      INR                         ₹455          8640.0   \n",
       "1                      INR                         ₹455          8640.0   \n",
       "\n",
       "  price_detail__currency price_detail__price_string  \n",
       "0                    INR                     ₹8,640  \n",
       "1                    INR                     ₹8,640  "
      ]
     },
     "execution_count": 9,
     "metadata": {},
     "output_type": "execute_result"
    }
   ],
   "source": [
    "# Rename columns for clarity\n",
    "\n",
    "df = df.rename(columns = {'price_detail__amount':'full_price_INR',\n",
    "                          'discount_price__amount':'discount_price_INR',\n",
    "                          'published_time':'published_date',\n",
    "                          'created':'created_date',\n",
    "                          'num_published_practice_tests':'num_tests',\n",
    "                          'num_published_lectures':'num_lectures'}) \n",
    "\n",
    "df.head(2)"
   ]
  },
  {
   "cell_type": "code",
   "execution_count": 10,
   "metadata": {},
   "outputs": [
    {
     "name": "stdout",
     "output_type": "stream",
     "text": [
      "<class 'pandas.core.frame.DataFrame'>\n",
      "RangeIndex: 22853 entries, 0 to 22852\n",
      "Data columns (total 26 columns):\n",
      " #   Column                        Non-Null Count  Dtype         \n",
      "---  ------                        --------------  -----         \n",
      " 0   id                            22853 non-null  int64         \n",
      " 1   title                         22853 non-null  object        \n",
      " 2   url                           22853 non-null  object        \n",
      " 3   is_paid                       22853 non-null  bool          \n",
      " 4   num_subscribers               22853 non-null  int64         \n",
      " 5   avg_rating                    22853 non-null  float64       \n",
      " 6   avg_rating_recent             22853 non-null  float64       \n",
      " 7   rating                        22853 non-null  float64       \n",
      " 8   num_reviews                   22853 non-null  int64         \n",
      " 9   is_wishlisted                 22853 non-null  bool          \n",
      " 10  num_lectures                  22853 non-null  int64         \n",
      " 11  num_tests                     22853 non-null  int64         \n",
      " 12  created_date                  22853 non-null  datetime64[ns]\n",
      " 13  published_date                22853 non-null  datetime64[ns]\n",
      " 14  discount_price_INR            21024 non-null  float64       \n",
      " 15  discount_price__currency      21024 non-null  object        \n",
      " 16  discount_price__price_string  21024 non-null  object        \n",
      " 17  full_price_INR                22356 non-null  float64       \n",
      " 18  price_detail__currency        22356 non-null  object        \n",
      " 19  price_detail__price_string    22356 non-null  object        \n",
      " 20  created_year                  22853 non-null  int64         \n",
      " 21  created_mth                   22853 non-null  int64         \n",
      " 22  created_day                   22853 non-null  int64         \n",
      " 23  published_year                22853 non-null  int64         \n",
      " 24  published_mth                 22853 non-null  int64         \n",
      " 25  published_day                 22853 non-null  int64         \n",
      "dtypes: bool(2), datetime64[ns](2), float64(5), int64(11), object(6)\n",
      "memory usage: 4.2+ MB\n"
     ]
    }
   ],
   "source": [
    "# Changing created and published dates into datetime format and extract day,month and year from it\n",
    "\n",
    "# for created date\n",
    "df['created_date'] = df.created_date.apply(lambda x: x[:10])\n",
    "df['created_date'] = pd.to_datetime(df[\"created_date\"],format = '%Y/%m/%d')\n",
    "df['created_year'] = df.created_date.dt.year\n",
    "df['created_mth'] = df.created_date.dt.month\n",
    "df['created_day'] = df.created_date.dt.day\n",
    "\n",
    "# for published date\n",
    "df['published_date'] = df.published_date.apply(lambda x: x[:10])\n",
    "df['published_date'] = pd.to_datetime(df[\"published_date\"],format = '%Y/%m/%d')\n",
    "df['published_year'] = df.published_date.dt.year\n",
    "df['published_mth'] = df.published_date.dt.month\n",
    "df['published_day'] = df.published_date.dt.day\n",
    "\n",
    "df.info()"
   ]
  },
  {
   "cell_type": "code",
   "execution_count": 11,
   "metadata": {},
   "outputs": [
    {
     "data": {
      "text/html": [
       "<div>\n",
       "<style scoped>\n",
       "    .dataframe tbody tr th:only-of-type {\n",
       "        vertical-align: middle;\n",
       "    }\n",
       "\n",
       "    .dataframe tbody tr th {\n",
       "        vertical-align: top;\n",
       "    }\n",
       "\n",
       "    .dataframe thead th {\n",
       "        text-align: right;\n",
       "    }\n",
       "</style>\n",
       "<table border=\"1\" class=\"dataframe\">\n",
       "  <thead>\n",
       "    <tr style=\"text-align: right;\">\n",
       "      <th></th>\n",
       "      <th>title</th>\n",
       "      <th>is_paid</th>\n",
       "      <th>discount_price_INR</th>\n",
       "      <th>full_price_INR</th>\n",
       "    </tr>\n",
       "  </thead>\n",
       "  <tbody>\n",
       "    <tr>\n",
       "      <th>11484</th>\n",
       "      <td>Stock Market Investing for Beginners</td>\n",
       "      <td>False</td>\n",
       "      <td>NaN</td>\n",
       "      <td>NaN</td>\n",
       "    </tr>\n",
       "    <tr>\n",
       "      <th>11485</th>\n",
       "      <td>Introduction to Financial Modeling</td>\n",
       "      <td>False</td>\n",
       "      <td>NaN</td>\n",
       "      <td>NaN</td>\n",
       "    </tr>\n",
       "    <tr>\n",
       "      <th>11486</th>\n",
       "      <td>Introduction to Corporate Finance (Mergers &amp; A...</td>\n",
       "      <td>False</td>\n",
       "      <td>NaN</td>\n",
       "      <td>NaN</td>\n",
       "    </tr>\n",
       "    <tr>\n",
       "      <th>11487</th>\n",
       "      <td>Learn and Master the Basics of Finance</td>\n",
       "      <td>False</td>\n",
       "      <td>NaN</td>\n",
       "      <td>NaN</td>\n",
       "    </tr>\n",
       "    <tr>\n",
       "      <th>11488</th>\n",
       "      <td>Stock Market Foundations</td>\n",
       "      <td>False</td>\n",
       "      <td>NaN</td>\n",
       "      <td>NaN</td>\n",
       "    </tr>\n",
       "    <tr>\n",
       "      <th>...</th>\n",
       "      <td>...</td>\n",
       "      <td>...</td>\n",
       "      <td>...</td>\n",
       "      <td>...</td>\n",
       "    </tr>\n",
       "    <tr>\n",
       "      <th>13602</th>\n",
       "      <td>מסחר אוטומטי בשוק ההון</td>\n",
       "      <td>False</td>\n",
       "      <td>NaN</td>\n",
       "      <td>NaN</td>\n",
       "    </tr>\n",
       "    <tr>\n",
       "      <th>13603</th>\n",
       "      <td>מושגים בסיסיים באופציות חלק ב</td>\n",
       "      <td>False</td>\n",
       "      <td>NaN</td>\n",
       "      <td>NaN</td>\n",
       "    </tr>\n",
       "    <tr>\n",
       "      <th>13604</th>\n",
       "      <td>Programa de Integridade</td>\n",
       "      <td>False</td>\n",
       "      <td>NaN</td>\n",
       "      <td>NaN</td>\n",
       "    </tr>\n",
       "    <tr>\n",
       "      <th>13605</th>\n",
       "      <td>Goodwill and Method of Calculating Goodwill (A...</td>\n",
       "      <td>False</td>\n",
       "      <td>NaN</td>\n",
       "      <td>NaN</td>\n",
       "    </tr>\n",
       "    <tr>\n",
       "      <th>13606</th>\n",
       "      <td>Poderoso Investidor</td>\n",
       "      <td>False</td>\n",
       "      <td>NaN</td>\n",
       "      <td>NaN</td>\n",
       "    </tr>\n",
       "  </tbody>\n",
       "</table>\n",
       "<p>496 rows × 4 columns</p>\n",
       "</div>"
      ],
      "text/plain": [
       "                                                   title  is_paid  \\\n",
       "11484               Stock Market Investing for Beginners    False   \n",
       "11485                 Introduction to Financial Modeling    False   \n",
       "11486  Introduction to Corporate Finance (Mergers & A...    False   \n",
       "11487             Learn and Master the Basics of Finance    False   \n",
       "11488                           Stock Market Foundations    False   \n",
       "...                                                  ...      ...   \n",
       "13602                             מסחר אוטומטי בשוק ההון    False   \n",
       "13603                      מושגים בסיסיים באופציות חלק ב    False   \n",
       "13604                            Programa de Integridade    False   \n",
       "13605  Goodwill and Method of Calculating Goodwill (A...    False   \n",
       "13606                                Poderoso Investidor    False   \n",
       "\n",
       "       discount_price_INR  full_price_INR  \n",
       "11484                 NaN             NaN  \n",
       "11485                 NaN             NaN  \n",
       "11486                 NaN             NaN  \n",
       "11487                 NaN             NaN  \n",
       "11488                 NaN             NaN  \n",
       "...                   ...             ...  \n",
       "13602                 NaN             NaN  \n",
       "13603                 NaN             NaN  \n",
       "13604                 NaN             NaN  \n",
       "13605                 NaN             NaN  \n",
       "13606                 NaN             NaN  \n",
       "\n",
       "[496 rows x 4 columns]"
      ]
     },
     "execution_count": 11,
     "metadata": {},
     "output_type": "execute_result"
    }
   ],
   "source": [
    "# Look into the missing values\n",
    "\n",
    "# Looking into full price being empty and it is a free course\n",
    "\n",
    "df[df['full_price_INR'].isnull() & (df['is_paid'] == False)][['title','is_paid','discount_price_INR','full_price_INR']]"
   ]
  },
  {
   "cell_type": "code",
   "execution_count": 12,
   "metadata": {},
   "outputs": [
    {
     "data": {
      "text/html": [
       "<div>\n",
       "<style scoped>\n",
       "    .dataframe tbody tr th:only-of-type {\n",
       "        vertical-align: middle;\n",
       "    }\n",
       "\n",
       "    .dataframe tbody tr th {\n",
       "        vertical-align: top;\n",
       "    }\n",
       "\n",
       "    .dataframe thead th {\n",
       "        text-align: right;\n",
       "    }\n",
       "</style>\n",
       "<table border=\"1\" class=\"dataframe\">\n",
       "  <thead>\n",
       "    <tr style=\"text-align: right;\">\n",
       "      <th></th>\n",
       "      <th>title</th>\n",
       "      <th>is_paid</th>\n",
       "      <th>discount_price_INR</th>\n",
       "      <th>full_price_INR</th>\n",
       "    </tr>\n",
       "  </thead>\n",
       "  <tbody>\n",
       "    <tr>\n",
       "      <th>13607</th>\n",
       "      <td>Acabou a Previdência e agora? -  Volume 03</td>\n",
       "      <td>True</td>\n",
       "      <td>NaN</td>\n",
       "      <td>NaN</td>\n",
       "    </tr>\n",
       "  </tbody>\n",
       "</table>\n",
       "</div>"
      ],
      "text/plain": [
       "                                            title  is_paid  \\\n",
       "13607  Acabou a Previdência e agora? -  Volume 03     True   \n",
       "\n",
       "       discount_price_INR  full_price_INR  \n",
       "13607                 NaN             NaN  "
      ]
     },
     "execution_count": 12,
     "metadata": {},
     "output_type": "execute_result"
    }
   ],
   "source": [
    "# Looking into full price being empty but it is a paid course\n",
    "\n",
    "df[df['full_price_INR'].isnull() & (df['is_paid'] == True)][['title','is_paid','discount_price_INR','full_price_INR']]"
   ]
  },
  {
   "cell_type": "markdown",
   "metadata": {},
   "source": [
    "**After a quick inspection, we can safely say that all of the courses which has missing prices belongs to the free courses category except for one course which indicate that it is paid but there is no price. <br />\n",
    "<br />\n",
    "We will proceed to add in zero to these empty fields to avoid errors later on.**"
   ]
  },
  {
   "cell_type": "code",
   "execution_count": 13,
   "metadata": {},
   "outputs": [
    {
     "data": {
      "text/plain": [
       "(0, 0)"
      ]
     },
     "execution_count": 13,
     "metadata": {},
     "output_type": "execute_result"
    }
   ],
   "source": [
    "# To add in zeros for the missing values for discount price and full price\n",
    "\n",
    "df.discount_price_INR = df.discount_price_INR.fillna(value = 0)\n",
    "df.full_price_INR = df.full_price_INR.fillna(value = 0)\n",
    "\n",
    "# To confirm that there is no more empty values in both columns - Should show (0,0) if no missing values\n",
    "\n",
    "df.discount_price_INR.isnull().sum(), df.full_price_INR.isnull().sum()"
   ]
  },
  {
   "cell_type": "code",
   "execution_count": 14,
   "metadata": {},
   "outputs": [
    {
     "data": {
      "text/html": [
       "<div>\n",
       "<style scoped>\n",
       "    .dataframe tbody tr th:only-of-type {\n",
       "        vertical-align: middle;\n",
       "    }\n",
       "\n",
       "    .dataframe tbody tr th {\n",
       "        vertical-align: top;\n",
       "    }\n",
       "\n",
       "    .dataframe thead th {\n",
       "        text-align: right;\n",
       "    }\n",
       "</style>\n",
       "<table border=\"1\" class=\"dataframe\">\n",
       "  <thead>\n",
       "    <tr style=\"text-align: right;\">\n",
       "      <th></th>\n",
       "      <th>id</th>\n",
       "      <th>title</th>\n",
       "      <th>url</th>\n",
       "      <th>is_paid</th>\n",
       "      <th>num_subscribers</th>\n",
       "      <th>avg_rating</th>\n",
       "      <th>avg_rating_recent</th>\n",
       "      <th>rating</th>\n",
       "      <th>num_reviews</th>\n",
       "      <th>is_wishlisted</th>\n",
       "      <th>...</th>\n",
       "      <th>price_detail__currency</th>\n",
       "      <th>price_detail__price_string</th>\n",
       "      <th>created_year</th>\n",
       "      <th>created_mth</th>\n",
       "      <th>created_day</th>\n",
       "      <th>published_year</th>\n",
       "      <th>published_mth</th>\n",
       "      <th>published_day</th>\n",
       "      <th>discount_price_SGD</th>\n",
       "      <th>full_price_SGD</th>\n",
       "    </tr>\n",
       "  </thead>\n",
       "  <tbody>\n",
       "    <tr>\n",
       "      <th>0</th>\n",
       "      <td>762616</td>\n",
       "      <td>The Complete SQL Bootcamp 2020: Go from Zero t...</td>\n",
       "      <td>/course/the-complete-sql-bootcamp/</td>\n",
       "      <td>True</td>\n",
       "      <td>295509</td>\n",
       "      <td>4.66019</td>\n",
       "      <td>4.67874</td>\n",
       "      <td>4.67874</td>\n",
       "      <td>78006</td>\n",
       "      <td>False</td>\n",
       "      <td>...</td>\n",
       "      <td>INR</td>\n",
       "      <td>₹8,640</td>\n",
       "      <td>2016</td>\n",
       "      <td>2</td>\n",
       "      <td>14</td>\n",
       "      <td>2016</td>\n",
       "      <td>4</td>\n",
       "      <td>6</td>\n",
       "      <td>8.19</td>\n",
       "      <td>155.52</td>\n",
       "    </tr>\n",
       "    <tr>\n",
       "      <th>1</th>\n",
       "      <td>937678</td>\n",
       "      <td>Tableau 2020 A-Z: Hands-On Tableau Training fo...</td>\n",
       "      <td>/course/tableau10/</td>\n",
       "      <td>True</td>\n",
       "      <td>209070</td>\n",
       "      <td>4.58956</td>\n",
       "      <td>4.60015</td>\n",
       "      <td>4.60015</td>\n",
       "      <td>54581</td>\n",
       "      <td>False</td>\n",
       "      <td>...</td>\n",
       "      <td>INR</td>\n",
       "      <td>₹8,640</td>\n",
       "      <td>2016</td>\n",
       "      <td>8</td>\n",
       "      <td>22</td>\n",
       "      <td>2016</td>\n",
       "      <td>8</td>\n",
       "      <td>23</td>\n",
       "      <td>8.19</td>\n",
       "      <td>155.52</td>\n",
       "    </tr>\n",
       "  </tbody>\n",
       "</table>\n",
       "<p>2 rows × 28 columns</p>\n",
       "</div>"
      ],
      "text/plain": [
       "       id                                              title  \\\n",
       "0  762616  The Complete SQL Bootcamp 2020: Go from Zero t...   \n",
       "1  937678  Tableau 2020 A-Z: Hands-On Tableau Training fo...   \n",
       "\n",
       "                                  url  is_paid  num_subscribers  avg_rating  \\\n",
       "0  /course/the-complete-sql-bootcamp/     True           295509     4.66019   \n",
       "1                  /course/tableau10/     True           209070     4.58956   \n",
       "\n",
       "   avg_rating_recent   rating  num_reviews  is_wishlisted  ...  \\\n",
       "0            4.67874  4.67874        78006          False  ...   \n",
       "1            4.60015  4.60015        54581          False  ...   \n",
       "\n",
       "   price_detail__currency  price_detail__price_string created_year  \\\n",
       "0                     INR                      ₹8,640         2016   \n",
       "1                     INR                      ₹8,640         2016   \n",
       "\n",
       "  created_mth  created_day published_year published_mth  published_day  \\\n",
       "0           2           14           2016             4              6   \n",
       "1           8           22           2016             8             23   \n",
       "\n",
       "  discount_price_SGD full_price_SGD  \n",
       "0               8.19         155.52  \n",
       "1               8.19         155.52  \n",
       "\n",
       "[2 rows x 28 columns]"
      ]
     },
     "execution_count": 14,
     "metadata": {},
     "output_type": "execute_result"
    }
   ],
   "source": [
    "# To create new columns for discount and full prices in SGD to get a better sense of the pricing.\n",
    "# Exchange rate for INR to SGD is 0.018 (as of 8th July 2021)\n",
    "\n",
    "df['discount_price_SGD'] = list(round(df['discount_price_INR']*0.018,2))\n",
    "df['full_price_SGD'] = list(round(df['full_price_INR']*0.018,2))\n",
    "\n",
    "df.head(2)"
   ]
  },
  {
   "cell_type": "code",
   "execution_count": 15,
   "metadata": {},
   "outputs": [
    {
     "data": {
      "text/plain": [
       "0.00      1829\n",
       "8.19     19700\n",
       "8.32        63\n",
       "8.42       231\n",
       "8.53        51\n",
       "8.64        32\n",
       "8.66       137\n",
       "8.78        45\n",
       "8.89        38\n",
       "9.00        16\n",
       "9.13         9\n",
       "9.25        13\n",
       "9.36        39\n",
       "9.47         1\n",
       "9.59         4\n",
       "9.72         3\n",
       "9.83         2\n",
       "9.94         2\n",
       "10.08       15\n",
       "11.00        2\n",
       "11.52       36\n",
       "12.60      164\n",
       "12.96       21\n",
       "13.32        2\n",
       "13.68        2\n",
       "14.40       58\n",
       "15.84        5\n",
       "17.28       17\n",
       "18.72        9\n",
       "20.16       13\n",
       "21.60        9\n",
       "23.04       14\n",
       "24.48        7\n",
       "25.92       12\n",
       "27.36        9\n",
       "28.80       43\n",
       "30.24        4\n",
       "31.68        5\n",
       "33.12        2\n",
       "34.56        9\n",
       "36.00       10\n",
       "37.44       10\n",
       "38.88        5\n",
       "40.32        9\n",
       "41.76        3\n",
       "43.20       24\n",
       "44.64        3\n",
       "46.08        4\n",
       "47.52        3\n",
       "48.96        7\n",
       "50.40        7\n",
       "51.84       12\n",
       "53.28        3\n",
       "54.72        3\n",
       "56.16        3\n",
       "57.60       74\n",
       "Name: discount_price_SGD, dtype: int64"
      ]
     },
     "execution_count": 15,
     "metadata": {},
     "output_type": "execute_result"
    }
   ],
   "source": [
    "# Showing the number of courses based on different discount price point \n",
    "\n",
    "df.discount_price_SGD.value_counts().sort_index()"
   ]
  },
  {
   "cell_type": "code",
   "execution_count": 16,
   "metadata": {},
   "outputs": [
    {
     "data": {
      "text/plain": [
       "0.00       497\n",
       "23.04     5963\n",
       "28.80     1324\n",
       "34.56     1209\n",
       "40.32      751\n",
       "46.08      762\n",
       "51.84      360\n",
       "57.60     1633\n",
       "63.36      196\n",
       "69.12      282\n",
       "74.88      151\n",
       "80.64      222\n",
       "86.40      352\n",
       "92.16      276\n",
       "97.92      145\n",
       "103.68     227\n",
       "109.44     430\n",
       "115.20    1610\n",
       "120.96     106\n",
       "126.72      99\n",
       "132.48      58\n",
       "138.24     166\n",
       "144.00     275\n",
       "149.76     165\n",
       "155.52    5187\n",
       "161.28      98\n",
       "167.04      43\n",
       "172.80      64\n",
       "178.56       4\n",
       "184.32       9\n",
       "190.08       3\n",
       "195.84       2\n",
       "201.60       5\n",
       "207.36       7\n",
       "213.12       6\n",
       "218.88       4\n",
       "224.64       9\n",
       "230.40     153\n",
       "Name: full_price_SGD, dtype: int64"
      ]
     },
     "execution_count": 16,
     "metadata": {},
     "output_type": "execute_result"
    }
   ],
   "source": [
    "# Showing the number of courses based on different full price point \n",
    "\n",
    "df.full_price_SGD.value_counts().sort_index() "
   ]
  },
  {
   "cell_type": "code",
   "execution_count": 17,
   "metadata": {},
   "outputs": [],
   "source": [
    "# Remove currency, price string and wishlisted columns\n",
    "\n",
    "df = df.drop(['is_wishlisted', 'discount_price__currency','discount_price__price_string',\n",
    "            'price_detail__currency','price_detail__price_string'],axis=1)"
   ]
  },
  {
   "cell_type": "code",
   "execution_count": 18,
   "metadata": {},
   "outputs": [
    {
     "name": "stdout",
     "output_type": "stream",
     "text": [
      "<class 'pandas.core.frame.DataFrame'>\n",
      "RangeIndex: 22853 entries, 0 to 22852\n",
      "Data columns (total 23 columns):\n",
      " #   Column              Non-Null Count  Dtype         \n",
      "---  ------              --------------  -----         \n",
      " 0   id                  22853 non-null  int64         \n",
      " 1   title               22853 non-null  object        \n",
      " 2   url                 22853 non-null  object        \n",
      " 3   is_paid             22853 non-null  bool          \n",
      " 4   num_subscribers     22853 non-null  int64         \n",
      " 5   avg_rating          22853 non-null  float64       \n",
      " 6   avg_rating_recent   22853 non-null  float64       \n",
      " 7   rating              22853 non-null  float64       \n",
      " 8   num_reviews         22853 non-null  int64         \n",
      " 9   num_lectures        22853 non-null  int64         \n",
      " 10  num_tests           22853 non-null  int64         \n",
      " 11  created_date        22853 non-null  datetime64[ns]\n",
      " 12  published_date      22853 non-null  datetime64[ns]\n",
      " 13  discount_price_INR  22853 non-null  float64       \n",
      " 14  full_price_INR      22853 non-null  float64       \n",
      " 15  created_year        22853 non-null  int64         \n",
      " 16  created_mth         22853 non-null  int64         \n",
      " 17  created_day         22853 non-null  int64         \n",
      " 18  published_year      22853 non-null  int64         \n",
      " 19  published_mth       22853 non-null  int64         \n",
      " 20  published_day       22853 non-null  int64         \n",
      " 21  discount_price_SGD  22853 non-null  float64       \n",
      " 22  full_price_SGD      22853 non-null  float64       \n",
      "dtypes: bool(1), datetime64[ns](2), float64(7), int64(11), object(2)\n",
      "memory usage: 3.9+ MB\n"
     ]
    }
   ],
   "source": [
    "# Review the data information again before starting the analysis and visualisation\n",
    "\n",
    "df.info()"
   ]
  },
  {
   "cell_type": "code",
   "execution_count": 123,
   "metadata": {},
   "outputs": [
    {
     "name": "stderr",
     "output_type": "stream",
     "text": [
      "C:\\Users\\wilso\\Anaconda3\\lib\\site-packages\\ipykernel_launcher.py:1: FutureWarning: Indexing with multiple keys (implicitly converted to a tuple of keys) will be deprecated, use a list instead.\n",
      "  \"\"\"Entry point for launching an IPython kernel.\n"
     ]
    },
    {
     "data": {
      "text/html": [
       "<div>\n",
       "<style scoped>\n",
       "    .dataframe tbody tr th:only-of-type {\n",
       "        vertical-align: middle;\n",
       "    }\n",
       "\n",
       "    .dataframe tbody tr th {\n",
       "        vertical-align: top;\n",
       "    }\n",
       "\n",
       "    .dataframe thead th {\n",
       "        text-align: right;\n",
       "    }\n",
       "</style>\n",
       "<table border=\"1\" class=\"dataframe\">\n",
       "  <thead>\n",
       "    <tr style=\"text-align: right;\">\n",
       "      <th></th>\n",
       "      <th>num_subscribers</th>\n",
       "      <th>avg_rating</th>\n",
       "      <th>num_reviews</th>\n",
       "    </tr>\n",
       "    <tr>\n",
       "      <th>is_paid</th>\n",
       "      <th></th>\n",
       "      <th></th>\n",
       "      <th></th>\n",
       "    </tr>\n",
       "  </thead>\n",
       "  <tbody>\n",
       "    <tr>\n",
       "      <th>False</th>\n",
       "      <td>5854.482897</td>\n",
       "      <td>3.959954</td>\n",
       "      <td>308.678068</td>\n",
       "    </tr>\n",
       "    <tr>\n",
       "      <th>True</th>\n",
       "      <td>3146.557121</td>\n",
       "      <td>3.952187</td>\n",
       "      <td>269.423868</td>\n",
       "    </tr>\n",
       "  </tbody>\n",
       "</table>\n",
       "</div>"
      ],
      "text/plain": [
       "         num_subscribers  avg_rating  num_reviews\n",
       "is_paid                                          \n",
       "False        5854.482897    3.959954   308.678068\n",
       "True         3146.557121    3.952187   269.423868"
      ]
     },
     "execution_count": 123,
     "metadata": {},
     "output_type": "execute_result"
    }
   ],
   "source": [
    "# Comparing the average values based on whether the courses are paid or free\n",
    "\n",
    "df.groupby('is_paid')['num_subscribers','avg_rating','num_reviews'].mean()"
   ]
  },
  {
   "cell_type": "code",
   "execution_count": 125,
   "metadata": {},
   "outputs": [
    {
     "data": {
      "text/html": [
       "<div>\n",
       "<style scoped>\n",
       "    .dataframe tbody tr th:only-of-type {\n",
       "        vertical-align: middle;\n",
       "    }\n",
       "\n",
       "    .dataframe tbody tr th {\n",
       "        vertical-align: top;\n",
       "    }\n",
       "\n",
       "    .dataframe thead th {\n",
       "        text-align: right;\n",
       "    }\n",
       "</style>\n",
       "<table border=\"1\" class=\"dataframe\">\n",
       "  <thead>\n",
       "    <tr style=\"text-align: right;\">\n",
       "      <th></th>\n",
       "      <th>id</th>\n",
       "      <th>title</th>\n",
       "      <th>published_date</th>\n",
       "      <th>num_subscribers</th>\n",
       "      <th>avg_rating</th>\n",
       "      <th>num_reviews</th>\n",
       "      <th>num_lectures</th>\n",
       "      <th>discount_price_SGD</th>\n",
       "      <th>full_price_SGD</th>\n",
       "    </tr>\n",
       "  </thead>\n",
       "  <tbody>\n",
       "    <tr>\n",
       "      <th>13608</th>\n",
       "      <td>362328</td>\n",
       "      <td>AWS Certified Solutions Architect - Associate ...</td>\n",
       "      <td>2015-01-03</td>\n",
       "      <td>564444</td>\n",
       "      <td>4.53732</td>\n",
       "      <td>188941</td>\n",
       "      <td>136</td>\n",
       "      <td>8.19</td>\n",
       "      <td>155.52</td>\n",
       "    </tr>\n",
       "    <tr>\n",
       "      <th>4</th>\n",
       "      <td>637930</td>\n",
       "      <td>An Entire MBA in 1 Course:Award Winning Busine...</td>\n",
       "      <td>2016-01-11</td>\n",
       "      <td>374836</td>\n",
       "      <td>4.47080</td>\n",
       "      <td>41630</td>\n",
       "      <td>83</td>\n",
       "      <td>8.19</td>\n",
       "      <td>155.52</td>\n",
       "    </tr>\n",
       "    <tr>\n",
       "      <th>13609</th>\n",
       "      <td>857010</td>\n",
       "      <td>Learn Ethical Hacking From Scratch</td>\n",
       "      <td>2016-06-20</td>\n",
       "      <td>372902</td>\n",
       "      <td>4.54790</td>\n",
       "      <td>83301</td>\n",
       "      <td>138</td>\n",
       "      <td>8.19</td>\n",
       "      <td>155.52</td>\n",
       "    </tr>\n",
       "    <tr>\n",
       "      <th>0</th>\n",
       "      <td>762616</td>\n",
       "      <td>The Complete SQL Bootcamp 2020: Go from Zero t...</td>\n",
       "      <td>2016-04-06</td>\n",
       "      <td>295509</td>\n",
       "      <td>4.66019</td>\n",
       "      <td>78006</td>\n",
       "      <td>84</td>\n",
       "      <td>8.19</td>\n",
       "      <td>155.52</td>\n",
       "    </tr>\n",
       "    <tr>\n",
       "      <th>13614</th>\n",
       "      <td>437490</td>\n",
       "      <td>The Complete Ethical Hacking Course: Beginner ...</td>\n",
       "      <td>2015-03-19</td>\n",
       "      <td>277382</td>\n",
       "      <td>4.19544</td>\n",
       "      <td>26906</td>\n",
       "      <td>113</td>\n",
       "      <td>8.19</td>\n",
       "      <td>155.52</td>\n",
       "    </tr>\n",
       "  </tbody>\n",
       "</table>\n",
       "</div>"
      ],
      "text/plain": [
       "           id                                              title  \\\n",
       "13608  362328  AWS Certified Solutions Architect - Associate ...   \n",
       "4      637930  An Entire MBA in 1 Course:Award Winning Busine...   \n",
       "13609  857010                 Learn Ethical Hacking From Scratch   \n",
       "0      762616  The Complete SQL Bootcamp 2020: Go from Zero t...   \n",
       "13614  437490  The Complete Ethical Hacking Course: Beginner ...   \n",
       "\n",
       "      published_date  num_subscribers  avg_rating  num_reviews  num_lectures  \\\n",
       "13608     2015-01-03           564444     4.53732       188941           136   \n",
       "4         2016-01-11           374836     4.47080        41630            83   \n",
       "13609     2016-06-20           372902     4.54790        83301           138   \n",
       "0         2016-04-06           295509     4.66019        78006            84   \n",
       "13614     2015-03-19           277382     4.19544        26906           113   \n",
       "\n",
       "       discount_price_SGD  full_price_SGD  \n",
       "13608                8.19          155.52  \n",
       "4                    8.19          155.52  \n",
       "13609                8.19          155.52  \n",
       "0                    8.19          155.52  \n",
       "13614                8.19          155.52  "
      ]
     },
     "execution_count": 125,
     "metadata": {},
     "output_type": "execute_result"
    }
   ],
   "source": [
    "# Looking at the top 5 courses with the most number of subscribers\n",
    "\n",
    "df_2 = df.sort_values('num_subscribers', ascending=False)\n",
    "df_2[['id','title','published_date','num_subscribers','avg_rating','num_reviews','num_lectures'\n",
    "      ,'discount_price_SGD','full_price_SGD']].head(5)"
   ]
  },
  {
   "cell_type": "code",
   "execution_count": 122,
   "metadata": {},
   "outputs": [
    {
     "data": {
      "text/html": [
       "<div>\n",
       "<style scoped>\n",
       "    .dataframe tbody tr th:only-of-type {\n",
       "        vertical-align: middle;\n",
       "    }\n",
       "\n",
       "    .dataframe tbody tr th {\n",
       "        vertical-align: top;\n",
       "    }\n",
       "\n",
       "    .dataframe thead th {\n",
       "        text-align: right;\n",
       "    }\n",
       "</style>\n",
       "<table border=\"1\" class=\"dataframe\">\n",
       "  <thead>\n",
       "    <tr style=\"text-align: right;\">\n",
       "      <th></th>\n",
       "      <th>id</th>\n",
       "      <th>title</th>\n",
       "      <th>published_date</th>\n",
       "      <th>num_subscribers</th>\n",
       "      <th>avg_rating</th>\n",
       "      <th>num_reviews</th>\n",
       "      <th>num_lectures</th>\n",
       "      <th>discount_price_SGD</th>\n",
       "      <th>full_price_SGD</th>\n",
       "    </tr>\n",
       "  </thead>\n",
       "  <tbody>\n",
       "    <tr>\n",
       "      <th>10955</th>\n",
       "      <td>2926552</td>\n",
       "      <td>Not for Profit QuickBooks Desktop vs QuickBook...</td>\n",
       "      <td>2020-04-02</td>\n",
       "      <td>5198</td>\n",
       "      <td>5.0</td>\n",
       "      <td>1</td>\n",
       "      <td>54</td>\n",
       "      <td>8.19</td>\n",
       "      <td>155.52</td>\n",
       "    </tr>\n",
       "    <tr>\n",
       "      <th>10907</th>\n",
       "      <td>2892636</td>\n",
       "      <td>Xero Not for Profit Organization</td>\n",
       "      <td>2020-03-24</td>\n",
       "      <td>5173</td>\n",
       "      <td>5.0</td>\n",
       "      <td>1</td>\n",
       "      <td>34</td>\n",
       "      <td>8.19</td>\n",
       "      <td>155.52</td>\n",
       "    </tr>\n",
       "    <tr>\n",
       "      <th>18611</th>\n",
       "      <td>2319342</td>\n",
       "      <td>How to install an Open Source LMS - Part 2</td>\n",
       "      <td>2019-05-06</td>\n",
       "      <td>4115</td>\n",
       "      <td>5.0</td>\n",
       "      <td>26</td>\n",
       "      <td>24</td>\n",
       "      <td>8.19</td>\n",
       "      <td>23.04</td>\n",
       "    </tr>\n",
       "    <tr>\n",
       "      <th>17894</th>\n",
       "      <td>2596322</td>\n",
       "      <td>Learn Linux commands and Powershell Command in...</td>\n",
       "      <td>2019-10-09</td>\n",
       "      <td>3925</td>\n",
       "      <td>5.0</td>\n",
       "      <td>37</td>\n",
       "      <td>27</td>\n",
       "      <td>8.19</td>\n",
       "      <td>23.04</td>\n",
       "    </tr>\n",
       "    <tr>\n",
       "      <th>22749</th>\n",
       "      <td>3460818</td>\n",
       "      <td>Python Tutorials - Python Crash Course for Beg...</td>\n",
       "      <td>2020-09-08</td>\n",
       "      <td>3912</td>\n",
       "      <td>5.0</td>\n",
       "      <td>3</td>\n",
       "      <td>23</td>\n",
       "      <td>8.19</td>\n",
       "      <td>23.04</td>\n",
       "    </tr>\n",
       "  </tbody>\n",
       "</table>\n",
       "</div>"
      ],
      "text/plain": [
       "            id                                              title  \\\n",
       "10955  2926552  Not for Profit QuickBooks Desktop vs QuickBook...   \n",
       "10907  2892636                   Xero Not for Profit Organization   \n",
       "18611  2319342         How to install an Open Source LMS - Part 2   \n",
       "17894  2596322  Learn Linux commands and Powershell Command in...   \n",
       "22749  3460818  Python Tutorials - Python Crash Course for Beg...   \n",
       "\n",
       "      published_date  num_subscribers  avg_rating  num_reviews  num_lectures  \\\n",
       "10955     2020-04-02             5198         5.0            1            54   \n",
       "10907     2020-03-24             5173         5.0            1            34   \n",
       "18611     2019-05-06             4115         5.0           26            24   \n",
       "17894     2019-10-09             3925         5.0           37            27   \n",
       "22749     2020-09-08             3912         5.0            3            23   \n",
       "\n",
       "       discount_price_SGD  full_price_SGD  \n",
       "10955                8.19          155.52  \n",
       "10907                8.19          155.52  \n",
       "18611                8.19           23.04  \n",
       "17894                8.19           23.04  \n",
       "22749                8.19           23.04  "
      ]
     },
     "execution_count": 122,
     "metadata": {},
     "output_type": "execute_result"
    }
   ],
   "source": [
    "# Looking at the top 5 courses based on average rating and number of subscribers\n",
    "\n",
    "df_3 = df.sort_values(['avg_rating','num_subscribers','num_reviews'], ascending=False)\n",
    "df_3[['id','title','published_date','num_subscribers','avg_rating','num_reviews','num_lectures'\n",
    "      ,'discount_price_SGD','full_price_SGD']].head(5)"
   ]
  },
  {
   "cell_type": "code",
   "execution_count": 37,
   "metadata": {},
   "outputs": [
    {
     "data": {
      "text/plain": [
       "<AxesSubplot:>"
      ]
     },
     "execution_count": 37,
     "metadata": {},
     "output_type": "execute_result"
    },
    {
     "data": {
      "image/png": "[encoded data removed]",
      "text/plain": [
       "<Figure size 864x576 with 2 Axes>"
      ]
     },
     "metadata": {
      "needs_background": "light"
     },
     "output_type": "display_data"
    }
   ],
   "source": [
    "# Using Heatmap to get an idea of the correlation\n",
    "\n",
    "sns.heatmap(df.corr(),cmap='coolwarm')"
   ]
  },
  {
   "cell_type": "code",
   "execution_count": 48,
   "metadata": {},
   "outputs": [
    {
     "data": {
      "text/plain": [
       "<AxesSubplot:xlabel='published_year', ylabel='published_mth'>"
      ]
     },
     "execution_count": 48,
     "metadata": {},
     "output_type": "execute_result"
    },
    {
     "data": {
      "image/png": "[encoded data removed]",
      "text/plain": [
       "<Figure size 864x576 with 2 Axes>"
      ]
     },
     "metadata": {
      "needs_background": "light"
     },
     "output_type": "display_data"
    }
   ],
   "source": [
    "# Does published longer means average rating will be higher?\n",
    "# Plotting average rating against the month and year which the course is published\n",
    "\n",
    "rating_pivot = df.pivot_table(values='avg_rating',index='published_mth',columns='published_year', aggfunc=np.mean)\n",
    "sns.heatmap(rating_pivot,cmap='magma',linecolor='white',linewidths=1, annot=True)"
   ]
  },
  {
   "cell_type": "code",
   "execution_count": 52,
   "metadata": {},
   "outputs": [
    {
     "data": {
      "text/plain": [
       "<AxesSubplot:xlabel='published_year', ylabel='published_mth'>"
      ]
     },
     "execution_count": 52,
     "metadata": {},
     "output_type": "execute_result"
    },
    {
     "data": {
      "image/png": "[encoded data removed]",
      "text/plain": [
       "<Figure size 864x576 with 2 Axes>"
      ]
     },
     "metadata": {
      "needs_background": "light"
     },
     "output_type": "display_data"
    }
   ],
   "source": [
    "# Does published longer means there will be on average higher number of subscribers?\n",
    "# Plotting number of subscribers against the month and year which the course is published\n",
    "\n",
    "subscribers_pivot = df.pivot_table(values='num_subscribers',index='published_mth',columns='published_year', aggfunc=np.mean)\n",
    "sns.heatmap(subscribers_pivot,cmap='coolwarm',linecolor='white',linewidths=1)"
   ]
  },
  {
   "cell_type": "code",
   "execution_count": 103,
   "metadata": {},
   "outputs": [
    {
     "data": {
      "text/plain": [
       "<AxesSubplot:xlabel='full_price_SGD', ylabel='Count'>"
      ]
     },
     "execution_count": 103,
     "metadata": {},
     "output_type": "execute_result"
    },
    {
     "data": {
      "image/png": "[encoded data removed]",
      "text/plain": [
       "<Figure size 2160x1440 with 2 Axes>"
      ]
     },
     "metadata": {
      "needs_background": "light"
     },
     "output_type": "display_data"
    }
   ],
   "source": [
    "## Getting a sense of how the courses are priced\n",
    "\n",
    "fig = plt.figure(figsize=(30,20))\n",
    "\n",
    "# 2 rows, 1 cols - 2 charts\n",
    "plt.subplot(2,1,1)\n",
    "sns.histplot(df.discount_price_SGD)\n",
    "\n",
    "plt.subplot(2,1,2)\n",
    "sns.histplot(df.full_price_SGD,bins=15)"
   ]
  },
  {
   "cell_type": "code",
   "execution_count": 101,
   "metadata": {},
   "outputs": [
    {
     "data": {
      "text/plain": [
       "<AxesSubplot:xlabel='avg_rating'>"
      ]
     },
     "execution_count": 101,
     "metadata": {},
     "output_type": "execute_result"
    },
    {
     "data": {
      "image/png": "[encoded data removed]",
      "text/plain": [
       "<Figure size 864x576 with 1 Axes>"
      ]
     },
     "metadata": {
      "needs_background": "light"
     },
     "output_type": "display_data"
    }
   ],
   "source": [
    "# Boxplot of average rating\n",
    "\n",
    "sns.boxplot(x=\"avg_rating\",data=df,palette='rainbow')"
   ]
  },
  {
   "cell_type": "code",
   "execution_count": 82,
   "metadata": {},
   "outputs": [
    {
     "data": {
      "text/plain": [
       "<seaborn.axisgrid.FacetGrid at 0x22008926548>"
      ]
     },
     "execution_count": 82,
     "metadata": {},
     "output_type": "execute_result"
    },
    {
     "data": {
      "image/png": "[encoded data removed]",
      "text/plain": [
       "<Figure size 720x360 with 2 Axes>"
      ]
     },
     "metadata": {
      "needs_background": "light"
     },
     "output_type": "display_data"
    }
   ],
   "source": [
    "# Boxplot based on published year for average rating split by whether it is paid course\n",
    "\n",
    "sns.catplot(x=\"published_year\", y=\"avg_rating\", data=df, col=\"is_paid\", kind=\"box\",palette=\"Set2\")"
   ]
  },
  {
   "cell_type": "code",
   "execution_count": 85,
   "metadata": {},
   "outputs": [
    {
     "data": {
      "text/plain": [
       "<AxesSubplot:xlabel='published_year', ylabel='num_subscribers'>"
      ]
     },
     "execution_count": 85,
     "metadata": {},
     "output_type": "execute_result"
    },
    {
     "data": {
      "image/png": "[encoded data removed]",
      "text/plain": [
       "<Figure size 864x576 with 1 Axes>"
      ]
     },
     "metadata": {
      "needs_background": "light"
     },
     "output_type": "display_data"
    }
   ],
   "source": [
    "# Boxplot based on published year for number of subscribers\n",
    "\n",
    "sns.boxplot(x=\"published_year\", y=\"num_subscribers\", data=df, palette=\"coolwarm\")"
   ]
  },
  {
   "cell_type": "markdown",
   "metadata": {},
   "source": [
    "Visualisation:\n",
    "1. Average number of subscribers \n",
    "2. Correlation between the features (Heatmap)\n",
    "3. Average rating Paid vs free course (Box plot) - discount or not\n",
    "4. Avg_rating vs num_subcribers (Scatterplot)\n",
    "5. Avg_rating vs num_of_test (Scatterplot)\n",
    "6. Avg_rating vs num_of_lessons (Scatterplot)\n",
    "7. Dashboard - Histogram for number of test | number of reviews | number of lectures | Price range\n",
    "8. Wordmap\n"
   ]
  },
  {
   "cell_type": "code",
   "execution_count": 21,
   "metadata": {},
   "outputs": [
    {
     "data": {
      "text/html": [
       "<div>\n",
       "<style scoped>\n",
       "    .dataframe tbody tr th:only-of-type {\n",
       "        vertical-align: middle;\n",
       "    }\n",
       "\n",
       "    .dataframe tbody tr th {\n",
       "        vertical-align: top;\n",
       "    }\n",
       "\n",
       "    .dataframe thead th {\n",
       "        text-align: right;\n",
       "    }\n",
       "</style>\n",
       "<table border=\"1\" class=\"dataframe\">\n",
       "  <thead>\n",
       "    <tr style=\"text-align: right;\">\n",
       "      <th></th>\n",
       "      <th>id</th>\n",
       "      <th>title</th>\n",
       "      <th>url</th>\n",
       "      <th>is_paid</th>\n",
       "      <th>num_subscribers</th>\n",
       "      <th>avg_rating</th>\n",
       "      <th>avg_rating_recent</th>\n",
       "      <th>rating</th>\n",
       "      <th>num_reviews</th>\n",
       "      <th>num_lectures</th>\n",
       "      <th>...</th>\n",
       "      <th>discount_price_INR</th>\n",
       "      <th>full_price_INR</th>\n",
       "      <th>created_year</th>\n",
       "      <th>created_mth</th>\n",
       "      <th>created_day</th>\n",
       "      <th>published_year</th>\n",
       "      <th>published_mth</th>\n",
       "      <th>published_day</th>\n",
       "      <th>discount_price_SGD</th>\n",
       "      <th>full_price_SGD</th>\n",
       "    </tr>\n",
       "  </thead>\n",
       "  <tbody>\n",
       "    <tr>\n",
       "      <th>0</th>\n",
       "      <td>762616</td>\n",
       "      <td>The Complete SQL Bootcamp 2020: Go from Zero t...</td>\n",
       "      <td>/course/the-complete-sql-bootcamp/</td>\n",
       "      <td>True</td>\n",
       "      <td>295509</td>\n",
       "      <td>4.66019</td>\n",
       "      <td>4.67874</td>\n",
       "      <td>4.67874</td>\n",
       "      <td>78006</td>\n",
       "      <td>84</td>\n",
       "      <td>...</td>\n",
       "      <td>455.0</td>\n",
       "      <td>8640.0</td>\n",
       "      <td>2016</td>\n",
       "      <td>2</td>\n",
       "      <td>14</td>\n",
       "      <td>2016</td>\n",
       "      <td>4</td>\n",
       "      <td>6</td>\n",
       "      <td>8.19</td>\n",
       "      <td>155.52</td>\n",
       "    </tr>\n",
       "    <tr>\n",
       "      <th>1</th>\n",
       "      <td>937678</td>\n",
       "      <td>Tableau 2020 A-Z: Hands-On Tableau Training fo...</td>\n",
       "      <td>/course/tableau10/</td>\n",
       "      <td>True</td>\n",
       "      <td>209070</td>\n",
       "      <td>4.58956</td>\n",
       "      <td>4.60015</td>\n",
       "      <td>4.60015</td>\n",
       "      <td>54581</td>\n",
       "      <td>78</td>\n",
       "      <td>...</td>\n",
       "      <td>455.0</td>\n",
       "      <td>8640.0</td>\n",
       "      <td>2016</td>\n",
       "      <td>8</td>\n",
       "      <td>22</td>\n",
       "      <td>2016</td>\n",
       "      <td>8</td>\n",
       "      <td>23</td>\n",
       "      <td>8.19</td>\n",
       "      <td>155.52</td>\n",
       "    </tr>\n",
       "  </tbody>\n",
       "</table>\n",
       "<p>2 rows × 23 columns</p>\n",
       "</div>"
      ],
      "text/plain": [
       "       id                                              title  \\\n",
       "0  762616  The Complete SQL Bootcamp 2020: Go from Zero t...   \n",
       "1  937678  Tableau 2020 A-Z: Hands-On Tableau Training fo...   \n",
       "\n",
       "                                  url  is_paid  num_subscribers  avg_rating  \\\n",
       "0  /course/the-complete-sql-bootcamp/     True           295509     4.66019   \n",
       "1                  /course/tableau10/     True           209070     4.58956   \n",
       "\n",
       "   avg_rating_recent   rating  num_reviews  num_lectures  ...  \\\n",
       "0            4.67874  4.67874        78006            84  ...   \n",
       "1            4.60015  4.60015        54581            78  ...   \n",
       "\n",
       "   discount_price_INR full_price_INR created_year  created_mth  created_day  \\\n",
       "0               455.0         8640.0         2016            2           14   \n",
       "1               455.0         8640.0         2016            8           22   \n",
       "\n",
       "   published_year  published_mth  published_day  discount_price_SGD  \\\n",
       "0            2016              4              6                8.19   \n",
       "1            2016              8             23                8.19   \n",
       "\n",
       "   full_price_SGD  \n",
       "0          155.52  \n",
       "1          155.52  \n",
       "\n",
       "[2 rows x 23 columns]"
      ]
     },
     "execution_count": 21,
     "metadata": {},
     "output_type": "execute_result"
    }
   ],
   "source": [
    "# View data\n",
    "\n",
    "df.head(2)"
   ]
  },
  {
   "cell_type": "code",
   "execution_count": null,
   "metadata": {},
   "outputs": [],
   "source": []
  },
  {
   "cell_type": "code",
   "execution_count": null,
   "metadata": {},
   "outputs": [],
   "source": []
  },
  {
   "cell_type": "code",
   "execution_count": null,
   "metadata": {},
   "outputs": [],
   "source": []
  },
  {
   "cell_type": "code",
   "execution_count": null,
   "metadata": {},
   "outputs": [],
   "source": []
  },
  {
   "cell_type": "code",
   "execution_count": 20,
   "metadata": {},
   "outputs": [
    {
     "data": {
      "text/plain": [
       "[True, False]"
      ]
     },
     "execution_count": 20,
     "metadata": {},
     "output_type": "execute_result"
    }
   ],
   "source": [
    "mylist = list(df.is_paid.unique())\n",
    "mylist"
   ]
  }
 ],
 "metadata": {
  "kernelspec": {
   "display_name": "Python 3",
   "language": "python",
   "name": "python3"
  },
  "language_info": {
   "codemirror_mode": {
    "name": "ipython",
    "version": 3
   },
   "file_extension": ".py",
   "mimetype": "text/x-python",
   "name": "python",
   "nbconvert_exporter": "python",
   "pygments_lexer": "ipython3",
   "version": "3.7.10"
  }
 },
 "nbformat": 4,
 "nbformat_minor": 2
}
